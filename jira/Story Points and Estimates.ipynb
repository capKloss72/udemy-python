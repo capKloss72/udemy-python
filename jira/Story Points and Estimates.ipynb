{
 "cells": [
  {
   "cell_type": "code",
   "execution_count": 2,
   "metadata": {
    "collapsed": true
   },
   "outputs": [],
   "source": [
    "\"\"\"\n",
    "customfield_10124 = Story Points\n",
    "customfield_10010 = Sprint\n",
    "\"\"\"\n",
    "from jira import JIRA\n",
    "jira = JIRA('https://hptechco.atlassian.net', basic_auth=('tym.zon', 'Nemesis72'))"
   ]
  },
  {
   "cell_type": "code",
   "execution_count": null,
   "metadata": {
    "collapsed": true
   },
   "outputs": [],
   "source": []
  },
  {
   "cell_type": "code",
   "execution_count": 180,
   "metadata": {},
   "outputs": [
    {
     "data": {
      "text/plain": [
       "'COMTEST-194'"
      ]
     },
     "execution_count": 180,
     "metadata": {},
     "output_type": "execute_result"
    }
   ],
   "source": [
    "issue = jira.issue('COMTEST-194')\n",
    "timespent = issue.fields.timespent\n",
    "remaining_estimate = issue.fields.progress\n",
    "#story_points= issue.fields.customfield_10124\n",
    "issue.key"
   ]
  },
  {
   "cell_type": "code",
   "execution_count": 70,
   "metadata": {},
   "outputs": [],
   "source": [
    "issues = jira.search_issues('project = DMCS AND status = Closed', startAt=0, maxResults=3000)"
   ]
  },
  {
   "cell_type": "code",
   "execution_count": 185,
   "metadata": {},
   "outputs": [
    {
     "ename": "ValueError",
     "evalue": "Wrong number of items passed 4, placement implies 3",
     "output_type": "error",
     "traceback": [
      "\u001b[1;31m---------------------------------------------------------------------------\u001b[0m",
      "\u001b[1;31mValueError\u001b[0m                                Traceback (most recent call last)",
      "\u001b[1;32m<ipython-input-185-118aa80d8449>\u001b[0m in \u001b[0;36m<module>\u001b[1;34m()\u001b[0m\n\u001b[0;32m      1\u001b[0m \u001b[0mtest\u001b[0m \u001b[1;33m=\u001b[0m \u001b[1;33m[\u001b[0m\u001b[1;36m1\u001b[0m\u001b[1;33m,\u001b[0m\u001b[1;36m2\u001b[0m\u001b[1;33m,\u001b[0m\u001b[1;36m3\u001b[0m\u001b[1;33m,\u001b[0m\u001b[1;36m4\u001b[0m\u001b[1;33m]\u001b[0m\u001b[1;33m\u001b[0m\u001b[0m\n\u001b[0;32m      2\u001b[0m \u001b[0minx\u001b[0m \u001b[1;33m=\u001b[0m \u001b[1;33m[\u001b[0m\u001b[1;34m'a'\u001b[0m\u001b[1;33m,\u001b[0m\u001b[1;34m'b'\u001b[0m\u001b[1;33m,\u001b[0m\u001b[1;34m'c'\u001b[0m\u001b[1;33m]\u001b[0m\u001b[1;33m\u001b[0m\u001b[0m\n\u001b[1;32m----> 3\u001b[1;33m \u001b[0ms\u001b[0m \u001b[1;33m=\u001b[0m \u001b[0mSeries\u001b[0m\u001b[1;33m(\u001b[0m\u001b[0mtest\u001b[0m\u001b[1;33m,\u001b[0m \u001b[0mindex\u001b[0m\u001b[1;33m=\u001b[0m\u001b[0minx\u001b[0m\u001b[1;33m)\u001b[0m\u001b[1;33m\u001b[0m\u001b[0m\n\u001b[0m\u001b[0;32m      4\u001b[0m \u001b[0mDataFrame\u001b[0m\u001b[1;33m(\u001b[0m\u001b[0ms\u001b[0m\u001b[1;33m,\u001b[0m\u001b[0mcolumns\u001b[0m\u001b[1;33m=\u001b[0m\u001b[1;33m[\u001b[0m\u001b[1;34m'Story Points'\u001b[0m\u001b[1;33m]\u001b[0m\u001b[1;33m)\u001b[0m\u001b[1;33m\u001b[0m\u001b[0m\n",
      "\u001b[1;32mC:\\code\\Anaconda3\\lib\\site-packages\\pandas\\core\\series.py\u001b[0m in \u001b[0;36m__init__\u001b[1;34m(self, data, index, dtype, name, copy, fastpath)\u001b[0m\n\u001b[0;32m    264\u001b[0m                                        raise_cast_failure=True)\n\u001b[0;32m    265\u001b[0m \u001b[1;33m\u001b[0m\u001b[0m\n\u001b[1;32m--> 266\u001b[1;33m                 \u001b[0mdata\u001b[0m \u001b[1;33m=\u001b[0m \u001b[0mSingleBlockManager\u001b[0m\u001b[1;33m(\u001b[0m\u001b[0mdata\u001b[0m\u001b[1;33m,\u001b[0m \u001b[0mindex\u001b[0m\u001b[1;33m,\u001b[0m \u001b[0mfastpath\u001b[0m\u001b[1;33m=\u001b[0m\u001b[1;32mTrue\u001b[0m\u001b[1;33m)\u001b[0m\u001b[1;33m\u001b[0m\u001b[0m\n\u001b[0m\u001b[0;32m    267\u001b[0m \u001b[1;33m\u001b[0m\u001b[0m\n\u001b[0;32m    268\u001b[0m         \u001b[0mgeneric\u001b[0m\u001b[1;33m.\u001b[0m\u001b[0mNDFrame\u001b[0m\u001b[1;33m.\u001b[0m\u001b[0m__init__\u001b[0m\u001b[1;33m(\u001b[0m\u001b[0mself\u001b[0m\u001b[1;33m,\u001b[0m \u001b[0mdata\u001b[0m\u001b[1;33m,\u001b[0m \u001b[0mfastpath\u001b[0m\u001b[1;33m=\u001b[0m\u001b[1;32mTrue\u001b[0m\u001b[1;33m)\u001b[0m\u001b[1;33m\u001b[0m\u001b[0m\n",
      "\u001b[1;32mC:\\code\\Anaconda3\\lib\\site-packages\\pandas\\core\\internals.py\u001b[0m in \u001b[0;36m__init__\u001b[1;34m(self, block, axis, do_integrity_check, fastpath)\u001b[0m\n\u001b[0;32m   4400\u001b[0m         \u001b[1;32mif\u001b[0m \u001b[1;32mnot\u001b[0m \u001b[0misinstance\u001b[0m\u001b[1;33m(\u001b[0m\u001b[0mblock\u001b[0m\u001b[1;33m,\u001b[0m \u001b[0mBlock\u001b[0m\u001b[1;33m)\u001b[0m\u001b[1;33m:\u001b[0m\u001b[1;33m\u001b[0m\u001b[0m\n\u001b[0;32m   4401\u001b[0m             block = make_block(block, placement=slice(0, len(axis)), ndim=1,\n\u001b[1;32m-> 4402\u001b[1;33m                                fastpath=True)\n\u001b[0m\u001b[0;32m   4403\u001b[0m \u001b[1;33m\u001b[0m\u001b[0m\n\u001b[0;32m   4404\u001b[0m         \u001b[0mself\u001b[0m\u001b[1;33m.\u001b[0m\u001b[0mblocks\u001b[0m \u001b[1;33m=\u001b[0m \u001b[1;33m[\u001b[0m\u001b[0mblock\u001b[0m\u001b[1;33m]\u001b[0m\u001b[1;33m\u001b[0m\u001b[0m\n",
      "\u001b[1;32mC:\\code\\Anaconda3\\lib\\site-packages\\pandas\\core\\internals.py\u001b[0m in \u001b[0;36mmake_block\u001b[1;34m(values, placement, klass, ndim, dtype, fastpath)\u001b[0m\n\u001b[0;32m   2955\u001b[0m                      placement=placement, dtype=dtype)\n\u001b[0;32m   2956\u001b[0m \u001b[1;33m\u001b[0m\u001b[0m\n\u001b[1;32m-> 2957\u001b[1;33m     \u001b[1;32mreturn\u001b[0m \u001b[0mklass\u001b[0m\u001b[1;33m(\u001b[0m\u001b[0mvalues\u001b[0m\u001b[1;33m,\u001b[0m \u001b[0mndim\u001b[0m\u001b[1;33m=\u001b[0m\u001b[0mndim\u001b[0m\u001b[1;33m,\u001b[0m \u001b[0mfastpath\u001b[0m\u001b[1;33m=\u001b[0m\u001b[0mfastpath\u001b[0m\u001b[1;33m,\u001b[0m \u001b[0mplacement\u001b[0m\u001b[1;33m=\u001b[0m\u001b[0mplacement\u001b[0m\u001b[1;33m)\u001b[0m\u001b[1;33m\u001b[0m\u001b[0m\n\u001b[0m\u001b[0;32m   2958\u001b[0m \u001b[1;33m\u001b[0m\u001b[0m\n\u001b[0;32m   2959\u001b[0m \u001b[1;31m# TODO: flexible with index=None and/or items=None\u001b[0m\u001b[1;33m\u001b[0m\u001b[1;33m\u001b[0m\u001b[0m\n",
      "\u001b[1;32mC:\\code\\Anaconda3\\lib\\site-packages\\pandas\\core\\internals.py\u001b[0m in \u001b[0;36m__init__\u001b[1;34m(self, values, placement, ndim, fastpath)\u001b[0m\n\u001b[0;32m    118\u001b[0m             raise ValueError('Wrong number of items passed %d, placement '\n\u001b[0;32m    119\u001b[0m                              'implies %d' % (len(self.values),\n\u001b[1;32m--> 120\u001b[1;33m                                              len(self.mgr_locs)))\n\u001b[0m\u001b[0;32m    121\u001b[0m \u001b[1;33m\u001b[0m\u001b[0m\n\u001b[0;32m    122\u001b[0m     \u001b[1;33m@\u001b[0m\u001b[0mproperty\u001b[0m\u001b[1;33m\u001b[0m\u001b[0m\n",
      "\u001b[1;31mValueError\u001b[0m: Wrong number of items passed 4, placement implies 3"
     ]
    }
   ],
   "source": [
    "test = [1,2,3,4]\n",
    "inx = ['a','b','c']\n",
    "s = Series(test, index=inx)\n",
    "DataFrame(s,columns=['Story Points'])"
   ]
  },
  {
   "cell_type": "code",
   "execution_count": 182,
   "metadata": {
    "collapsed": true
   },
   "outputs": [],
   "source": [
    "import re\n",
    "import numpy as np\n",
    "import pandas as pd\n",
    "from pandas import Series, DataFrame"
   ]
  },
  {
   "cell_type": "code",
   "execution_count": 198,
   "metadata": {},
   "outputs": [
    {
     "data": {
      "text/plain": [
       "0     1.0\n",
       "1     1.0\n",
       "2     0.5\n",
       "3     3.0\n",
       "4     2.0\n",
       "5     5.0\n",
       "6     0.5\n",
       "7     0.0\n",
       "8     1.0\n",
       "9     1.0\n",
       "10    0.5\n",
       "11    3.0\n",
       "12    2.0\n",
       "13    0.5\n",
       "14    1.0\n",
       "15    1.0\n",
       "16    1.0\n",
       "17    2.0\n",
       "18    3.0\n",
       "19    5.0\n",
       "20    1.0\n",
       "21    3.0\n",
       "22    2.0\n",
       "23    0.5\n",
       "24    1.0\n",
       "25    4.0\n",
       "26    2.0\n",
       "27    3.0\n",
       "28    2.0\n",
       "29    2.0\n",
       "     ... \n",
       "39    3.0\n",
       "40    2.0\n",
       "41    1.0\n",
       "42    2.0\n",
       "43    0.5\n",
       "44    3.0\n",
       "45    2.0\n",
       "46    1.0\n",
       "47    1.0\n",
       "48    0.5\n",
       "49    0.5\n",
       "50    0.5\n",
       "51    2.0\n",
       "52    2.0\n",
       "53    2.0\n",
       "54    1.0\n",
       "55    3.0\n",
       "56    2.0\n",
       "57    3.0\n",
       "58    1.0\n",
       "59    1.0\n",
       "60    0.5\n",
       "61    0.5\n",
       "62    0.5\n",
       "63    3.0\n",
       "64    2.0\n",
       "65    2.0\n",
       "66    0.5\n",
       "67    2.0\n",
       "68    3.0\n",
       "Length: 69, dtype: float64"
      ]
     },
     "execution_count": 198,
     "metadata": {},
     "output_type": "execute_result"
    }
   ],
   "source": [
    "sp = []\n",
    "days = []\n",
    "keys = []\n",
    "sprints = []\n",
    "diff = []\n",
    "\n",
    "for issue in issues:\n",
    "    count = 0\n",
    "    if issue.fields.issuetype.name == 'Story':\n",
    "        story = issue.fields.customfield_10124\n",
    "        time = (issue.fields.timespent)\n",
    "        sprint = issue.fields.customfield_10122\n",
    "        if story is not None and time is not None:\n",
    "            user_stories.append(int(issue.fields.customfield_10124))\n",
    "            time_spent_days.append(int(time/3600))\n",
    "            if len(sprint) > 0:\n",
    "                s = str(sprint[0])\n",
    "                lst = s.split(\",\")\n",
    "                totals.append({'user_story_points':issue.fields.customfield_10124,\n",
    "                              'time_in_days':(time/3600),\n",
    "                              'sprint_name':lst[3],\n",
    "                              'key':issue.key})\n",
    "                sp.append(story)\n",
    "                days.append(time/3600)\n",
    "                diff.append(story-(time/3600))\n",
    "                sprints.append(count)\n",
    "                keys.append(issue.key)\n",
    "                count = count + 1\n",
    "                 \n",
    "\n",
    "s = Series(sp)\n",
    "s"
   ]
  },
  {
   "cell_type": "code",
   "execution_count": 121,
   "metadata": {},
   "outputs": [
    {
     "data": {
      "image/png": "[encoded data removed]",
      "text/plain": [
       "<matplotlib.figure.Figure at 0x1c8bc2c84e0>"
      ]
     },
     "metadata": {},
     "output_type": "display_data"
    },
    {
     "data": {
      "image/png": "[encoded data removed]",
      "text/plain": [
       "<matplotlib.figure.Figure at 0x1c8bc336d68>"
      ]
     },
     "metadata": {},
     "output_type": "display_data"
    },
    {
     "data": {
      "image/png": "[encoded data removed]",
      "text/plain": [
       "<matplotlib.figure.Figure at 0x1c8bd423e10>"
      ]
     },
     "metadata": {},
     "output_type": "display_data"
    }
   ],
   "source": [
    "import numpy as np\n",
    "import matplotlib.pyplot as plt\n",
    " \n",
    "\n",
    "    \n",
    "# Create data\n",
    "N = 500\n",
    "x = time_spent_days\n",
    "y = user_stories\n",
    "colors = (0,0,0)\n",
    "area = 10\n",
    " \n",
    "# Plot\n",
    "plt.scatter(x, y, s=area, c=colors, alpha=0.5)\n",
    "plt.title('Scatter plot pythonspot.com')\n",
    "plt.xlabel('x')\n",
    "plt.ylabel('y')\n",
    "plt.show()\n"
   ]
  },
  {
   "cell_type": "code",
   "execution_count": 141,
   "metadata": {},
   "outputs": [
    {
     "name": "stderr",
     "output_type": "stream",
     "text": [
      "C:\\code\\Anaconda3\\lib\\site-packages\\matplotlib\\cbook\\deprecation.py:106: MatplotlibDeprecationWarning:\n",
      "\n",
      "The axisbg attribute was deprecated in version 2.0. Use facecolor instead.\n",
      "\n"
     ]
    },
    {
     "ename": "TypeError",
     "evalue": "'float' object is not iterable",
     "output_type": "error",
     "traceback": [
      "\u001b[1;31m---------------------------------------------------------------------------\u001b[0m",
      "\u001b[1;31mTypeError\u001b[0m                                 Traceback (most recent call last)",
      "\u001b[1;32m<ipython-input-141-71dff44c8621>\u001b[0m in \u001b[0;36m<module>\u001b[1;34m()\u001b[0m\n\u001b[0;32m     17\u001b[0m \u001b[1;33m\u001b[0m\u001b[0m\n\u001b[0;32m     18\u001b[0m \u001b[1;32mfor\u001b[0m \u001b[0mdata\u001b[0m\u001b[1;33m,\u001b[0m \u001b[0mcolor\u001b[0m\u001b[1;33m,\u001b[0m \u001b[0mgroup\u001b[0m \u001b[1;32min\u001b[0m \u001b[0mzip\u001b[0m\u001b[1;33m(\u001b[0m\u001b[0mdata\u001b[0m\u001b[1;33m,\u001b[0m \u001b[0mcolors\u001b[0m\u001b[1;33m,\u001b[0m \u001b[0mgroups\u001b[0m\u001b[1;33m)\u001b[0m\u001b[1;33m:\u001b[0m\u001b[1;33m\u001b[0m\u001b[0m\n\u001b[1;32m---> 19\u001b[1;33m     \u001b[0mx\u001b[0m\u001b[1;33m,\u001b[0m \u001b[0my\u001b[0m \u001b[1;33m=\u001b[0m \u001b[0mdata\u001b[0m\u001b[1;33m\u001b[0m\u001b[0m\n\u001b[0m\u001b[0;32m     20\u001b[0m     \u001b[1;31m#ax.scatter(x, y, alpha=0.8, c=color, edgecolors='none', s=75, label=group)\u001b[0m\u001b[1;33m\u001b[0m\u001b[1;33m\u001b[0m\u001b[0m\n\u001b[0;32m     21\u001b[0m \u001b[1;33m\u001b[0m\u001b[0m\n",
      "\u001b[1;31mTypeError\u001b[0m: 'float' object is not iterable"
     ]
    }
   ],
   "source": [
    "import numpy as np\n",
    "import matplotlib.pyplot as plt\n",
    " \n",
    "# Create data\n",
    "N = 60\n",
    "g1 = (story_points, time_spent_days)\n",
    "#g2 = (tuple(time_spent_days))\n",
    "#g3 = (time_spent_days)\n",
    "\n",
    "data = (g1)\n",
    "colors = (\"red\")\n",
    "groups = (\"points\") \n",
    " \n",
    "# Create plot\n",
    "fig = plt.figure()\n",
    "ax = fig.add_subplot(1, 1, 1, axisbg=\"1.0\")\n",
    " \n",
    "for data, color, group in zip(data, colors, groups):\n",
    "    x, y = data\n",
    "    #ax.scatter(x, y, alpha=0.8, c=color, edgecolors='none', s=75, label=group)\n",
    " \n",
    "plt.title('Matplot scatter plot')\n",
    "plt.legend(loc=2)\n",
    "plt.show()"
   ]
  },
  {
   "cell_type": "code",
   "execution_count": 138,
   "metadata": {},
   "outputs": [
    {
     "name": "stderr",
     "output_type": "stream",
     "text": [
      "C:\\code\\Anaconda3\\lib\\site-packages\\matplotlib\\cbook\\deprecation.py:106: MatplotlibDeprecationWarning:\n",
      "\n",
      "The axisbg attribute was deprecated in version 2.0. Use facecolor instead.\n",
      "\n"
     ]
    },
    {
     "data": {
      "image/png": "[encoded data removed]",
      "text/plain": [
       "<matplotlib.figure.Figure at 0x1c8bc03f898>"
      ]
     },
     "metadata": {},
     "output_type": "display_data"
    },
    {
     "data": {
      "text/plain": [
       "(array([ 1.07909185,  0.94938251,  0.76411099,  0.70554541,  0.67104626,\n",
       "         1.08270419,  1.01148479,  1.07035198,  1.01432463,  1.09768406,\n",
       "         0.9878972 ,  1.1979009 ,  1.13848832,  0.68794792,  1.15988086,\n",
       "         0.87606999,  0.80760591,  0.88229179,  1.08142114,  0.96908542,\n",
       "         0.74844616,  1.12254199,  1.18534472,  1.17877093,  0.92348838,\n",
       "         1.1061761 ,  0.84456468,  0.66541281,  0.81475336,  0.89278236,\n",
       "         0.74657359,  1.12681688,  0.93771493,  0.76173791,  1.1121306 ,\n",
       "         1.14203913,  1.19833712,  1.09759139,  1.01939098,  0.77093027,\n",
       "         0.96365609,  0.76954245,  0.80762529,  0.98350787,  0.62368651,\n",
       "         0.88066678,  0.63898603,  0.80423437,  0.97976368,  0.97940041,\n",
       "         1.14641743,  0.83392363,  0.7870724 ,  0.64101533,  0.78307844,\n",
       "         0.81667433,  1.1399964 ,  0.66742632,  1.11324411,  1.03782267]),\n",
       " array([ 0.99803679,  0.92222465,  0.43563541,  0.90777501,  0.00986292,\n",
       "         0.43906675,  0.28347084,  0.98785197,  0.19019736,  0.19917785,\n",
       "         0.64636908,  0.77314878,  0.1410653 ,  0.6347783 ,  0.46945104,\n",
       "         0.82936284,  0.05059813,  0.23279521,  0.07010392,  0.47784363,\n",
       "         0.12644398,  0.20129013,  0.22842815,  0.25200147,  0.58659216,\n",
       "         0.66841191,  0.7009468 ,  0.38187447,  0.80789846,  0.64650865,\n",
       "         0.8417347 ,  0.58082302,  0.73689638,  0.87378369,  0.67580096,\n",
       "         0.10257692,  0.53349802,  0.68810131,  0.22234938,  0.80905914,\n",
       "         0.90822135,  0.54498876,  0.77431424,  0.2753644 ,  0.32874777,\n",
       "         0.6685656 ,  0.40104368,  0.00329306,  0.16818409,  0.54483779,\n",
       "         0.13116267,  0.21095148,  0.42907235,  0.10434375,  0.73203233,\n",
       "         0.14500852,  0.0324688 ,  0.66268687,  0.25460048,  0.98047545]))"
      ]
     },
     "execution_count": 138,
     "metadata": {},
     "output_type": "execute_result"
    }
   ],
   "source": [
    "import numpy as np\n",
    "import matplotlib.pyplot as plt\n",
    " \n",
    "# Create data\n",
    "N = 60\n",
    "g1 = (0.6 + 0.6 * np.random.rand(N), np.random.rand(N))\n",
    "g2 = (0.4+0.3 * np.random.rand(N), 0.5*np.random.rand(N))\n",
    "g3 = (0.3*np.random.rand(N),0.3*np.random.rand(N))\n",
    " \n",
    "\n",
    "    \n",
    "data = (g1, g2, g3)\n",
    "colors = (\"red\", \"green\", \"blue\")\n",
    "groups = (\"coffee\", \"tea\", \"water\") \n",
    " \n",
    "# Create plot\n",
    "fig = plt.figure()\n",
    "ax = fig.add_subplot(1, 1, 1, axisbg=\"1.0\")\n",
    " \n",
    "for data, color, group in zip(data, colors, groups):\n",
    "    x, y = data\n",
    "    ax.scatter(x, y, alpha=0.8, c=color, edgecolors='none', s=30, label=group)\n",
    " \n",
    "plt.title('Matplot scatter plot')\n",
    "plt.legend(loc=2)\n",
    "plt.show()\n",
    "\n",
    "g1"
   ]
  },
  {
   "cell_type": "code",
   "execution_count": 148,
   "metadata": {},
   "outputs": [
    {
     "data": {
      "image/png": "[encoded data removed]",
      "text/plain": [
       "<matplotlib.figure.Figure at 0x1c8b825c588>"
      ]
     },
     "metadata": {},
     "output_type": "display_data"
    },
    {
     "data": {
      "image/png": "[encoded data removed]",
      "text/plain": [
       "<matplotlib.figure.Figure at 0x1c8bd4deeb8>"
      ]
     },
     "metadata": {},
     "output_type": "display_data"
    }
   ],
   "source": [
    "import matplotlib.pyplot as plt\n",
    "\n",
    "x = [1,2,3,4,5,6,7,8]\n",
    "y = [5,2,4,2,1,4,5,2]\n",
    "\n",
    "plt.scatter(time_spent_days,user_stories, label='skitscat', color='k', s=75, marker=\"o\")\n",
    "\n",
    "plt.xlabel('x')\n",
    "plt.ylabel('y')\n",
    "plt.title('Interesting Graph\\nCheck it out')\n",
    "plt.legend()\n",
    "plt.show()"
   ]
  },
  {
   "cell_type": "code",
   "execution_count": 72,
   "metadata": {},
   "outputs": [
    {
     "data": {
      "text/plain": [
       "'ComMR_Sandpit'"
      ]
     },
     "execution_count": 72,
     "metadata": {},
     "output_type": "execute_result"
    }
   ],
   "source": [
    "project.name"
   ]
  },
  {
   "cell_type": "code",
   "execution_count": null,
   "metadata": {
    "collapsed": true
   },
   "outputs": [],
   "source": []
  },
  {
   "cell_type": "code",
   "execution_count": null,
   "metadata": {
    "collapsed": true
   },
   "outputs": [],
   "source": []
  }
 ],
 "metadata": {
  "kernelspec": {
   "display_name": "Python 3",
   "language": "python",
   "name": "python3"
  },
  "language_info": {
   "codemirror_mode": {
    "name": "ipython",
    "version": 3
   },
   "file_extension": ".py",
   "mimetype": "text/x-python",
   "name": "python",
   "nbconvert_exporter": "python",
   "pygments_lexer": "ipython3",
   "version": "3.6.3"
  }
 },
 "nbformat": 4,
 "nbformat_minor": 2
}
