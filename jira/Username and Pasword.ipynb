{
 "cells": [
  {
   "cell_type": "code",
   "execution_count": 1,
   "metadata": {
    "collapsed": true
   },
   "outputs": [],
   "source": [
    "from jira import JIRA\n",
    "jira = JIRA('https://tymekzon.atlassian.net', basic_auth=('tym.zon', 'Nemesis72'))\n",
    "#story_poits_id = 10019"
   ]
  },
  {
   "cell_type": "code",
   "execution_count": 21,
   "metadata": {},
   "outputs": [
    {
     "name": "stdout",
     "output_type": "stream",
     "text": [
      "Summary ali.filmur\n",
      "Summary 1.0\n"
     ]
    }
   ],
   "source": [
    "issue = jira.issue('ECDEV-1')\n",
    "print(\"Summary \" + issue.fields.assignee.name)\n",
    "print(\"Summary \" + str(issue.fields.customfield_10019))"
   ]
  },
  {
   "cell_type": "code",
   "execution_count": 2,
   "metadata": {},
   "outputs": [
    {
     "data": {
      "text/plain": [
       "{'ali.filmur', 'john.smith', 'mary.jones', 'tym.zon'}"
      ]
     },
     "execution_count": 2,
     "metadata": {},
     "output_type": "execute_result"
    }
   ],
   "source": [
    "projects = jira.projects()\n",
    "users_in_project = set()\n",
    "for project in projects:\n",
    "    try:\n",
    "        for issue in jira.search_issues('project='+project.key):\n",
    "            users_in_project.add(issue.fields.assignee.name)\n",
    "    except:\n",
    "        users_in_project.add('unassigned')\n",
    "\n",
    "users_in_project"
   ]
  },
  {
   "cell_type": "code",
   "execution_count": 76,
   "metadata": {},
   "outputs": [
    {
     "name": "stdout",
     "output_type": "stream",
     "text": [
      "Issuse: Last issue in 'Commercial' has no assigninee\n",
      "Issuse: Second issue in 'Commercial' has no assigninee\n",
      "Issuse: Second issue in 'Commercial' has no assigninee\n",
      "Issuse: First issue of many in 'Commercial' has no assigninee\n",
      "Issuse: New issue from jira-python22 in 'Commercial' has no assigninee\n",
      "Issuse: New issue from jira-python in 'Commercial' has no assigninee\n",
      "Issuse: New issue from jira-python in 'Commercial' has no assigninee\n",
      "Issuse: Test One in 'Commercial' has no assigninee\n",
      "Issuse: CLONE - First issue of many in 'Economic Development' has no assigninee\n",
      "Issuse: CLONE - Second issue in 'Economic Development' has no assigninee\n",
      "Issuse: CLONE - Second issue in 'Economic Development' has no assigninee\n",
      "Issuse: CLONE - Last issue in 'Economic Development' has no assigninee\n",
      "Issuse: Last issue in 'Economic Development' has no assigninee\n",
      "Issuse: Second issue in 'Economic Development' has no assigninee\n",
      "Issuse: Second issue in 'Economic Development' has no assigninee\n",
      "Issuse: First issue of many in 'Economic Development' has no assigninee\n",
      "Issuse: Last issue in 'MVP Recruit' has no assigninee\n",
      "Issuse: Fifths issue in 'MVP Recruit' has no assigninee\n",
      "Issuse: Third issue in 'MVP Recruit' has no assigninee\n",
      "Issuse: First issue of many in 'MVP Recruit' has no assigninee\n",
      "Issuse: Last issue in 'Virtual Retail' has no assigninee\n",
      "Issuse: Sith issue in 'Virtual Retail' has no assigninee\n",
      "Issuse: Third issue in 'Virtual Retail' has no assigninee\n",
      "Issuse: First issue of many in 'Virtual Retail' has no assigninee\n"
     ]
    }
   ],
   "source": [
    "project = jira.project('ECDEV')\n",
    "projects = jira.projects()\n",
    "users_in_project = set()\n",
    "for project in projects:\n",
    "    try:\n",
    "        for issue in jira.search_issues('project='+project.key):\n",
    "            users_in_project.add(issue.fields.assignee.name)\n",
    "    except:\n",
    "        users_in_project.add('unassigned')\n",
    "    \n",
    "users_in_project\n",
    "\n",
    "users = []\n",
    "for project in projects:\n",
    "    for issue in jira.search_issues('project='+project.key):\n",
    "        try:\n",
    "            if issue.fields.assignee.name in users_in_project and not find_in_users(issue.fields.assignee.name, users):\n",
    "                users.append(SquadMember(issue.fields.assignee.displayName, \n",
    "                                         issue.fields.assignee.name))\n",
    "        except:\n",
    "            print(\"Issuse: \" + issue.fields.summary + \" in '{}' has no assigninee\".format(project.name))\n",
    "\n",
    "for project in projects:            \n",
    "    for issue in jira.search_issues('project='+project.key):\n",
    "        for user in  users:\n",
    "            if issue.fields.assignee.name == user.username and issue.fields.customfield_10019:\n",
    "                user.points += int(issue.fields.customfield_10019)\n",
    "            \n",
    "for user in users:\n",
    "    print(\"Name: \" + user.full_name + \" point: \" + str(user.points))\n",
    "    \n",
    "\n",
    "def find_in_users(user, users):\n",
    "    for i in users:\n",
    "            if i == user:\n",
    "                return True\n",
    "    return False"
   ]
  },
  {
   "cell_type": "code",
   "execution_count": 54,
   "metadata": {
    "collapsed": true
   },
   "outputs": [],
   "source": [
    "l = []\n",
    "issues_in_proj = jira.search_issues('project=ECDEV')\n",
    "create_user_points(issue)\n",
    "l = calculate_total_points(issues_in_proj)    "
   ]
  },
  {
   "cell_type": "code",
   "execution_count": 55,
   "metadata": {},
   "outputs": [
    {
     "ename": "TypeError",
     "evalue": "'Project' object is not iterable",
     "output_type": "error",
     "traceback": [
      "\u001b[1;31m---------------------------------------------------------------------------\u001b[0m",
      "\u001b[1;31mTypeError\u001b[0m                                 Traceback (most recent call last)",
      "\u001b[1;32m<ipython-input-55-2d21b5536a3a>\u001b[0m in \u001b[0;36m<module>\u001b[1;34m()\u001b[0m\n\u001b[0;32m      1\u001b[0m \u001b[0musers_in_project\u001b[0m \u001b[1;33m=\u001b[0m \u001b[0mset\u001b[0m\u001b[1;33m(\u001b[0m\u001b[1;33m)\u001b[0m\u001b[1;33m\u001b[0m\u001b[0m\n\u001b[0;32m      2\u001b[0m \u001b[1;32mfor\u001b[0m \u001b[0mproject\u001b[0m \u001b[1;32min\u001b[0m \u001b[0mprojects\u001b[0m\u001b[1;33m:\u001b[0m\u001b[1;33m\u001b[0m\u001b[0m\n\u001b[1;32m----> 3\u001b[1;33m     \u001b[1;32mfor\u001b[0m \u001b[0missue\u001b[0m \u001b[1;32min\u001b[0m \u001b[0mproject\u001b[0m\u001b[1;33m:\u001b[0m\u001b[1;33m\u001b[0m\u001b[0m\n\u001b[0m\u001b[0;32m      4\u001b[0m         \u001b[0musers_in_project\u001b[0m\u001b[1;33m.\u001b[0m\u001b[0madd\u001b[0m\u001b[1;33m(\u001b[0m\u001b[0missue\u001b[0m\u001b[1;33m.\u001b[0m\u001b[0mfields\u001b[0m\u001b[1;33m.\u001b[0m\u001b[0massignee\u001b[0m\u001b[1;33m.\u001b[0m\u001b[0mname\u001b[0m\u001b[1;33m)\u001b[0m\u001b[1;33m\u001b[0m\u001b[0m\n\u001b[0;32m      5\u001b[0m \u001b[1;33m\u001b[0m\u001b[0m\n",
      "\u001b[1;31mTypeError\u001b[0m: 'Project' object is not iterable"
     ]
    }
   ],
   "source": [
    "users_in_project = set()\n",
    "for project in projects:\n",
    "    for issue in project:\n",
    "        users_in_project.add(issue.fields.assignee.name)\n",
    "    \n",
    "users_in_project\n",
    "\n",
    "users = []\n",
    "for issue in issues_in_proj:\n",
    "    if issue.fields.assignee.name in users_in_project:\n",
    "        users.append(SquadMember(issue.fields.assignee.displayName, \n",
    "                                 issue.fields.assignee.name))\n",
    "\n",
    "for issue in issues_in_proj:\n",
    "    for user in  users:\n",
    "        if issue.fields.assignee.name == user.username:\n",
    "            user.points += int(issue.fields.customfield_10019)\n",
    "            \n",
    "for user in users:\n",
    "    print(\"Name: \" + user.full_name + \" point: \" + str(user.points))"
   ]
  },
  {
   "cell_type": "code",
   "execution_count": 4,
   "metadata": {
    "collapsed": true
   },
   "outputs": [],
   "source": []
  },
  {
   "cell_type": "code",
   "execution_count": 7,
   "metadata": {
    "collapsed": true
   },
   "outputs": [],
   "source": [
    "       "
   ]
  },
  {
   "cell_type": "code",
   "execution_count": 4,
   "metadata": {
    "collapsed": true
   },
   "outputs": [],
   "source": [
    "class SquadMember(object):\n",
    "    \n",
    "    def __init__(self, full_name, username, projects = []):\n",
    "        self.full_name = full_name\n",
    "        self.username = username        \n",
    "        self.projects = projects\n",
    "    \n",
    "    def calculate_total_points(self):\n",
    "        points = 0\n",
    "        for project in projetcs:\n",
    "            prj_points = project.calculate_total_poitns()\n",
    "            if prj_points:\n",
    "                points += prj_points\n",
    "        #for project in projects:\n",
    "        #    for issue in jira.search_issues('project='+project.key):\n",
    "        #        if issue.fields.assignee and issue.fields.customfield_10019:\n",
    "        #            if issue.fields.assignee.name == self.username:\n",
    "        #                points += int(issue.fields.customfield_10019)\n",
    "        return points"
   ]
  },
  {
   "cell_type": "code",
   "execution_count": 3,
   "metadata": {
    "collapsed": true
   },
   "outputs": [],
   "source": [
    "class SquadMemberProject(object):\n",
    "    \n",
    "    def __init__(self, project, username):\n",
    "        self.project = project\n",
    "        self.username = username\n",
    "        \n",
    "    def calculate_total_poitns(self):\n",
    "        points = 0\n",
    "        for issue in project:\n",
    "            if issue.fields.customfield_10019:\n",
    "                points += int(issue.fields.customfield_10019)\n",
    "        return points"
   ]
  },
  {
   "cell_type": "code",
   "execution_count": null,
   "metadata": {},
   "outputs": [],
   "source": [
    "def create_user_points(issue):\n",
    "    try:\n",
    "        return {'username':issue.fields.assignee.displayName, 'points':int(issue.fields.customfield_10019)}\n",
    "    except 'KeyError':\n",
    "            print(\"Unable to assign values to dictionary\")\n",
    "    return None"
   ]
  },
  {
   "cell_type": "code",
   "execution_count": 6,
   "metadata": {},
   "outputs": [],
   "source": []
  },
  {
   "cell_type": "code",
   "execution_count": null,
   "metadata": {
    "collapsed": true
   },
   "outputs": [],
   "source": []
  }
 ],
 "metadata": {
  "kernelspec": {
   "display_name": "Python 3",
   "language": "python",
   "name": "python3"
  },
  "language_info": {
   "codemirror_mode": {
    "name": "ipython",
    "version": 3
   },
   "file_extension": ".py",
   "mimetype": "text/x-python",
   "name": "python",
   "nbconvert_exporter": "python",
   "pygments_lexer": "ipython3",
   "version": "3.6.3"
  }
 },
 "nbformat": 4,
 "nbformat_minor": 2
}
