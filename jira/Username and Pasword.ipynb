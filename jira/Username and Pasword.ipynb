{
 "cells": [
  {
   "cell_type": "code",
   "execution_count": 28,
   "metadata": {},
   "outputs": [],
   "source": [
    "\"\"\"\n",
    "customfield_10019 = Story Points\n",
    "customfield_10010 = Sprint\n",
    "\"\"\"\n",
    "from jira import JIRA\n",
    "jira = JIRA('https://hptechco.atlassian.net', basic_auth=('tym.zon', 'Nemesis72'))\n"
   ]
  },
  {
   "cell_type": "code",
   "execution_count": 57,
   "metadata": {},
   "outputs": [
    {
     "data": {
      "text/plain": [
       "[<JIRA Comment: id='19645'>, <JIRA Comment: id='19646'>]"
      ]
     },
     "execution_count": 57,
     "metadata": {},
     "output_type": "execute_result"
    }
   ],
   "source": [
    "comment = jira.comments('COMTEST-21')\n",
    "comment"
   ]
  },
  {
   "cell_type": "code",
   "execution_count": 54,
   "metadata": {},
   "outputs": [
    {
     "data": {
      "text/plain": [
       "{'clauseNames': ['Capture for JIRA Screen Resolution', 'cf[10110]'],\n",
       " 'custom': True,\n",
       " 'id': 'customfield_10110',\n",
       " 'key': 'customfield_10110',\n",
       " 'name': 'Capture for JIRA Screen Resolution',\n",
       " 'navigable': True,\n",
       " 'orderable': True,\n",
       " 'schema': {'custom': 'com.atlassian.bonfire.plugin:bonfire-text',\n",
       "  'customId': 10110,\n",
       "  'type': 'string'},\n",
       " 'searchable': True}"
      ]
     },
     "execution_count": 54,
     "metadata": {},
     "output_type": "execute_result"
    }
   ],
   "source": [
    "fields = jira.fields()\n",
    "fields[1]"
   ]
  },
  {
   "cell_type": "code",
   "execution_count": 66,
   "metadata": {},
   "outputs": [],
   "source": [
    "project = jira.project_versions('12001')"
   ]
  },
  {
   "cell_type": "code",
   "execution_count": 69,
   "metadata": {},
   "outputs": [
    {
     "data": {
      "text/plain": [
       "\"(B1) As Horizon Power (or a HP-like utility), I value TechCo's solution and I'm willing to pay for it.\""
      ]
     },
     "execution_count": 69,
     "metadata": {},
     "output_type": "execute_result"
    }
   ],
   "source": [
    "project[0].name"
   ]
  },
  {
   "cell_type": "code",
   "execution_count": 73,
   "metadata": {},
   "outputs": [
    {
     "ename": "JIRAError",
     "evalue": "JiraError HTTP 404 url: https://hptechco.atlassian.net/rest/api/2/status/12001\n\ttext: The status with id '12001' does not exist\n\t\n\tresponse headers = {'Server': 'Atlassian Proxy/0.1.169', 'Vary': 'Accept-Encoding', 'ATL-vTM-Backend-Time': '517', 'Cache-Control': 'no-cache, no-store, no-transform', 'Content-Type': 'application/json;charset=UTF-8', 'Content-Encoding': 'gzip', 'Strict-Transport-Security': 'max-age=315360000; includeSubDomains; preload', 'Date': 'Thu, 25 Jan 2018 07:49:11 GMT', 'X-AREQUESTID': '736476f5-0963-4236-b7bb-3572b2941fc5', 'X-XSS-Protection': '1; mode=block', 'transfer-encoding': 'chunked', 'ATL-vTM-Time': '768', 'X-AUSERNAME': 'tym.zon', 'X-Content-Type-Options': 'nosniff', 'Connection': 'keep-alive', 'X-Seraph-LoginReason': 'OK', 'ATL-vTM-Queue-Time': '0'}\n\tresponse text = {\"errorMessages\":[\"The status with id '12001' does not exist\"],\"errors\":{}}",
     "output_type": "error",
     "traceback": [
      "\u001b[1;31m---------------------------------------------------------------------------\u001b[0m",
      "\u001b[1;31mJIRAError\u001b[0m                                 Traceback (most recent call last)",
      "\u001b[1;32m<ipython-input-73-a7ca071bd810>\u001b[0m in \u001b[0;36m<module>\u001b[1;34m()\u001b[0m\n\u001b[1;32m----> 1\u001b[1;33m \u001b[0mres\u001b[0m \u001b[1;33m=\u001b[0m \u001b[0mjira\u001b[0m\u001b[1;33m.\u001b[0m\u001b[0mstatus\u001b[0m\u001b[1;33m(\u001b[0m\u001b[1;36m12001\u001b[0m\u001b[1;33m)\u001b[0m\u001b[1;33m\u001b[0m\u001b[0m\n\u001b[0m\u001b[0;32m      2\u001b[0m \u001b[0mres\u001b[0m\u001b[1;33m\u001b[0m\u001b[0m\n",
      "\u001b[1;32mC:\\code\\Anaconda3\\lib\\site-packages\\jira\\client.py\u001b[0m in \u001b[0;36mstatus\u001b[1;34m(self, id)\u001b[0m\n\u001b[0;32m   1794\u001b[0m         \u001b[1;33m:\u001b[0m\u001b[0mparam\u001b[0m \u001b[0mid\u001b[0m\u001b[1;33m:\u001b[0m \u001b[0mID\u001b[0m \u001b[0mof\u001b[0m \u001b[0mthe\u001b[0m \u001b[0mstatus\u001b[0m \u001b[0mresource\u001b[0m \u001b[0mto\u001b[0m \u001b[0mget\u001b[0m\u001b[1;33m\u001b[0m\u001b[0m\n\u001b[0;32m   1795\u001b[0m         \"\"\"\n\u001b[1;32m-> 1796\u001b[1;33m         \u001b[1;32mreturn\u001b[0m \u001b[0mself\u001b[0m\u001b[1;33m.\u001b[0m\u001b[0m_find_for_resource\u001b[0m\u001b[1;33m(\u001b[0m\u001b[0mStatus\u001b[0m\u001b[1;33m,\u001b[0m \u001b[0mid\u001b[0m\u001b[1;33m)\u001b[0m\u001b[1;33m\u001b[0m\u001b[0m\n\u001b[0m\u001b[0;32m   1797\u001b[0m \u001b[1;33m\u001b[0m\u001b[0m\n\u001b[0;32m   1798\u001b[0m     \u001b[1;31m# Users\u001b[0m\u001b[1;33m\u001b[0m\u001b[1;33m\u001b[0m\u001b[0m\n",
      "\u001b[1;32mC:\\code\\Anaconda3\\lib\\site-packages\\jira\\client.py\u001b[0m in \u001b[0;36m_find_for_resource\u001b[1;34m(self, resource_cls, ids, expand)\u001b[0m\n\u001b[0;32m   2183\u001b[0m         \u001b[1;32mif\u001b[0m \u001b[0mexpand\u001b[0m \u001b[1;32mis\u001b[0m \u001b[1;32mnot\u001b[0m \u001b[1;32mNone\u001b[0m\u001b[1;33m:\u001b[0m\u001b[1;33m\u001b[0m\u001b[0m\n\u001b[0;32m   2184\u001b[0m             \u001b[0mparams\u001b[0m\u001b[1;33m[\u001b[0m\u001b[1;34m'expand'\u001b[0m\u001b[1;33m]\u001b[0m \u001b[1;33m=\u001b[0m \u001b[0mexpand\u001b[0m\u001b[1;33m\u001b[0m\u001b[0m\n\u001b[1;32m-> 2185\u001b[1;33m         \u001b[0mresource\u001b[0m\u001b[1;33m.\u001b[0m\u001b[0mfind\u001b[0m\u001b[1;33m(\u001b[0m\u001b[0mid\u001b[0m\u001b[1;33m=\u001b[0m\u001b[0mids\u001b[0m\u001b[1;33m,\u001b[0m \u001b[0mparams\u001b[0m\u001b[1;33m=\u001b[0m\u001b[0mparams\u001b[0m\u001b[1;33m)\u001b[0m\u001b[1;33m\u001b[0m\u001b[0m\n\u001b[0m\u001b[0;32m   2186\u001b[0m         \u001b[1;32mif\u001b[0m \u001b[1;32mnot\u001b[0m \u001b[0mresource\u001b[0m\u001b[1;33m:\u001b[0m\u001b[1;33m\u001b[0m\u001b[0m\n\u001b[0;32m   2187\u001b[0m             \u001b[1;32mraise\u001b[0m \u001b[0mJIRAError\u001b[0m\u001b[1;33m(\u001b[0m\u001b[1;34m\"Unable to find resource %s(%s)\"\u001b[0m\u001b[1;33m,\u001b[0m \u001b[0mresource_cls\u001b[0m\u001b[1;33m,\u001b[0m \u001b[0mids\u001b[0m\u001b[1;33m)\u001b[0m\u001b[1;33m\u001b[0m\u001b[0m\n",
      "\u001b[1;32mC:\\code\\Anaconda3\\lib\\site-packages\\jira\\resources.py\u001b[0m in \u001b[0;36mfind\u001b[1;34m(self, id, params)\u001b[0m\n\u001b[0;32m    195\u001b[0m             \u001b[0mpath\u001b[0m \u001b[1;33m=\u001b[0m \u001b[0mself\u001b[0m\u001b[1;33m.\u001b[0m\u001b[0m_resource\u001b[0m\u001b[1;33m.\u001b[0m\u001b[0mformat\u001b[0m\u001b[1;33m(\u001b[0m\u001b[0mid\u001b[0m\u001b[1;33m)\u001b[0m\u001b[1;33m\u001b[0m\u001b[0m\n\u001b[0;32m    196\u001b[0m         \u001b[0murl\u001b[0m \u001b[1;33m=\u001b[0m \u001b[0mself\u001b[0m\u001b[1;33m.\u001b[0m\u001b[0m_get_url\u001b[0m\u001b[1;33m(\u001b[0m\u001b[0mpath\u001b[0m\u001b[1;33m)\u001b[0m\u001b[1;33m\u001b[0m\u001b[0m\n\u001b[1;32m--> 197\u001b[1;33m         \u001b[0mself\u001b[0m\u001b[1;33m.\u001b[0m\u001b[0m_load\u001b[0m\u001b[1;33m(\u001b[0m\u001b[0murl\u001b[0m\u001b[1;33m,\u001b[0m \u001b[0mparams\u001b[0m\u001b[1;33m=\u001b[0m\u001b[0mparams\u001b[0m\u001b[1;33m)\u001b[0m\u001b[1;33m\u001b[0m\u001b[0m\n\u001b[0m\u001b[0;32m    198\u001b[0m \u001b[1;33m\u001b[0m\u001b[0m\n\u001b[0;32m    199\u001b[0m     \u001b[1;32mdef\u001b[0m \u001b[0m_get_url\u001b[0m\u001b[1;33m(\u001b[0m\u001b[0mself\u001b[0m\u001b[1;33m,\u001b[0m \u001b[0mpath\u001b[0m\u001b[1;33m)\u001b[0m\u001b[1;33m:\u001b[0m\u001b[1;33m\u001b[0m\u001b[0m\n",
      "\u001b[1;32mC:\\code\\Anaconda3\\lib\\site-packages\\jira\\resources.py\u001b[0m in \u001b[0;36m_load\u001b[1;34m(self, url, headers, params, path)\u001b[0m\n\u001b[0;32m    311\u001b[0m \u001b[1;33m\u001b[0m\u001b[0m\n\u001b[0;32m    312\u001b[0m     \u001b[1;32mdef\u001b[0m \u001b[0m_load\u001b[0m\u001b[1;33m(\u001b[0m\u001b[0mself\u001b[0m\u001b[1;33m,\u001b[0m \u001b[0murl\u001b[0m\u001b[1;33m,\u001b[0m \u001b[0mheaders\u001b[0m\u001b[1;33m=\u001b[0m\u001b[0mCaseInsensitiveDict\u001b[0m\u001b[1;33m(\u001b[0m\u001b[1;33m)\u001b[0m\u001b[1;33m,\u001b[0m \u001b[0mparams\u001b[0m\u001b[1;33m=\u001b[0m\u001b[1;32mNone\u001b[0m\u001b[1;33m,\u001b[0m \u001b[0mpath\u001b[0m\u001b[1;33m=\u001b[0m\u001b[1;32mNone\u001b[0m\u001b[1;33m)\u001b[0m\u001b[1;33m:\u001b[0m\u001b[1;33m\u001b[0m\u001b[0m\n\u001b[1;32m--> 313\u001b[1;33m         \u001b[0mr\u001b[0m \u001b[1;33m=\u001b[0m \u001b[0mself\u001b[0m\u001b[1;33m.\u001b[0m\u001b[0m_session\u001b[0m\u001b[1;33m.\u001b[0m\u001b[0mget\u001b[0m\u001b[1;33m(\u001b[0m\u001b[0murl\u001b[0m\u001b[1;33m,\u001b[0m \u001b[0mheaders\u001b[0m\u001b[1;33m=\u001b[0m\u001b[0mheaders\u001b[0m\u001b[1;33m,\u001b[0m \u001b[0mparams\u001b[0m\u001b[1;33m=\u001b[0m\u001b[0mparams\u001b[0m\u001b[1;33m)\u001b[0m\u001b[1;33m\u001b[0m\u001b[0m\n\u001b[0m\u001b[0;32m    314\u001b[0m         \u001b[1;32mtry\u001b[0m\u001b[1;33m:\u001b[0m\u001b[1;33m\u001b[0m\u001b[0m\n\u001b[0;32m    315\u001b[0m             \u001b[0mj\u001b[0m \u001b[1;33m=\u001b[0m \u001b[0mjson_loads\u001b[0m\u001b[1;33m(\u001b[0m\u001b[0mr\u001b[0m\u001b[1;33m)\u001b[0m\u001b[1;33m\u001b[0m\u001b[0m\n",
      "\u001b[1;32mC:\\code\\Anaconda3\\lib\\site-packages\\jira\\resilientsession.py\u001b[0m in \u001b[0;36mget\u001b[1;34m(self, url, **kwargs)\u001b[0m\n\u001b[0;32m    148\u001b[0m \u001b[1;33m\u001b[0m\u001b[0m\n\u001b[0;32m    149\u001b[0m     \u001b[1;32mdef\u001b[0m \u001b[0mget\u001b[0m\u001b[1;33m(\u001b[0m\u001b[0mself\u001b[0m\u001b[1;33m,\u001b[0m \u001b[0murl\u001b[0m\u001b[1;33m,\u001b[0m \u001b[1;33m**\u001b[0m\u001b[0mkwargs\u001b[0m\u001b[1;33m)\u001b[0m\u001b[1;33m:\u001b[0m\u001b[1;33m\u001b[0m\u001b[0m\n\u001b[1;32m--> 150\u001b[1;33m         \u001b[1;32mreturn\u001b[0m \u001b[0mself\u001b[0m\u001b[1;33m.\u001b[0m\u001b[0m__verb\u001b[0m\u001b[1;33m(\u001b[0m\u001b[1;34m'GET'\u001b[0m\u001b[1;33m,\u001b[0m \u001b[0murl\u001b[0m\u001b[1;33m,\u001b[0m \u001b[1;33m**\u001b[0m\u001b[0mkwargs\u001b[0m\u001b[1;33m)\u001b[0m\u001b[1;33m\u001b[0m\u001b[0m\n\u001b[0m\u001b[0;32m    151\u001b[0m \u001b[1;33m\u001b[0m\u001b[0m\n\u001b[0;32m    152\u001b[0m     \u001b[1;32mdef\u001b[0m \u001b[0mpost\u001b[0m\u001b[1;33m(\u001b[0m\u001b[0mself\u001b[0m\u001b[1;33m,\u001b[0m \u001b[0murl\u001b[0m\u001b[1;33m,\u001b[0m \u001b[1;33m**\u001b[0m\u001b[0mkwargs\u001b[0m\u001b[1;33m)\u001b[0m\u001b[1;33m:\u001b[0m\u001b[1;33m\u001b[0m\u001b[0m\n",
      "\u001b[1;32mC:\\code\\Anaconda3\\lib\\site-packages\\jira\\resilientsession.py\u001b[0m in \u001b[0;36m__verb\u001b[1;34m(self, verb, url, retry_data, **kwargs)\u001b[0m\n\u001b[0;32m    144\u001b[0m         \u001b[1;32mif\u001b[0m \u001b[0mexception\u001b[0m \u001b[1;32mis\u001b[0m \u001b[1;32mnot\u001b[0m \u001b[1;32mNone\u001b[0m\u001b[1;33m:\u001b[0m\u001b[1;33m\u001b[0m\u001b[0m\n\u001b[0;32m    145\u001b[0m             \u001b[1;32mraise\u001b[0m \u001b[0mexception\u001b[0m\u001b[1;33m\u001b[0m\u001b[0m\n\u001b[1;32m--> 146\u001b[1;33m         \u001b[0mraise_on_error\u001b[0m\u001b[1;33m(\u001b[0m\u001b[0mresponse\u001b[0m\u001b[1;33m,\u001b[0m \u001b[0mverb\u001b[0m\u001b[1;33m=\u001b[0m\u001b[0mverb\u001b[0m\u001b[1;33m,\u001b[0m \u001b[1;33m**\u001b[0m\u001b[0mkwargs\u001b[0m\u001b[1;33m)\u001b[0m\u001b[1;33m\u001b[0m\u001b[0m\n\u001b[0m\u001b[0;32m    147\u001b[0m         \u001b[1;32mreturn\u001b[0m \u001b[0mresponse\u001b[0m\u001b[1;33m\u001b[0m\u001b[0m\n\u001b[0;32m    148\u001b[0m \u001b[1;33m\u001b[0m\u001b[0m\n",
      "\u001b[1;32mC:\\code\\Anaconda3\\lib\\site-packages\\jira\\resilientsession.py\u001b[0m in \u001b[0;36mraise_on_error\u001b[1;34m(r, verb, **kwargs)\u001b[0m\n\u001b[0;32m     54\u001b[0m                 \u001b[0merror\u001b[0m \u001b[1;33m=\u001b[0m \u001b[0mr\u001b[0m\u001b[1;33m.\u001b[0m\u001b[0mtext\u001b[0m\u001b[1;33m\u001b[0m\u001b[0m\n\u001b[0;32m     55\u001b[0m         raise JIRAError(\n\u001b[1;32m---> 56\u001b[1;33m             r.status_code, error, r.url, request=request, response=r, **kwargs)\n\u001b[0m\u001b[0;32m     57\u001b[0m     \u001b[1;31m# for debugging weird errors on CI\u001b[0m\u001b[1;33m\u001b[0m\u001b[1;33m\u001b[0m\u001b[0m\n\u001b[0;32m     58\u001b[0m     \u001b[1;32mif\u001b[0m \u001b[0mr\u001b[0m\u001b[1;33m.\u001b[0m\u001b[0mstatus_code\u001b[0m \u001b[1;32mnot\u001b[0m \u001b[1;32min\u001b[0m \u001b[1;33m[\u001b[0m\u001b[1;36m200\u001b[0m\u001b[1;33m,\u001b[0m \u001b[1;36m201\u001b[0m\u001b[1;33m,\u001b[0m \u001b[1;36m202\u001b[0m\u001b[1;33m,\u001b[0m \u001b[1;36m204\u001b[0m\u001b[1;33m]\u001b[0m\u001b[1;33m:\u001b[0m\u001b[1;33m\u001b[0m\u001b[0m\n",
      "\u001b[1;31mJIRAError\u001b[0m: JiraError HTTP 404 url: https://hptechco.atlassian.net/rest/api/2/status/12001\n\ttext: The status with id '12001' does not exist\n\t\n\tresponse headers = {'Server': 'Atlassian Proxy/0.1.169', 'Vary': 'Accept-Encoding', 'ATL-vTM-Backend-Time': '517', 'Cache-Control': 'no-cache, no-store, no-transform', 'Content-Type': 'application/json;charset=UTF-8', 'Content-Encoding': 'gzip', 'Strict-Transport-Security': 'max-age=315360000; includeSubDomains; preload', 'Date': 'Thu, 25 Jan 2018 07:49:11 GMT', 'X-AREQUESTID': '736476f5-0963-4236-b7bb-3572b2941fc5', 'X-XSS-Protection': '1; mode=block', 'transfer-encoding': 'chunked', 'ATL-vTM-Time': '768', 'X-AUSERNAME': 'tym.zon', 'X-Content-Type-Options': 'nosniff', 'Connection': 'keep-alive', 'X-Seraph-LoginReason': 'OK', 'ATL-vTM-Queue-Time': '0'}\n\tresponse text = {\"errorMessages\":[\"The status with id '12001' does not exist\"],\"errors\":{}}"
     ]
    }
   ],
   "source": [
    "res = jira.status(12001)\n",
    "res"
   ]
  },
  {
   "cell_type": "code",
   "execution_count": 39,
   "metadata": {},
   "outputs": [
    {
     "name": "stderr",
     "output_type": "stream",
     "text": [
      "C:\\code\\Anaconda3\\lib\\site-packages\\jira\\client.py:2761: Warning: Old private GreenHopper API is used, all parameters will be ignored.\n",
      "  warnings.warn('Old private GreenHopper API is used, all parameters will be ignored.', Warning)\n"
     ]
    },
    {
     "data": {
      "text/plain": [
       "<JIRA Board: name='AU Trials Board', id=46>"
      ]
     },
     "execution_count": 39,
     "metadata": {},
     "output_type": "execute_result"
    }
   ],
   "source": [
    "boards = jira.boards(0)\n",
    "boards[0]"
   ]
  },
  {
   "cell_type": "code",
   "execution_count": 41,
   "metadata": {},
   "outputs": [
    {
     "data": {
      "text/plain": [
       "'AU Trials Board'"
      ]
     },
     "execution_count": 41,
     "metadata": {},
     "output_type": "execute_result"
    }
   ],
   "source": [
    "boards[0].name"
   ]
  },
  {
   "cell_type": "code",
   "execution_count": 36,
   "metadata": {},
   "outputs": [
    {
     "ename": "KeyError",
     "evalue": "'incompletedIssuesEstimateSum'",
     "output_type": "error",
     "traceback": [
      "\u001b[1;31m---------------------------------------------------------------------------\u001b[0m",
      "\u001b[1;31mKeyError\u001b[0m                                  Traceback (most recent call last)",
      "\u001b[1;32m<ipython-input-36-ad5f56dbdb19>\u001b[0m in \u001b[0;36m<module>\u001b[1;34m()\u001b[0m\n\u001b[1;32m----> 1\u001b[1;33m \u001b[0mjira\u001b[0m\u001b[1;33m.\u001b[0m\u001b[0mincompletedIssuesEstimateSum\u001b[0m\u001b[1;33m(\u001b[0m\u001b[1;36m55\u001b[0m\u001b[1;33m,\u001b[0m\u001b[1;36m214\u001b[0m\u001b[1;33m)\u001b[0m\u001b[1;33m\u001b[0m\u001b[0m\n\u001b[0m",
      "\u001b[1;32mC:\\code\\Anaconda3\\lib\\site-packages\\jira\\client.py\u001b[0m in \u001b[0;36mincompletedIssuesEstimateSum\u001b[1;34m(self, board_id, sprint_id)\u001b[0m\n\u001b[0;32m   2841\u001b[0m         \u001b[1;34m\"\"\"Return the total incompleted points this sprint.\"\"\"\u001b[0m\u001b[1;33m\u001b[0m\u001b[0m\n\u001b[0;32m   2842\u001b[0m         return self._get_json('rapid/charts/sprintreport?rapidViewId=%s&sprintId=%s' % (board_id, sprint_id),\n\u001b[1;32m-> 2843\u001b[1;33m                               base=self.AGILE_BASE_URL)['contents']['incompletedIssuesEstimateSum']['value']\n\u001b[0m\u001b[0;32m   2844\u001b[0m \u001b[1;33m\u001b[0m\u001b[0m\n\u001b[0;32m   2845\u001b[0m     \u001b[1;32mdef\u001b[0m \u001b[0mremoved_issues\u001b[0m\u001b[1;33m(\u001b[0m\u001b[0mself\u001b[0m\u001b[1;33m,\u001b[0m \u001b[0mboard_id\u001b[0m\u001b[1;33m,\u001b[0m \u001b[0msprint_id\u001b[0m\u001b[1;33m)\u001b[0m\u001b[1;33m:\u001b[0m\u001b[1;33m\u001b[0m\u001b[0m\n",
      "\u001b[1;31mKeyError\u001b[0m: 'incompletedIssuesEstimateSum'"
     ]
    }
   ],
   "source": [
    "jira.incompletedIssuesEstimateSum(55,214)"
   ]
  },
  {
   "cell_type": "code",
   "execution_count": 30,
   "metadata": {},
   "outputs": [],
   "source": [
    "sprint = jira.sprints(55)\n",
    "#sprint_i = jira.sprint_info(4,4)\n"
   ]
  },
  {
   "cell_type": "code",
   "execution_count": 35,
   "metadata": {},
   "outputs": [
    {
     "name": "stdout",
     "output_type": "stream",
     "text": [
      "214\n",
      "220\n",
      "221\n",
      "222\n",
      "223\n",
      "224\n",
      "225\n",
      "226\n",
      "227\n",
      "228\n",
      "229\n"
     ]
    }
   ],
   "source": [
    "for s in sprint:\n",
    "    #if s.state == 'ACTIVE':\n",
    "    print(s.id)\n",
    "    "
   ]
  },
  {
   "cell_type": "code",
   "execution_count": 9,
   "metadata": {},
   "outputs": [
    {
     "name": "stderr",
     "output_type": "stream",
     "text": [
      "C:\\code\\Anaconda3\\lib\\site-packages\\jira\\client.py:2761: Warning: Old private GreenHopper API is used, all parameters will be ignored.\n",
      "  warnings.warn('Old private GreenHopper API is used, all parameters will be ignored.', Warning)\n"
     ]
    },
    {
     "ename": "AttributeError",
     "evalue": "'ResultList' object has no attribute 'name'",
     "output_type": "error",
     "traceback": [
      "\u001b[1;31m---------------------------------------------------------------------------\u001b[0m",
      "\u001b[1;31mAttributeError\u001b[0m                            Traceback (most recent call last)",
      "\u001b[1;32m<ipython-input-9-417fbf62c013>\u001b[0m in \u001b[0;36m<module>\u001b[1;34m()\u001b[0m\n\u001b[0;32m      5\u001b[0m \u001b[0mboards\u001b[0m \u001b[1;33m=\u001b[0m \u001b[0mjira\u001b[0m\u001b[1;33m.\u001b[0m\u001b[0mboards\u001b[0m\u001b[1;33m(\u001b[0m\u001b[1;33m)\u001b[0m\u001b[1;33m\u001b[0m\u001b[0m\n\u001b[0;32m      6\u001b[0m \u001b[1;32mfor\u001b[0m \u001b[0mb\u001b[0m \u001b[1;32min\u001b[0m \u001b[0mboards\u001b[0m\u001b[1;33m:\u001b[0m\u001b[1;33m\u001b[0m\u001b[0m\n\u001b[1;32m----> 7\u001b[1;33m     \u001b[0mprint\u001b[0m\u001b[1;33m(\u001b[0m\u001b[0mstr\u001b[0m\u001b[1;33m(\u001b[0m\u001b[0mb\u001b[0m\u001b[1;33m.\u001b[0m\u001b[0mid\u001b[0m\u001b[1;33m)\u001b[0m \u001b[1;33m+\u001b[0m \u001b[1;34m\" \"\u001b[0m \u001b[1;33m+\u001b[0m \u001b[0mb\u001b[0m\u001b[1;33m.\u001b[0m\u001b[0mname\u001b[0m \u001b[1;33m+\u001b[0m \u001b[1;34m\" \"\u001b[0m \u001b[1;33m+\u001b[0m \u001b[0msprint_i\u001b[0m\u001b[1;33m[\u001b[0m\u001b[1;34m'name'\u001b[0m\u001b[1;33m]\u001b[0m \u001b[1;33m+\u001b[0m \u001b[1;34m\" \"\u001b[0m \u001b[1;33m+\u001b[0m \u001b[0msprint\u001b[0m\u001b[1;33m.\u001b[0m\u001b[0mname\u001b[0m\u001b[1;33m)\u001b[0m\u001b[1;33m\u001b[0m\u001b[0m\n\u001b[0m",
      "\u001b[1;31mAttributeError\u001b[0m: 'ResultList' object has no attribute 'name'"
     ]
    }
   ],
   "source": [
    "\n",
    "\n",
    "projects = jira.projects()\n",
    "boards = jira.boards()\n",
    "for b in boards:\n",
    "    print(str(b.id) + \" \" + b.name + \" \" + sprint_i['name'])"
   ]
  },
  {
   "cell_type": "code",
   "execution_count": 50,
   "metadata": {},
   "outputs": [
    {
     "name": "stdout",
     "output_type": "stream",
     "text": [
      "Summary ali.filmur\n",
      "Story Points 1.0\n"
     ]
    },
    {
     "data": {
      "text/plain": [
       "'com.atlassian.greenhopper.service.sprint.Sprint@5d6f8dd8[id=4,rapidViewId=4,state=ACTIVE,name=ECDEV Sprint 1,goal=,startDate=2018-01-17T00:39:39.272Z,endDate=2018-01-31T00:39:00.000Z,completeDate=<null>,sequence=4]'"
      ]
     },
     "execution_count": 50,
     "metadata": {},
     "output_type": "execute_result"
    }
   ],
   "source": [
    "issue = jira.issue('ECDEV-1')\n",
    "print(\"Summary \" + issue.fields.assignee.name)\n",
    "print(\"Story Points \" + str(issue.fields.customfield_10019))\n",
    "lst = issue.fields.customfield_10010\n",
    "type(lst)\n",
    "s = str(lst[0])\n",
    "s\n",
    "#import re\n",
    "#re.findall(',')"
   ]
  },
  {
   "cell_type": "code",
   "execution_count": 3,
   "metadata": {},
   "outputs": [
    {
     "data": {
      "text/plain": [
       "{'ali.filmur', 'john.smith', 'mary.jones', 'tym.zon'}"
      ]
     },
     "execution_count": 3,
     "metadata": {},
     "output_type": "execute_result"
    }
   ],
   "source": [
    "projects = jira.projects()\n",
    "users_in_project = set()\n",
    "for project in projects:\n",
    "    try:\n",
    "        for issue in jira.search_issues('project='+project.key):\n",
    "            users_in_project.add(issue.fields.assignee.name)\n",
    "    except:\n",
    "        users_in_project.add('unassigned')\n",
    "\n",
    "users_in_project"
   ]
  },
  {
   "cell_type": "code",
   "execution_count": 76,
   "metadata": {},
   "outputs": [
    {
     "name": "stdout",
     "output_type": "stream",
     "text": [
      "Issuse: Last issue in 'Commercial' has no assigninee\n",
      "Issuse: Second issue in 'Commercial' has no assigninee\n",
      "Issuse: Second issue in 'Commercial' has no assigninee\n",
      "Issuse: First issue of many in 'Commercial' has no assigninee\n",
      "Issuse: New issue from jira-python22 in 'Commercial' has no assigninee\n",
      "Issuse: New issue from jira-python in 'Commercial' has no assigninee\n",
      "Issuse: New issue from jira-python in 'Commercial' has no assigninee\n",
      "Issuse: Test One in 'Commercial' has no assigninee\n",
      "Issuse: CLONE - First issue of many in 'Economic Development' has no assigninee\n",
      "Issuse: CLONE - Second issue in 'Economic Development' has no assigninee\n",
      "Issuse: CLONE - Second issue in 'Economic Development' has no assigninee\n",
      "Issuse: CLONE - Last issue in 'Economic Development' has no assigninee\n",
      "Issuse: Last issue in 'Economic Development' has no assigninee\n",
      "Issuse: Second issue in 'Economic Development' has no assigninee\n",
      "Issuse: Second issue in 'Economic Development' has no assigninee\n",
      "Issuse: First issue of many in 'Economic Development' has no assigninee\n",
      "Issuse: Last issue in 'MVP Recruit' has no assigninee\n",
      "Issuse: Fifths issue in 'MVP Recruit' has no assigninee\n",
      "Issuse: Third issue in 'MVP Recruit' has no assigninee\n",
      "Issuse: First issue of many in 'MVP Recruit' has no assigninee\n",
      "Issuse: Last issue in 'Virtual Retail' has no assigninee\n",
      "Issuse: Sith issue in 'Virtual Retail' has no assigninee\n",
      "Issuse: Third issue in 'Virtual Retail' has no assigninee\n",
      "Issuse: First issue of many in 'Virtual Retail' has no assigninee\n"
     ]
    }
   ],
   "source": [
    "project = jira.project('ECDEV')\n",
    "projects = jira.projects()\n",
    "users_in_project = set()\n",
    "for project in projects:\n",
    "    try:\n",
    "        for issue in jira.search_issues('project='+project.key):\n",
    "            users_in_project.add(issue.fields.assignee.name)\n",
    "    except:\n",
    "        users_in_project.add('unassigned')\n",
    "    \n",
    "users_in_project\n",
    "\n",
    "users = []\n",
    "for project in projects:\n",
    "    for issue in jira.search_issues('project='+project.key):\n",
    "        try:\n",
    "            if issue.fields.assignee.name in users_in_project and not find_in_users(issue.fields.assignee.name, users):\n",
    "                users.append(SquadMember(issue.fields.assignee.displayName, \n",
    "                                         issue.fields.assignee.name))\n",
    "        except:\n",
    "            print(\"Issuse: \" + issue.fields.summary + \" in '{}' has no assigninee\".format(project.name))\n",
    "\n",
    "for project in projects:            \n",
    "    for issue in jira.search_issues('project='+project.key):\n",
    "        for user in  users:\n",
    "            if issue.fields.assignee.name == user.username and issue.fields.customfield_10019:\n",
    "                user.points += int(issue.fields.customfield_10019)\n",
    "            \n",
    "for user in users:\n",
    "    print(\"Name: \" + user.full_name + \" point: \" + str(user.points))\n",
    "    \n",
    "\n",
    "def find_in_users(user, users):\n",
    "    for i in users:\n",
    "            if i == user:\n",
    "                return True\n",
    "    return False"
   ]
  },
  {
   "cell_type": "code",
   "execution_count": 54,
   "metadata": {
    "collapsed": true
   },
   "outputs": [],
   "source": [
    "l = []\n",
    "issues_in_proj = jira.search_issues('project=ECDEV')\n",
    "create_user_points(issue)\n",
    "l = calculate_total_points(issues_in_proj)    "
   ]
  },
  {
   "cell_type": "code",
   "execution_count": 55,
   "metadata": {},
   "outputs": [
    {
     "ename": "TypeError",
     "evalue": "'Project' object is not iterable",
     "output_type": "error",
     "traceback": [
      "\u001b[1;31m---------------------------------------------------------------------------\u001b[0m",
      "\u001b[1;31mTypeError\u001b[0m                                 Traceback (most recent call last)",
      "\u001b[1;32m<ipython-input-55-2d21b5536a3a>\u001b[0m in \u001b[0;36m<module>\u001b[1;34m()\u001b[0m\n\u001b[0;32m      1\u001b[0m \u001b[0musers_in_project\u001b[0m \u001b[1;33m=\u001b[0m \u001b[0mset\u001b[0m\u001b[1;33m(\u001b[0m\u001b[1;33m)\u001b[0m\u001b[1;33m\u001b[0m\u001b[0m\n\u001b[0;32m      2\u001b[0m \u001b[1;32mfor\u001b[0m \u001b[0mproject\u001b[0m \u001b[1;32min\u001b[0m \u001b[0mprojects\u001b[0m\u001b[1;33m:\u001b[0m\u001b[1;33m\u001b[0m\u001b[0m\n\u001b[1;32m----> 3\u001b[1;33m     \u001b[1;32mfor\u001b[0m \u001b[0missue\u001b[0m \u001b[1;32min\u001b[0m \u001b[0mproject\u001b[0m\u001b[1;33m:\u001b[0m\u001b[1;33m\u001b[0m\u001b[0m\n\u001b[0m\u001b[0;32m      4\u001b[0m         \u001b[0musers_in_project\u001b[0m\u001b[1;33m.\u001b[0m\u001b[0madd\u001b[0m\u001b[1;33m(\u001b[0m\u001b[0missue\u001b[0m\u001b[1;33m.\u001b[0m\u001b[0mfields\u001b[0m\u001b[1;33m.\u001b[0m\u001b[0massignee\u001b[0m\u001b[1;33m.\u001b[0m\u001b[0mname\u001b[0m\u001b[1;33m)\u001b[0m\u001b[1;33m\u001b[0m\u001b[0m\n\u001b[0;32m      5\u001b[0m \u001b[1;33m\u001b[0m\u001b[0m\n",
      "\u001b[1;31mTypeError\u001b[0m: 'Project' object is not iterable"
     ]
    }
   ],
   "source": [
    "users_in_project = set()\n",
    "for project in projects:\n",
    "    for issue in project:\n",
    "        users_in_project.add(issue.fields.assignee.name)\n",
    "    \n",
    "users_in_project\n",
    "\n",
    "users = []\n",
    "for issue in issues_in_proj:\n",
    "    if issue.fields.assignee.name in users_in_project:\n",
    "        users.append(SquadMember(issue.fields.assignee.displayName, \n",
    "                                 issue.fields.assignee.name))\n",
    "\n",
    "for issue in issues_in_proj:\n",
    "    for user in  users:\n",
    "        if issue.fields.assignee.name == user.username:\n",
    "            user.points += int(issue.fields.customfield_10019)\n",
    "            \n",
    "for user in users:\n",
    "    print(\"Name: \" + user.full_name + \" point: \" + str(user.points))"
   ]
  },
  {
   "cell_type": "code",
   "execution_count": 4,
   "metadata": {
    "collapsed": true
   },
   "outputs": [],
   "source": []
  },
  {
   "cell_type": "code",
   "execution_count": 7,
   "metadata": {
    "collapsed": true
   },
   "outputs": [],
   "source": [
    "       "
   ]
  },
  {
   "cell_type": "code",
   "execution_count": 4,
   "metadata": {
    "collapsed": true
   },
   "outputs": [],
   "source": [
    "class SquadMember(object):\n",
    "    \n",
    "    def __init__(self, full_name, username, projects = []):\n",
    "        self.full_name = full_name\n",
    "        self.username = username        \n",
    "        self.projects = projects\n",
    "    \n",
    "    def calculate_total_points(self):\n",
    "        points = 0\n",
    "        for project in projetcs:\n",
    "            prj_points = project.calculate_total_poitns()\n",
    "            if prj_points:\n",
    "                points += prj_points\n",
    "        #for project in projects:\n",
    "        #    for issue in jira.search_issues('project='+project.key):\n",
    "        #        if issue.fields.assignee and issue.fields.customfield_10019:\n",
    "        #            if issue.fields.assignee.name == self.username:\n",
    "        #                points += int(issue.fields.customfield_10019)\n",
    "        return points"
   ]
  },
  {
   "cell_type": "code",
   "execution_count": 3,
   "metadata": {
    "collapsed": true
   },
   "outputs": [],
   "source": [
    "class SquadMemberProject(object):\n",
    "    \n",
    "    def __init__(self, project, username):\n",
    "        self.project = project\n",
    "        self.username = username\n",
    "        \n",
    "    def calculate_total_poitns(self):\n",
    "        points = 0\n",
    "        for issue in project:\n",
    "            if issue.fields.customfield_10019:\n",
    "                points += int(issue.fields.customfield_10019)\n",
    "        return points"
   ]
  },
  {
   "cell_type": "code",
   "execution_count": null,
   "metadata": {
    "collapsed": true
   },
   "outputs": [],
   "source": [
    "def create_user_points(issue):\n",
    "    try:\n",
    "        return {'username':issue.fields.assignee.displayName, 'points':int(issue.fields.customfield_10019)}\n",
    "    except 'KeyError':\n",
    "            print(\"Unable to assign values to dictionary\")\n",
    "    return None"
   ]
  },
  {
   "cell_type": "code",
   "execution_count": 6,
   "metadata": {
    "collapsed": true
   },
   "outputs": [],
   "source": []
  },
  {
   "cell_type": "code",
   "execution_count": null,
   "metadata": {
    "collapsed": true
   },
   "outputs": [],
   "source": []
  }
 ],
 "metadata": {
  "kernelspec": {
   "display_name": "Python 3",
   "language": "python",
   "name": "python3"
  },
  "language_info": {
   "codemirror_mode": {
    "name": "ipython",
    "version": 3
   },
   "file_extension": ".py",
   "mimetype": "text/x-python",
   "name": "python",
   "nbconvert_exporter": "python",
   "pygments_lexer": "ipython3",
   "version": "3.6.3"
  }
 },
 "nbformat": 4,
 "nbformat_minor": 2
}
