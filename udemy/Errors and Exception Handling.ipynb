{
 "cells": [
  {
   "cell_type": "code",
   "execution_count": 1,
   "metadata": {},
   "outputs": [
    {
     "ename": "TypeError",
     "evalue": "unsupported operand type(s) for +: 'int' and 'str'",
     "output_type": "error",
     "traceback": [
      "\u001b[1;31m---------------------------------------------------------------------------\u001b[0m",
      "\u001b[1;31mTypeError\u001b[0m                                 Traceback (most recent call last)",
      "\u001b[1;32m<ipython-input-1-842879d18793>\u001b[0m in \u001b[0;36m<module>\u001b[1;34m()\u001b[0m\n\u001b[1;32m----> 1\u001b[1;33m \u001b[1;36m2\u001b[0m \u001b[1;33m+\u001b[0m \u001b[1;34m's'\u001b[0m\u001b[1;33m\u001b[0m\u001b[0m\n\u001b[0m",
      "\u001b[1;31mTypeError\u001b[0m: unsupported operand type(s) for +: 'int' and 'str'"
     ]
    }
   ],
   "source": [
    "2 + 's'"
   ]
  },
  {
   "cell_type": "code",
   "execution_count": 3,
   "metadata": {},
   "outputs": [
    {
     "name": "stdout",
     "output_type": "stream",
     "text": [
      "There was a type error\n",
      "Finally this was printed\n"
     ]
    }
   ],
   "source": [
    "try:\n",
    "    2 + 's'\n",
    "except TypeError:\n",
    "    print(\"There was a type error\")\n",
    "finally:\n",
    "    print(\"Finally this was printed\")"
   ]
  },
  {
   "cell_type": "code",
   "execution_count": 9,
   "metadata": {},
   "outputs": [
    {
     "name": "stdout",
     "output_type": "stream",
     "text": [
      "Error writing to the file\n",
      "Always executes finally blocks\n"
     ]
    }
   ],
   "source": [
    "try:\n",
    "    f = open('testfile123','r')\n",
    "    f.write('Test write this')\n",
    "except IOError:\n",
    "    print(\"Error writing to the file\")\n",
    "else:\n",
    "    print(\"File write was a success\")\n",
    "finally:\n",
    "    print(\"Always executes finally blocks\")"
   ]
  },
  {
   "cell_type": "code",
   "execution_count": 24,
   "metadata": {},
   "outputs": [],
   "source": [
    "def askint():\n",
    "    while True:\n",
    "        try:\n",
    "            val = int(input('Please enter an integer: '))\n",
    "        except:\n",
    "            print(\"Looks like you did not enter an integer\")\n",
    "            continue\n",
    "        else:\n",
    "            print(\"Correct\")\n",
    "            break\n",
    "        finally:\n",
    "            print(\"Finally block executed\")\n",
    "        print(val)"
   ]
  },
  {
   "cell_type": "code",
   "execution_count": 25,
   "metadata": {},
   "outputs": [
    {
     "name": "stdout",
     "output_type": "stream",
     "text": [
      "Please enter an integer: q\n",
      "Looks like you did not enter an integer\n",
      "Finally block executed\n",
      "Please enter an integer: q\n",
      "Looks like you did not enter an integer\n",
      "Finally block executed\n",
      "Please enter an integer: q\n",
      "Looks like you did not enter an integer\n",
      "Finally block executed\n",
      "Please enter an integer: q\n",
      "Looks like you did not enter an integer\n",
      "Finally block executed\n",
      "Please enter an integer: q\n",
      "Looks like you did not enter an integer\n",
      "Finally block executed\n",
      "Please enter an integer: q\n",
      "Looks like you did not enter an integer\n",
      "Finally block executed\n",
      "Please enter an integer: q\n",
      "Looks like you did not enter an integer\n",
      "Finally block executed\n",
      "Please enter an integer: q\n",
      "Looks like you did not enter an integer\n",
      "Finally block executed\n",
      "Please enter an integer: 1\n",
      "Correct\n",
      "Finally block executed\n"
     ]
    }
   ],
   "source": [
    "askint()"
   ]
  },
  {
   "cell_type": "code",
   "execution_count": null,
   "metadata": {
    "collapsed": true
   },
   "outputs": [],
   "source": []
  }
 ],
 "metadata": {
  "kernelspec": {
   "display_name": "Python 3",
   "language": "python",
   "name": "python3"
  },
  "language_info": {
   "codemirror_mode": {
    "name": "ipython",
    "version": 3
   },
   "file_extension": ".py",
   "mimetype": "text/x-python",
   "name": "python",
   "nbconvert_exporter": "python",
   "pygments_lexer": "ipython3",
   "version": "3.6.3"
  }
 },
 "nbformat": 4,
 "nbformat_minor": 2
}
