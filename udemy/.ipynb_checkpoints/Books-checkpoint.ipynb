{
 "cells": [
  {
   "cell_type": "code",
   "execution_count": 3,
   "metadata": {
    "collapsed": true
   },
   "outputs": [],
   "source": [
    "from tkinter import *"
   ]
  },
  {
   "cell_type": "code",
   "execution_count": 34,
   "metadata": {},
   "outputs": [],
   "source": [
    "window = Tk()\n",
    "\n",
    "# Row 0\n",
    "title_value = StringVar()\n",
    "title_label = Label(window,text=\"Title\")\n",
    "title_entry = Entry(window,textvariable=title_value)\n",
    "title_label.grid(row=0,column=0)\n",
    "title_entry.grid(row=0,column=1)\n",
    "\n",
    "author_value = StringVar()\n",
    "author_label = Label(window,text=\"Author\")\n",
    "author_entry = Entry(window,textvariable=author_value)\n",
    "author_label.grid(row=0,column=2)\n",
    "author_entry.grid(row=0,column=3)\n",
    "\n",
    "# Row 1\n",
    "year_value = StringVar()\n",
    "year_label = Label(window,text=\"Year\")\n",
    "year_entry = Entry(window,textvariable=year_value)\n",
    "year_label.grid(row=1,column=0)\n",
    "year_entry.grid(row=1,column=1)\n",
    "\n",
    "isbn_value = StringVar()\n",
    "isbn_label = Label(window,text=\"Value\")\n",
    "isbn_entry = Entry(window,textvariable=isbn_value)\n",
    "isbn_label.grid(row=1,column=2)\n",
    "isbn_entry.grid(row=1,column=3)\n",
    "\n",
    "# Row 2\n",
    "list_area = Listbox(window)\n",
    "list_area.grid(row=2,column=0, rowspan=6, columnspan=2)\n",
    "\n",
    "scr_bar = Scrollbar(window)\n",
    "scr_bar.grid(row=2, column=2, rowspen=6)\n",
    "\n",
    "list_area.configure(yscrollcommand=scr_bar.set)\n",
    "scr_bar.configure(command=list_area.yview)"
   ]
  },
  {
   "cell_type": "code",
   "execution_count": 35,
   "metadata": {
    "collapsed": true
   },
   "outputs": [],
   "source": [
    "window.mainloop()"
   ]
  },
  {
   "cell_type": "code",
   "execution_count": null,
   "metadata": {
    "collapsed": true
   },
   "outputs": [],
   "source": []
  }
 ],
 "metadata": {
  "kernelspec": {
   "display_name": "Python 3",
   "language": "python",
   "name": "python3"
  },
  "language_info": {
   "codemirror_mode": {
    "name": "ipython",
    "version": 3
   },
   "file_extension": ".py",
   "mimetype": "text/x-python",
   "name": "python",
   "nbconvert_exporter": "python",
   "pygments_lexer": "ipython3",
   "version": "3.6.3"
  }
 },
 "nbformat": 4,
 "nbformat_minor": 2
}
