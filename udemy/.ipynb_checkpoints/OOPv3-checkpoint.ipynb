{
 "cells": [
  {
   "cell_type": "code",
   "execution_count": 14,
   "metadata": {
    "collapsed": true
   },
   "outputs": [],
   "source": [
    "import sqlite3"
   ]
  },
  {
   "cell_type": "code",
   "execution_count": 44,
   "metadata": {
    "collapsed": true
   },
   "outputs": [],
   "source": [
    "class Database(object):\n",
    "    \n",
    "    def __init__(self):\n",
    "        self.conn = sqlite3.connect(\"oolite.db\")\n",
    "        self.cur = self.conn.cursor()\n",
    "        self.cur.execute(\"CREATE TABLE IF NOT EXISTS store (item TEXT, quantaty INTEGER, price REAL)\")  \n",
    "        self.conn.commit()\n",
    "\n",
    "    def __del__(self):\n",
    "        self.conn.close()\n",
    "        \n",
    "    def get_connection(self):\n",
    "        return self.conn\n",
    "    \n",
    "    def get_cursor(self):\n",
    "        return self.cur\n",
    "    \n",
    "    def commit_close(self):\n",
    "        self.conn.commit()\n",
    "        self.conn.close()    \n",
    "    \n",
    "    def create_table(self):\n",
    "        self.cur.execute(\"CREATE TABLE IF NOT EXISTS store (item TEXT, quantaty INTEGER, price REAL)\")  \n",
    "        self.conn.commit()\n",
    "            \n",
    "    def insert(self,item, qty, price):\n",
    "        self.cur.execute(\"INSERT INTO store VALUES (?,?,?)\", (item, qty, price))\n",
    "        self.conn.commit()\n",
    "                \n",
    "    def view(self):\n",
    "        self.cur.execute(\"SELECT * FROM store\")\n",
    "        rows = self.cur.fetchall()\n",
    "        return rows\n",
    "    \n",
    "    def delete(self,item):\n",
    "        self.cur.execute(\"DELETE FROM store WHERE item=?\", (item,))\n",
    "        self.conn.commit()\n",
    "        \n",
    "    def update(self,qty, price):\n",
    "        self.cur.execute(\"UPDATE store SET quantaty=? WHERE price>=?\", (qty,price))\n",
    "        self.conn.commit()        "
   ]
  },
  {
   "cell_type": "code",
   "execution_count": 45,
   "metadata": {},
   "outputs": [],
   "source": [
    "c = Database()"
   ]
  },
  {
   "cell_type": "code",
   "execution_count": 46,
   "metadata": {},
   "outputs": [
    {
     "data": {
      "text/plain": [
       "[('Pepsi Glass', 11, 11.85)]"
      ]
     },
     "execution_count": 46,
     "metadata": {},
     "output_type": "execute_result"
    }
   ],
   "source": [
    "c.view()"
   ]
  },
  {
   "cell_type": "code",
   "execution_count": 47,
   "metadata": {},
   "outputs": [],
   "source": [
    "c.insert(\"Pepsi Glass\",11,11.85)"
   ]
  },
  {
   "cell_type": "code",
   "execution_count": 48,
   "metadata": {},
   "outputs": [],
   "source": [
    "c.update(25, 11.00)"
   ]
  },
  {
   "cell_type": "code",
   "execution_count": 49,
   "metadata": {},
   "outputs": [
    {
     "name": "stdout",
     "output_type": "stream",
     "text": [
      "('Pepsi Glass', 25, 11.85)\n",
      "('Pepsi Glass', 25, 11.85)\n"
     ]
    }
   ],
   "source": [
    "#idx,item in enumerate(list):\n",
    "for idx, line in enumerate(c.view()):\n",
    "    print(line)"
   ]
  },
  {
   "cell_type": "code",
   "execution_count": null,
   "metadata": {
    "collapsed": true
   },
   "outputs": [],
   "source": [
    "def create_table():\n",
    "    conn = sqlite3.connect(\"lite.db\")\n",
    "    cur = conn.cursor()\n",
    "    cur.execute(\"CREATE TABLE IF NOT EXISTS store (item TEXT, quantaty INTEGER, price REAL)\")    \n",
    "    conn.commit()\n",
    "    conn.close()"
   ]
  },
  {
   "cell_type": "code",
   "execution_count": 24,
   "metadata": {
    "collapsed": true
   },
   "outputs": [],
   "source": [
    "def insert(item, qty, price):\n",
    "    conn = sqlite3.connect(\"lite.db\")\n",
    "    cur = conn.cursor()\n",
    "    cur.execute(\"INSERT INTO store VALUES (?,?,?)\", (item, qty, price))\n",
    "    conn.commit()\n",
    "    conn.close()"
   ]
  },
  {
   "cell_type": "code",
   "execution_count": 27,
   "metadata": {
    "collapsed": true
   },
   "outputs": [],
   "source": [
    "def view():\n",
    "    conn = sqlite3.connect(\"lite.db\")\n",
    "    cur = conn.cursor()\n",
    "    cur.execute(\"SELECT * FROM store\")\n",
    "    rows = cur.fetchall()\n",
    "    conn.close()\n",
    "    return rows"
   ]
  },
  {
   "cell_type": "code",
   "execution_count": 46,
   "metadata": {
    "collapsed": true
   },
   "outputs": [],
   "source": [
    "def delete(item):\n",
    "    conn = sqlite3.connect(\"lite.db\")\n",
    "    cur = conn.cursor()\n",
    "    cur.execute(\"DELETE FROM store WHERE item=?\", (item,))\n",
    "    conn.commit()\n",
    "    conn.close()   "
   ]
  },
  {
   "cell_type": "code",
   "execution_count": 63,
   "metadata": {
    "collapsed": true
   },
   "outputs": [],
   "source": [
    "def update(qty, price):\n",
    "    conn = sqlite3.connect(\"lite.db\")\n",
    "    cur = conn.cursor()\n",
    "    cur.execute(\"UPDATE store SET quantaty=? WHERE price>=?\", (qty,price))\n",
    "    conn.commit()\n",
    "    conn.close()"
   ]
  },
  {
   "cell_type": "code",
   "execution_count": 63,
   "metadata": {},
   "outputs": [
    {
     "ename": "OperationalError",
     "evalue": "database is locked",
     "output_type": "error",
     "traceback": [
      "\u001b[1;31m---------------------------------------------------------------------------\u001b[0m",
      "\u001b[1;31mOperationalError\u001b[0m                          Traceback (most recent call last)",
      "\u001b[1;32m<ipython-input-63-d0e543f0ee14>\u001b[0m in \u001b[0;36m<module>\u001b[1;34m()\u001b[0m\n\u001b[1;32m----> 1\u001b[1;33m \u001b[0mc\u001b[0m\u001b[1;33m.\u001b[0m\u001b[0minsert\u001b[0m\u001b[1;33m(\u001b[0m\u001b[1;34m\"Pepsi Glass\"\u001b[0m\u001b[1;33m,\u001b[0m\u001b[1;36m11\u001b[0m\u001b[1;33m,\u001b[0m\u001b[1;36m11.85\u001b[0m\u001b[1;33m)\u001b[0m\u001b[1;33m\u001b[0m\u001b[0m\n\u001b[0m",
      "\u001b[1;32m<ipython-input-61-07b79bff26f4>\u001b[0m in \u001b[0;36minsert\u001b[1;34m(self, item, qty, price)\u001b[0m\n\u001b[0;32m     21\u001b[0m \u001b[1;33m\u001b[0m\u001b[0m\n\u001b[0;32m     22\u001b[0m     \u001b[1;32mdef\u001b[0m \u001b[0minsert\u001b[0m\u001b[1;33m(\u001b[0m\u001b[0mself\u001b[0m\u001b[1;33m,\u001b[0m\u001b[0mitem\u001b[0m\u001b[1;33m,\u001b[0m \u001b[0mqty\u001b[0m\u001b[1;33m,\u001b[0m \u001b[0mprice\u001b[0m\u001b[1;33m)\u001b[0m\u001b[1;33m:\u001b[0m\u001b[1;33m\u001b[0m\u001b[0m\n\u001b[1;32m---> 23\u001b[1;33m         \u001b[0mself\u001b[0m\u001b[1;33m.\u001b[0m\u001b[0mcur\u001b[0m\u001b[1;33m.\u001b[0m\u001b[0mexecute\u001b[0m\u001b[1;33m(\u001b[0m\u001b[1;34m\"INSERT INTO store VALUES (?,?,?)\"\u001b[0m\u001b[1;33m,\u001b[0m \u001b[1;33m(\u001b[0m\u001b[0mitem\u001b[0m\u001b[1;33m,\u001b[0m \u001b[0mqty\u001b[0m\u001b[1;33m,\u001b[0m \u001b[0mprice\u001b[0m\u001b[1;33m)\u001b[0m\u001b[1;33m)\u001b[0m\u001b[1;33m\u001b[0m\u001b[0m\n\u001b[0m\u001b[0;32m     24\u001b[0m         \u001b[0mself\u001b[0m\u001b[1;33m.\u001b[0m\u001b[0mcommit_close\u001b[0m\u001b[1;33m(\u001b[0m\u001b[1;33m)\u001b[0m\u001b[1;33m\u001b[0m\u001b[0m\n\u001b[0;32m     25\u001b[0m \u001b[1;33m\u001b[0m\u001b[0m\n",
      "\u001b[1;31mOperationalError\u001b[0m: database is locked"
     ]
    }
   ],
   "source": []
  },
  {
   "cell_type": "code",
   "execution_count": 48,
   "metadata": {
    "collapsed": true
   },
   "outputs": [],
   "source": [
    "c.delete(\"Pepsi Glass\")"
   ]
  },
  {
   "cell_type": "code",
   "execution_count": 66,
   "metadata": {
    "collapsed": true
   },
   "outputs": [],
   "source": []
  },
  {
   "cell_type": "code",
   "execution_count": null,
   "metadata": {
    "collapsed": true
   },
   "outputs": [],
   "source": []
  },
  {
   "cell_type": "code",
   "execution_count": 19,
   "metadata": {
    "collapsed": true
   },
   "outputs": [],
   "source": [
    "conn.close()"
   ]
  },
  {
   "cell_type": "code",
   "execution_count": null,
   "metadata": {
    "collapsed": true
   },
   "outputs": [],
   "source": []
  }
 ],
 "metadata": {
  "kernelspec": {
   "display_name": "Python 3",
   "language": "python",
   "name": "python3"
  },
  "language_info": {
   "codemirror_mode": {
    "name": "ipython",
    "version": 3
   },
   "file_extension": ".py",
   "mimetype": "text/x-python",
   "name": "python",
   "nbconvert_exporter": "python",
   "pygments_lexer": "ipython3",
   "version": "3.6.3"
  }
 },
 "nbformat": 4,
 "nbformat_minor": 2
}
