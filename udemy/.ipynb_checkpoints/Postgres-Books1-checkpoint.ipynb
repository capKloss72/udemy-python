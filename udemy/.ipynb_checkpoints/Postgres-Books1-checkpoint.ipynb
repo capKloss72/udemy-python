{
 "cells": [
  {
   "cell_type": "code",
   "execution_count": 7,
   "metadata": {
    "collapsed": true
   },
   "outputs": [],
   "source": [
    "import psycopg2"
   ]
  },
  {
   "cell_type": "code",
   "execution_count": 16,
   "metadata": {},
   "outputs": [],
   "source": [
    "def create_table():\n",
    "    conn = psycopg2.connect(\"dbname='database 1' user='postgres' password='password1' host='localhost' port='5432'\")\n",
    "    cur = conn.cursor()\n",
    "    cur.execute(\"CREATE TABLE IF NOT EXISTS store (item TEXT, quantaty INTEGER, price REAL)\")    \n",
    "    conn.commit()\n",
    "    conn.close()"
   ]
  },
  {
   "cell_type": "code",
   "execution_count": 36,
   "metadata": {
    "collapsed": true
   },
   "outputs": [],
   "source": [
    "def insert(item, qty, price):\n",
    "    conn = psycopg2.connect(\"dbname='database 1' user='postgres' password='password1' host='localhost' port='5432'\")\n",
    "    cur = conn.cursor()\n",
    "    #cur.execute(\"INSERT INTO store VALUES ('%s','%d','%d')\" % (item, qty, price))\n",
    "    cur.execute(\"INSERT INTO store VALUES (%s,%s,%s)\", (item, qty, price))\n",
    "    conn.commit()\n",
    "    conn.close()"
   ]
  },
  {
   "cell_type": "code",
   "execution_count": 23,
   "metadata": {
    "collapsed": true
   },
   "outputs": [],
   "source": [
    "def view():\n",
    "    conn = psycopg2.connect(\"dbname='database 1' user='postgres' password='password1' host='localhost' port='5432'\")\n",
    "    cur = conn.cursor()\n",
    "    cur.execute(\"SELECT * FROM store\")\n",
    "    rows = cur.fetchall()\n",
    "    conn.close()\n",
    "    return rows"
   ]
  },
  {
   "cell_type": "code",
   "execution_count": 44,
   "metadata": {
    "collapsed": true
   },
   "outputs": [],
   "source": [
    "def delete(item):\n",
    "    conn = psycopg2.connect(\"dbname='database 1' user='postgres' password='password1' host='localhost' port='5432'\")\n",
    "    cur = conn.cursor()\n",
    "    cur.execute(\"DELETE FROM store WHERE item=%s\", (item,))\n",
    "    conn.commit()\n",
    "    conn.close()   "
   ]
  },
  {
   "cell_type": "code",
   "execution_count": 40,
   "metadata": {
    "collapsed": true
   },
   "outputs": [],
   "source": [
    "def update(qty, price):\n",
    "    conn = psycopg2.connect(\"dbname='database 1' user='postgres' password='password1' host='localhost' port='5432'\")\n",
    "    cur = conn.cursor()\n",
    "    cur.execute(\"UPDATE store SET quantaty=%s WHERE price>=%s\", (qty,price))\n",
    "    conn.commit()\n",
    "    conn.close()"
   ]
  },
  {
   "cell_type": "code",
   "execution_count": 15,
   "metadata": {
    "collapsed": true
   },
   "outputs": [],
   "source": [
    "create_table()"
   ]
  },
  {
   "cell_type": "code",
   "execution_count": 37,
   "metadata": {},
   "outputs": [],
   "source": [
    "insert('Spirits Glass',58,19.50)"
   ]
  },
  {
   "cell_type": "code",
   "execution_count": 45,
   "metadata": {},
   "outputs": [],
   "source": [
    "delete(\"Pepsi Glass\")"
   ]
  },
  {
   "cell_type": "code",
   "execution_count": 41,
   "metadata": {},
   "outputs": [],
   "source": [
    "update(25, 11.00)"
   ]
  },
  {
   "cell_type": "code",
   "execution_count": 38,
   "metadata": {},
   "outputs": [
    {
     "name": "stdout",
     "output_type": "stream",
     "text": [
      "('Pepsi Glass', 11, 11.85)\n",
      "('Wine Glass', 21, 11.0)\n",
      "('Spirits Glass', 58, 19.5)\n"
     ]
    }
   ],
   "source": [
    "#idx,item in enumerate(list):\n",
    "for idx, line in enumerate(view()):\n",
    "    print(line)"
   ]
  },
  {
   "cell_type": "code",
   "execution_count": 19,
   "metadata": {
    "collapsed": true
   },
   "outputs": [],
   "source": [
    "conn.close()"
   ]
  },
  {
   "cell_type": "code",
   "execution_count": 2,
   "metadata": {},
   "outputs": [
    {
     "ename": "NameError",
     "evalue": "name 'pyycopg1' is not defined",
     "output_type": "error",
     "traceback": [
      "\u001b[1;31m---------------------------------------------------------------------------\u001b[0m",
      "\u001b[1;31mNameError\u001b[0m                                 Traceback (most recent call last)",
      "\u001b[1;32m<ipython-input-2-9ac44334e2de>\u001b[0m in \u001b[0;36m<module>\u001b[1;34m()\u001b[0m\n\u001b[1;32m----> 1\u001b[1;33m \u001b[0mpyycopg1\u001b[0m\u001b[1;33m.\u001b[0m\u001b[0m__version__\u001b[0m\u001b[1;33m\u001b[0m\u001b[0m\n\u001b[0m",
      "\u001b[1;31mNameError\u001b[0m: name 'pyycopg1' is not defined"
     ]
    }
   ],
   "source": [
    "pyycopg1.__version__"
   ]
  },
  {
   "cell_type": "code",
   "execution_count": null,
   "metadata": {
    "collapsed": true
   },
   "outputs": [],
   "source": []
  }
 ],
 "metadata": {
  "kernelspec": {
   "display_name": "Python 3",
   "language": "python",
   "name": "python3"
  },
  "language_info": {
   "codemirror_mode": {
    "name": "ipython",
    "version": 3
   },
   "file_extension": ".py",
   "mimetype": "text/x-python",
   "name": "python",
   "nbconvert_exporter": "python",
   "pygments_lexer": "ipython3",
   "version": "3.6.3"
  }
 },
 "nbformat": 4,
 "nbformat_minor": 2
}
