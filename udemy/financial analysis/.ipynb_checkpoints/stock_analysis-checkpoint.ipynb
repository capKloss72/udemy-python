{
 "cells": [
  {
   "cell_type": "code",
   "execution_count": 99,
   "metadata": {},
   "outputs": [],
   "source": [
    "from pandas_datareader import data\n",
    "import datetime\n",
    "from bokeh.plotting import figure, show, output_file\n",
    "\n",
    "start = datetime.datetime(2015,11,1)\n",
    "end = datetime.datetime(2016,3,10)\n",
    "\n",
    "df = data.DataReader(name=\"GOOG\", data_source=\"yahoo\", start=start, end=end)\n",
    "\n",
    "def inc_dec(c, o):\n",
    "    if (c > o):\n",
    "        value = \"Inc\"\n",
    "    elif c < o:\n",
    "        value = \"Dec\"\n",
    "    else:\n",
    "        vaelue = \"Eq\"\n",
    "    return value\n",
    "\n",
    "df[\"Status\"]=[inc_dec(c,o) for c,o in zip(df.Close, df.Open)]\n",
    "df[\"Middle\"]=(df.Open+df.Close)/2\n",
    "df[\"Heigh\"]=abs(df.Close-df.Open)\n",
    "\n",
    "p = figure(x_axis_type=\"datetime\", width=1000, height=300, sizing_mode=\"scale_both\", title=\"Candelstick Chart\")\n",
    "p.title.text_color = \"blue\"\n",
    "p.title.text_font = \"times\"\n",
    "p.title.text_font_style = \"italic\"\n",
    "p.title.text_font_size = \"24pt\"\n",
    "\n",
    "p.grid.grid_line_alpha=0.\n",
    "\n",
    "hours_12 = 12*60*60*1000\n",
    "\n",
    "p.segment(df.index, df.High, df.index, df.Low, color=\"black\")\n",
    "\n",
    "p.rect(df.index[df.Status==\"Inc\"], df.Middle[df.Status==\"Inc\"], hours_12, df.Heigh[df.Status==\"Inc\"], \n",
    "       fill_color=\"#00BFFF\", line_color=\"black\")\n",
    "\n",
    "p.rect(df.index[df.Status==\"Dec\"], df.Middle[df.Status==\"Dec\"], hours_12, df.Heigh[df.Status==\"Dec\"], \n",
    "       fill_color=\"#DAA520\", line_color=\"black\")\n",
    "\n",
    "\n",
    "\n",
    "output_file(\"CS.html\")\n",
    "show(p)"
   ]
  },
  {
   "cell_type": "code",
   "execution_count": null,
   "metadata": {
    "collapsed": true
   },
   "outputs": [],
   "source": []
  }
 ],
 "metadata": {
  "kernelspec": {
   "display_name": "Python 3",
   "language": "python",
   "name": "python3"
  },
  "language_info": {
   "codemirror_mode": {
    "name": "ipython",
    "version": 3
   },
   "file_extension": ".py",
   "mimetype": "text/x-python",
   "name": "python",
   "nbconvert_exporter": "python",
   "pygments_lexer": "ipython3",
   "version": "3.6.3"
  }
 },
 "nbformat": 4,
 "nbformat_minor": 2
}
