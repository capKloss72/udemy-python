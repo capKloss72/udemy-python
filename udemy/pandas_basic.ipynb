{
 "cells": [
  {
   "cell_type": "code",
   "execution_count": 1,
   "metadata": {
    "collapsed": true
   },
   "outputs": [],
   "source": [
    "import pandas"
   ]
  },
  {
   "cell_type": "code",
   "execution_count": 13,
   "metadata": {
    "collapsed": true
   },
   "outputs": [],
   "source": [
    "df = pandas.DataFrame([[2,4,6],[10,20,30]], columns=[\"Price\",\"Page\",\"Value\"], index=[\"First\", \"Second\"])"
   ]
  },
  {
   "cell_type": "code",
   "execution_count": 14,
   "metadata": {},
   "outputs": [
    {
     "data": {
      "text/html": [
       "<div>\n",
       "<style scoped>\n",
       "    .dataframe tbody tr th:only-of-type {\n",
       "        vertical-align: middle;\n",
       "    }\n",
       "\n",
       "    .dataframe tbody tr th {\n",
       "        vertical-align: top;\n",
       "    }\n",
       "\n",
       "    .dataframe thead th {\n",
       "        text-align: right;\n",
       "    }\n",
       "</style>\n",
       "<table border=\"1\" class=\"dataframe\">\n",
       "  <thead>\n",
       "    <tr style=\"text-align: right;\">\n",
       "      <th></th>\n",
       "      <th>Price</th>\n",
       "      <th>Page</th>\n",
       "      <th>Value</th>\n",
       "    </tr>\n",
       "  </thead>\n",
       "  <tbody>\n",
       "    <tr>\n",
       "      <th>First</th>\n",
       "      <td>2</td>\n",
       "      <td>4</td>\n",
       "      <td>6</td>\n",
       "    </tr>\n",
       "    <tr>\n",
       "      <th>Second</th>\n",
       "      <td>10</td>\n",
       "      <td>20</td>\n",
       "      <td>30</td>\n",
       "    </tr>\n",
       "  </tbody>\n",
       "</table>\n",
       "</div>"
      ],
      "text/plain": [
       "        Price  Page  Value\n",
       "First       2     4      6\n",
       "Second     10    20     30"
      ]
     },
     "execution_count": 14,
     "metadata": {},
     "output_type": "execute_result"
    }
   ],
   "source": [
    "df"
   ]
  },
  {
   "cell_type": "code",
   "execution_count": 17,
   "metadata": {},
   "outputs": [
    {
     "data": {
      "text/plain": [
       "12.0"
      ]
     },
     "execution_count": 17,
     "metadata": {},
     "output_type": "execute_result"
    }
   ],
   "source": [
    "df.mean().mean()"
   ]
  },
  {
   "cell_type": "code",
   "execution_count": 22,
   "metadata": {},
   "outputs": [
    {
     "data": {
      "text/plain": [
       "12.0"
      ]
     },
     "execution_count": 22,
     "metadata": {},
     "output_type": "execute_result"
    }
   ],
   "source": [
    "df.sum().sum()/6"
   ]
  },
  {
   "cell_type": "code",
   "execution_count": 32,
   "metadata": {},
   "outputs": [
    {
     "ename": "TypeError",
     "evalue": "'Index' object is not callable",
     "output_type": "error",
     "traceback": [
      "\u001b[1;31m---------------------------------------------------------------------------\u001b[0m",
      "\u001b[1;31mTypeError\u001b[0m                                 Traceback (most recent call last)",
      "\u001b[1;32m<ipython-input-32-b03c546c50ac>\u001b[0m in \u001b[0;36m<module>\u001b[1;34m()\u001b[0m\n\u001b[1;32m----> 1\u001b[1;33m \u001b[0mdf\u001b[0m\u001b[1;33m.\u001b[0m\u001b[0mindex\u001b[0m\u001b[1;33m(\u001b[0m\u001b[1;33m[\u001b[0m\u001b[1;36m1\u001b[0m\u001b[1;33m,\u001b[0m\u001b[1;36m2\u001b[0m\u001b[1;33m]\u001b[0m\u001b[1;33m)\u001b[0m\u001b[1;33m\u001b[0m\u001b[0m\n\u001b[0m",
      "\u001b[1;31mTypeError\u001b[0m: 'Index' object is not callable"
     ]
    }
   ],
   "source": [
    "df.index([1,2])"
   ]
  },
  {
   "cell_type": "code",
   "execution_count": 33,
   "metadata": {},
   "outputs": [
    {
     "data": {
      "text/plain": [
       "Index(['First', 'Second'], dtype='object')"
      ]
     },
     "execution_count": 33,
     "metadata": {},
     "output_type": "execute_result"
    }
   ],
   "source": [
    "df.index"
   ]
  },
  {
   "cell_type": "code",
   "execution_count": 35,
   "metadata": {},
   "outputs": [],
   "source": [
    "df=pandas.read_csv(\"C:\\\\Users\\\\H088750\\\\Downloads\\\\Availability_of_primary_sources_of_conventional_energy_upto_year_2012-13.csv\")"
   ]
  },
  {
   "cell_type": "code",
   "execution_count": 36,
   "metadata": {},
   "outputs": [
    {
     "data": {
      "text/html": [
       "<div>\n",
       "<style scoped>\n",
       "    .dataframe tbody tr th:only-of-type {\n",
       "        vertical-align: middle;\n",
       "    }\n",
       "\n",
       "    .dataframe tbody tr th {\n",
       "        vertical-align: top;\n",
       "    }\n",
       "\n",
       "    .dataframe thead th {\n",
       "        text-align: right;\n",
       "    }\n",
       "</style>\n",
       "<table border=\"1\" class=\"dataframe\">\n",
       "  <thead>\n",
       "    <tr style=\"text-align: right;\">\n",
       "      <th></th>\n",
       "      <th>Year</th>\n",
       "      <th>Coal (Million Tonnes)</th>\n",
       "      <th>Lignite (Million Tonnes)</th>\n",
       "      <th>Crude Petroleum (Million Tonnes)</th>\n",
       "      <th>Natural Gas (Billion Cubic Metres)</th>\n",
       "      <th>Electricity* -Hydro &amp; Nuclear (GWh)</th>\n",
       "    </tr>\n",
       "  </thead>\n",
       "  <tbody>\n",
       "    <tr>\n",
       "      <th>0</th>\n",
       "      <td>2000-01</td>\n",
       "      <td>325.448</td>\n",
       "      <td>30.09</td>\n",
       "      <td>106.523</td>\n",
       "      <td>96.52</td>\n",
       "      <td>471868</td>\n",
       "    </tr>\n",
       "    <tr>\n",
       "      <th>1</th>\n",
       "      <td>2001-02</td>\n",
       "      <td>343.120</td>\n",
       "      <td>24.57</td>\n",
       "      <td>110.740</td>\n",
       "      <td>28.04</td>\n",
       "      <td>93054</td>\n",
       "    </tr>\n",
       "    <tr>\n",
       "      <th>2</th>\n",
       "      <td>2002-03</td>\n",
       "      <td>361.750</td>\n",
       "      <td>26.03</td>\n",
       "      <td>115.030</td>\n",
       "      <td>29.96</td>\n",
       "      <td>83404</td>\n",
       "    </tr>\n",
       "    <tr>\n",
       "      <th>3</th>\n",
       "      <td>2003-04</td>\n",
       "      <td>379.410</td>\n",
       "      <td>28.48</td>\n",
       "      <td>123.810</td>\n",
       "      <td>30.91</td>\n",
       "      <td>93022</td>\n",
       "    </tr>\n",
       "    <tr>\n",
       "      <th>4</th>\n",
       "      <td>2004-05</td>\n",
       "      <td>404.690</td>\n",
       "      <td>30.09</td>\n",
       "      <td>129.840</td>\n",
       "      <td>30.78</td>\n",
       "      <td>101621</td>\n",
       "    </tr>\n",
       "    <tr>\n",
       "      <th>5</th>\n",
       "      <td>2005-06</td>\n",
       "      <td>433.270</td>\n",
       "      <td>66.84</td>\n",
       "      <td>130.110</td>\n",
       "      <td>31.33</td>\n",
       "      <td>592194</td>\n",
       "    </tr>\n",
       "    <tr>\n",
       "      <th>6</th>\n",
       "      <td>2006-07</td>\n",
       "      <td>462.353</td>\n",
       "      <td>72.34</td>\n",
       "      <td>146.550</td>\n",
       "      <td>30.79</td>\n",
       "      <td>639008</td>\n",
       "    </tr>\n",
       "    <tr>\n",
       "      <th>7</th>\n",
       "      <td>2007-08</td>\n",
       "      <td>502.818</td>\n",
       "      <td>82.82</td>\n",
       "      <td>156.100</td>\n",
       "      <td>31.48</td>\n",
       "      <td>689780</td>\n",
       "    </tr>\n",
       "    <tr>\n",
       "      <th>8</th>\n",
       "      <td>2008-09</td>\n",
       "      <td>549.570</td>\n",
       "      <td>89.19</td>\n",
       "      <td>160.770</td>\n",
       "      <td>31.75</td>\n",
       "      <td>712540</td>\n",
       "    </tr>\n",
       "    <tr>\n",
       "      <th>9</th>\n",
       "      <td>2009-10</td>\n",
       "      <td>585.300</td>\n",
       "      <td>105.21</td>\n",
       "      <td>192.770</td>\n",
       "      <td>46.52</td>\n",
       "      <td>761934</td>\n",
       "    </tr>\n",
       "    <tr>\n",
       "      <th>10</th>\n",
       "      <td>2010-11</td>\n",
       "      <td>589.870</td>\n",
       "      <td>102.20</td>\n",
       "      <td>196.990</td>\n",
       "      <td>51.25</td>\n",
       "      <td>809455</td>\n",
       "    </tr>\n",
       "    <tr>\n",
       "      <th>11</th>\n",
       "      <td>2011-12</td>\n",
       "      <td>638.840</td>\n",
       "      <td>139.44</td>\n",
       "      <td>204.120</td>\n",
       "      <td>46.48</td>\n",
       "      <td>811506</td>\n",
       "    </tr>\n",
       "    <tr>\n",
       "      <th>12</th>\n",
       "      <td>2012-13(P)</td>\n",
       "      <td>704.340</td>\n",
       "      <td>46.05</td>\n",
       "      <td>219.210</td>\n",
       "      <td>39.78</td>\n",
       "      <td>908574</td>\n",
       "    </tr>\n",
       "  </tbody>\n",
       "</table>\n",
       "</div>"
      ],
      "text/plain": [
       "          Year  Coal (Million Tonnes)  Lignite (Million Tonnes)  \\\n",
       "0      2000-01                325.448                     30.09   \n",
       "1      2001-02                343.120                     24.57   \n",
       "2      2002-03                361.750                     26.03   \n",
       "3      2003-04                379.410                     28.48   \n",
       "4      2004-05                404.690                     30.09   \n",
       "5      2005-06                433.270                     66.84   \n",
       "6      2006-07                462.353                     72.34   \n",
       "7      2007-08                502.818                     82.82   \n",
       "8      2008-09                549.570                     89.19   \n",
       "9      2009-10                585.300                    105.21   \n",
       "10     2010-11                589.870                    102.20   \n",
       "11     2011-12                638.840                    139.44   \n",
       "12  2012-13(P)                704.340                     46.05   \n",
       "\n",
       "    Crude Petroleum (Million Tonnes)  Natural Gas (Billion Cubic Metres)  \\\n",
       "0                            106.523                               96.52   \n",
       "1                            110.740                               28.04   \n",
       "2                            115.030                               29.96   \n",
       "3                            123.810                               30.91   \n",
       "4                            129.840                               30.78   \n",
       "5                            130.110                               31.33   \n",
       "6                            146.550                               30.79   \n",
       "7                            156.100                               31.48   \n",
       "8                            160.770                               31.75   \n",
       "9                            192.770                               46.52   \n",
       "10                           196.990                               51.25   \n",
       "11                           204.120                               46.48   \n",
       "12                           219.210                               39.78   \n",
       "\n",
       "    Electricity* -Hydro & Nuclear (GWh)  \n",
       "0                                471868  \n",
       "1                                 93054  \n",
       "2                                 83404  \n",
       "3                                 93022  \n",
       "4                                101621  \n",
       "5                                592194  \n",
       "6                                639008  \n",
       "7                                689780  \n",
       "8                                712540  \n",
       "9                                761934  \n",
       "10                               809455  \n",
       "11                               811506  \n",
       "12                               908574  "
      ]
     },
     "execution_count": 36,
     "metadata": {},
     "output_type": "execute_result"
    }
   ],
   "source": [
    "df"
   ]
  },
  {
   "cell_type": "code",
   "execution_count": 37,
   "metadata": {},
   "outputs": [
    {
     "data": {
      "text/plain": [
       "Coal (Million Tonnes)                     483.136846\n",
       "Lignite (Million Tonnes)                   64.873077\n",
       "Crude Petroleum (Million Tonnes)          153.274077\n",
       "Natural Gas (Billion Cubic Metres)         40.430000\n",
       "Electricity* -Hydro & Nuclear (GWh)    520612.307692\n",
       "dtype: float64"
      ]
     },
     "execution_count": 37,
     "metadata": {},
     "output_type": "execute_result"
    }
   ],
   "source": [
    "df.mean()"
   ]
  },
  {
   "cell_type": "code",
   "execution_count": 40,
   "metadata": {},
   "outputs": [
    {
     "ename": "TypeError",
     "evalue": "'Index' object is not callable",
     "output_type": "error",
     "traceback": [
      "\u001b[1;31m---------------------------------------------------------------------------\u001b[0m",
      "\u001b[1;31mTypeError\u001b[0m                                 Traceback (most recent call last)",
      "\u001b[1;32m<ipython-input-40-fe47b3f1b4b0>\u001b[0m in \u001b[0;36m<module>\u001b[1;34m()\u001b[0m\n\u001b[1;32m----> 1\u001b[1;33m \u001b[0mdf\u001b[0m\u001b[1;33m.\u001b[0m\u001b[0mcolumns\u001b[0m\u001b[1;33m(\u001b[0m\u001b[1;33m)\u001b[0m\u001b[1;33m\u001b[0m\u001b[0m\n\u001b[0m",
      "\u001b[1;31mTypeError\u001b[0m: 'Index' object is not callable"
     ]
    }
   ],
   "source": [
    "df.columns()"
   ]
  },
  {
   "cell_type": "code",
   "execution_count": null,
   "metadata": {
    "collapsed": true
   },
   "outputs": [],
   "source": []
  }
 ],
 "metadata": {
  "kernelspec": {
   "display_name": "Python 3",
   "language": "python",
   "name": "python3"
  },
  "language_info": {
   "codemirror_mode": {
    "name": "ipython",
    "version": 3
   },
   "file_extension": ".py",
   "mimetype": "text/x-python",
   "name": "python",
   "nbconvert_exporter": "python",
   "pygments_lexer": "ipython3",
   "version": "3.6.3"
  }
 },
 "nbformat": 4,
 "nbformat_minor": 2
}
