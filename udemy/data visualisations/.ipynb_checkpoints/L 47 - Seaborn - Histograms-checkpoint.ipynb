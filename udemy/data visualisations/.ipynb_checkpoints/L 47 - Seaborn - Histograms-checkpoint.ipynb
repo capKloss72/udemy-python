{
 "cells": [
  {
   "cell_type": "code",
   "execution_count": 1,
   "metadata": {
    "collapsed": true
   },
   "outputs": [],
   "source": [
    "# http://stanford.edu/~mwaskom/software/seaborn/installing.html"
   ]
  },
  {
   "cell_type": "code",
   "execution_count": null,
   "metadata": {
    "collapsed": true
   },
   "outputs": [],
   "source": [
    "import numpy as np\n",
    "import pandas as pd\n",
    "from pandas import Series, DataFrame\n",
    "from numpy.random import randn\n",
    "from IPython.display import YouTubeVideo\n",
    "from pandas_datareader import data, wb\n",
    "import pandas_datareader as pdweb\n",
    "import datetime\n",
    "import seaborn as sns\n",
    "import matplotlib.pyplot as plt \n",
    "from seaborn.regression import coefplot\n",
    "import sys\n",
    "from io import StringIO"
   ]
  }
 ],
 "metadata": {
  "kernelspec": {
   "display_name": "Python 3",
   "language": "python",
   "name": "python3"
  },
  "language_info": {
   "codemirror_mode": {
    "name": "ipython",
    "version": 3
   },
   "file_extension": ".py",
   "mimetype": "text/x-python",
   "name": "python",
   "nbconvert_exporter": "python",
   "pygments_lexer": "ipython3",
   "version": "3.6.3"
  }
 },
 "nbformat": 4,
 "nbformat_minor": 2
}
