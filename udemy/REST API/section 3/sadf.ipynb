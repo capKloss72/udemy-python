{
 "cells": [
  {
   "cell_type": "code",
   "execution_count": 1,
   "metadata": {
    "collapsed": true
   },
   "outputs": [],
   "source": [
    "from flask import Flask, jsonify, request"
   ]
  },
  {
   "cell_type": "code",
   "execution_count": 9,
   "metadata": {},
   "outputs": [
    {
     "name": "stderr",
     "output_type": "stream",
     "text": [
      " * Running on http://127.0.0.1:5001/ (Press CTRL+C to quit)\n"
     ]
    }
   ],
   "source": [
    "from flask import Flask, jsonify, request\n",
    "\n",
    "app = Flask(__name__)\n",
    "\n",
    "stores = [\n",
    "    {\n",
    "        'name': 'My Wonderful Store',\n",
    "        'items':[\n",
    "            {\n",
    "                'name':'My Item',\n",
    "                'price': 15.99\n",
    "            }\n",
    "        ]\n",
    "    }\n",
    "]\n",
    "\n",
    "# From Server's Perspective\n",
    "# POST used to receive data\n",
    "# GET used to send data back\n",
    "\n",
    "# POST /store data {name:}\n",
    "@app.route('/store', methods=['POST']) # By default this is a get request\n",
    "def create_store():\n",
    "    request.data = request.get_json()\n",
    "    new_store = {\n",
    "        'name': request_data['name'],\n",
    "        'items': []\n",
    "    }\n",
    "    stores.append(new_store)\n",
    "    return jsonify(new_store)\n",
    "\n",
    "# GET /store/<cstring:name>\n",
    "@app.route('/store/<string:name>')\n",
    "def get_store(name):\n",
    "    # iterate over stores\n",
    "    for key, value in get_stores().items():\n",
    "        print(\"KEY: \" + key + \" VALUE: \" + str(value)) \n",
    "\n",
    "# GET /store\n",
    "@app.route('/store')\n",
    "def get_stores():\n",
    "    return jsonify({'stores':stores})\n",
    "    \n",
    "# POST /store/<cstring:name>/item {name:, price:}\n",
    "@app.route('/store/<string:name>/item', methods=['POST']) # By default this is a get request\n",
    "def create_item_in_store(name):\n",
    "    pass\n",
    "\n",
    "# GET /store/<cstring:name>/item \n",
    "@app.route('/store/<string:name>/item')\n",
    "def get_item_in_store(name):\n",
    "    pass\n",
    "\n",
    "\n",
    "app.run(port=5001)"
   ]
  },
  {
   "cell_type": "code",
   "execution_count": null,
   "metadata": {},
   "outputs": [],
   "source": [
    "print(type(\"HERE \" + get_stores()))\n",
    "for key, value in get_stores().items():\n",
    "    print(\"KEY: \" + key + \" VALUE: \" + str(value))"
   ]
  },
  {
   "cell_type": "code",
   "execution_count": null,
   "metadata": {
    "collapsed": true
   },
   "outputs": [],
   "source": []
  }
 ],
 "metadata": {
  "kernelspec": {
   "display_name": "Python 3",
   "language": "python",
   "name": "python3"
  },
  "language_info": {
   "codemirror_mode": {
    "name": "ipython",
    "version": 3
   },
   "file_extension": ".py",
   "mimetype": "text/x-python",
   "name": "python",
   "nbconvert_exporter": "python",
   "pygments_lexer": "ipython3",
   "version": "3.6.3"
  }
 },
 "nbformat": 4,
 "nbformat_minor": 2
}
