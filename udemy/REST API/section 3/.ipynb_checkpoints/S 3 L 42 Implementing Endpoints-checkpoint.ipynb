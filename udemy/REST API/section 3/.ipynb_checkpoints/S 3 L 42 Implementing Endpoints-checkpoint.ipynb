{
 "cells": [
  {
   "cell_type": "code",
   "execution_count": 6,
   "metadata": {
    "collapsed": true
   },
   "outputs": [],
   "source": [
    "import webbrowser\n",
    "url = 'http://127.0.0.1:5001/'"
   ]
  },
  {
   "cell_type": "code",
   "execution_count": null,
   "metadata": {},
   "outputs": [
    {
     "name": "stderr",
     "output_type": "stream",
     "text": [
      " * Running on http://127.0.0.1:5001/ (Press CTRL+C to quit)\n",
      "127.0.0.1 - - [09/Jan/2018 08:56:29] \"POST /store/My%20Wonderful%20Store/item HTTP/1.1\" 200 -\n",
      "127.0.0.1 - - [09/Jan/2018 08:56:35] \"GET /store HTTP/1.1\" 200 -\n",
      "127.0.0.1 - - [09/Jan/2018 08:56:52] \"POST /store HTTP/1.1\" 200 -\n",
      "127.0.0.1 - - [09/Jan/2018 08:56:56] \"GET /store HTTP/1.1\" 200 -\n",
      "127.0.0.1 - - [09/Jan/2018 08:58:50] \"POST /store/My%20Wonderful%20Store/item HTTP/1.1\" 200 -\n",
      "127.0.0.1 - - [09/Jan/2018 08:58:59] \"GET /store HTTP/1.1\" 200 -\n"
     ]
    }
   ],
   "source": [
    "from flask import Flask, jsonify, request, render_template\n",
    "\n",
    "app = Flask(__name__)\n",
    "\n",
    "stores = [\n",
    "    {\n",
    "        'name': 'My Wonderful Store',\n",
    "        'items':[\n",
    "            {\n",
    "                'name':'My Item',\n",
    "                'price': 15.99\n",
    "            }\n",
    "        ]\n",
    "    }\n",
    "]\n",
    "\n",
    "# From Server's Perspective\n",
    "# POST used to receive data\n",
    "# GET used to send data back\n",
    "\n",
    "# POST /store data {name:}\n",
    "@app.route('/store', methods=['POST']) # By default this is a get request\n",
    "def create_store():\n",
    "    request_data = request.get_json()\n",
    "    new_store = {\n",
    "        'name': request_data['name'],\n",
    "        'items': []\n",
    "    }\n",
    "    stores.append(new_store)\n",
    "    return jsonify(new_store)\n",
    "\n",
    "# GET /store/<cstring:name>\n",
    "@app.route('/store/<string:name>')\n",
    "def get_store(name):\n",
    "    for store in stores:\n",
    "        if store['name'] == name:\n",
    "            return jsonify(store)\n",
    "        \n",
    "    return jsonify({'message': 'Store not found'})\n",
    "\n",
    "# GET /store\n",
    "@app.route('/store')\n",
    "def get_stores():\n",
    "    return jsonify({'stores':stores})\n",
    "    \n",
    "# POST /store/<cstring:name>/item {name:, price:}\n",
    "@app.route('/store/<string:name>/item', methods=['POST']) # By default this is a get request\n",
    "def create_item_in_store(name):\n",
    "    request_data = request.get_json()\n",
    "    for store in stores:\n",
    "        if store['name'] == name:\n",
    "            new_item = {\n",
    "                'name': request_data['name'],\n",
    "                'price': request_data['price']\n",
    "            }\n",
    "            store['items'].append(new_item)\n",
    "            return jsonify(new_item)\n",
    "        \n",
    "    return jsonify({'message': 'Store not found'})\n",
    "\n",
    "# GET /store/<cstring:name>/item \n",
    "@app.route('/store/<string:name>/item')\n",
    "def get_item_in_store(name):\n",
    "    for store in stores:\n",
    "        if store['name'] == name:\n",
    "            return jsonify({'items': store['items']})\n",
    "                    \n",
    "    return jsonify({'message': 'Store not found'})\n",
    "\n",
    "@app.route('/')\n",
    "def home():\n",
    "    return render_template('index.html')\n",
    "\n",
    "app.run(port=5001)"
   ]
  },
  {
   "cell_type": "code",
   "execution_count": null,
   "metadata": {
    "collapsed": true
   },
   "outputs": [],
   "source": [
    "webbrowser.open(url)"
   ]
  },
  {
   "cell_type": "code",
   "execution_count": null,
   "metadata": {
    "collapsed": true
   },
   "outputs": [],
   "source": []
  },
  {
   "cell_type": "code",
   "execution_count": null,
   "metadata": {
    "collapsed": true
   },
   "outputs": [],
   "source": []
  },
  {
   "cell_type": "code",
   "execution_count": null,
   "metadata": {
    "collapsed": true
   },
   "outputs": [],
   "source": []
  }
 ],
 "metadata": {
  "kernelspec": {
   "display_name": "Python 3",
   "language": "python",
   "name": "python3"
  },
  "language_info": {
   "codemirror_mode": {
    "name": "ipython",
    "version": 3
   },
   "file_extension": ".py",
   "mimetype": "text/x-python",
   "name": "python",
   "nbconvert_exporter": "python",
   "pygments_lexer": "ipython3",
   "version": "3.6.3"
  }
 },
 "nbformat": 4,
 "nbformat_minor": 2
}
