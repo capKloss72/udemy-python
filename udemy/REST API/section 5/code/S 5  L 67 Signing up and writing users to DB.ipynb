{
 "cells": [
  {
   "cell_type": "code",
   "execution_count": null,
   "metadata": {
    "scrolled": false
   },
   "outputs": [
    {
     "name": "stderr",
     "output_type": "stream",
     "text": [
      " * Running on http://127.0.0.1:5001/ (Press CTRL+C to quit)\n",
      "127.0.0.1 - - [10/Jan/2018 12:56:58] \"POST /register HTTP/1.1\" 400 -\n"
     ]
    }
   ],
   "source": [
    "from flask import Flask, request, jsonify\n",
    "from flask_restful import Resource, Api, reqparse\n",
    "from flask_jwt import JWT\n",
    "from flask_jwt import jwt_required\n",
    "from security import authenticate, identity\n",
    "from user import UserRegister\n",
    "\n",
    "\n",
    "app = Flask(__name__)\n",
    "app.secret_key = 'tym'\n",
    "api = Api(app)\n",
    "\n",
    "jwt = JWT(app, authenticate, identity) # new endpoint /auth\n",
    "\n",
    "items = []\n",
    "\n",
    "class Item(Resource):\n",
    "    @jwt_required()\n",
    "    def get(self, name):\n",
    "        item = next(filter(lambda x: x['name'] == name, items), None) # first item found\n",
    "        return {'item': item}, 200 if item else 404\n",
    "        \n",
    "    def post(self, name):\n",
    "        if next(filter(lambda x: x['name'] == name, items), None) is not None:\n",
    "            return {'message': \"An item with name '{}' already exists\".format(name)}, 400\n",
    "        \n",
    "        data = self.validate_data('price','This field cannot be left blank').parse_args()\n",
    "        \n",
    "        new_item = {\n",
    "                'name': name,\n",
    "                'price': data['price']\n",
    "        }\n",
    "        items.append(new_item)\n",
    "        return new_item, 201\n",
    "    \n",
    "    def delete(self, name):\n",
    "        global items\n",
    "        items = list(filter(lambda x: x['name'] != name, items)) # return list of items\n",
    "        return {'message': \"'{}' item deleted\".format(name)}\n",
    "    \n",
    "    def put(self, name):\n",
    "        data = self.validate_data('price','This field cannot be left blank').parse_args()\n",
    "        \n",
    "        item = next(filter(lambda x: x['name'] == name, items), None)\n",
    "        if item is None:\n",
    "            new_item = {\n",
    "                'name': name,\n",
    "                'price': data['price']\n",
    "            }\n",
    "            items.append(new_item)\n",
    "        else:\n",
    "            item.update(data)\n",
    "        \n",
    "        return item, 201\n",
    "    \n",
    "    \n",
    "    def validate_data(self, field, message):\n",
    "        parser = reqparse.RequestParser()\n",
    "        parser.add_argument(field, \n",
    "                            type=float, \n",
    "                            required=True, \n",
    "                            help=message\n",
    "        )\n",
    "        return parser\n",
    "    \n",
    "class ItemList(Resource):\n",
    "    def get(self):\n",
    "        return {'items': items}\n",
    "\n",
    "api.add_resource(Item, '/item/<string:name>') # http://127.0.0.1/itemt/<item name>\n",
    "api.add_resource(ItemList, '/items')\n",
    "api.add_resource(UserRegister, '/register')\n",
    "app.run(port=5001)"
   ]
  },
  {
   "cell_type": "code",
   "execution_count": 1,
   "metadata": {
    "collapsed": true
   },
   "outputs": [],
   "source": [
    " "
   ]
  },
  {
   "cell_type": "code",
   "execution_count": 3,
   "metadata": {
    "collapsed": true
   },
   "outputs": [],
   "source": [
    "      "
   ]
  },
  {
   "cell_type": "code",
   "execution_count": null,
   "metadata": {
    "collapsed": true
   },
   "outputs": [],
   "source": []
  }
 ],
 "metadata": {
  "kernelspec": {
   "display_name": "Python 3",
   "language": "python",
   "name": "python3"
  },
  "language_info": {
   "codemirror_mode": {
    "name": "ipython",
    "version": 3
   },
   "file_extension": ".py",
   "mimetype": "text/x-python",
   "name": "python",
   "nbconvert_exporter": "python",
   "pygments_lexer": "ipython3",
   "version": "3.6.3"
  }
 },
 "nbformat": 4,
 "nbformat_minor": 2
}
