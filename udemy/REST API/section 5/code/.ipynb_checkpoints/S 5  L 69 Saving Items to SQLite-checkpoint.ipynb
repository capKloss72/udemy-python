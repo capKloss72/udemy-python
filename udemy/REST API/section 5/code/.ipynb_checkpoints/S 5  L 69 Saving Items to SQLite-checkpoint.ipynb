{
 "cells": [
  {
   "cell_type": "code",
   "execution_count": 1,
   "metadata": {
    "scrolled": false
   },
   "outputs": [
    {
     "name": "stderr",
     "output_type": "stream",
     "text": [
      " * Running on http://127.0.0.1:5001/ (Press CTRL+C to quit)\n",
      "127.0.0.1 - - [10/Jan/2018 15:58:57] \"POST /item/lamp HTTP/1.1\" 200 -\n"
     ]
    }
   ],
   "source": [
    "from flask import Flask, request, jsonify\n",
    "from flask_restful import Resource, Api, reqparse\n",
    "from flask_jwt import JWT\n",
    "from flask_jwt import jwt_required\n",
    "from security import authenticate, identity\n",
    "from user import UserRegister\n",
    "import sqlite3\n",
    "\n",
    "\n",
    "app = Flask(__name__)\n",
    "app.secret_key = 'tym'\n",
    "api = Api(app)\n",
    "\n",
    "jwt = JWT(app, authenticate, identity) # new endpoint /auth\n",
    "\n",
    "class Item(Resource):\n",
    "    @jwt_required()\n",
    "    def get(self, name):\n",
    "        connection = sqlite3.connect('data.db')\n",
    "        cursor = connection.cursor()\n",
    "        \n",
    "        query = \"SELECT * FROM items WHERE name =?\"\n",
    "        result = cursor.execute(query, (name,))\n",
    "        row = result.fetchone()\n",
    "        connection.close()\n",
    "        \n",
    "        if row:\n",
    "            return {'item': {'name': row[1],\n",
    "                            'price': row[2]}}\n",
    "        return {'message', 'item not found'}\n",
    "        \n",
    "        \n",
    "    def post(self, name):\n",
    "        data = Item.validate_data(['price'],'This field cannot be left blank').parse_args()\n",
    "        \n",
    "        if Item.find_by_name(name) == True:\n",
    "            return {'message': \"'{}' already exists\".format(name)}\n",
    "        \n",
    "        connection = sqlite3.connect('data.db')\n",
    "        cursor = connection.cursor()\n",
    "        query = \"INSERT INTO items VALUES(NULL, ?, ?)\"\n",
    "        cursor.execute(query, (name, data['price']))\n",
    "        connection.commit()\n",
    "        if connection.total_changes > 0:\n",
    "            connection.close()\n",
    "            return {'message': \"'{}' was added with a price of {}\".format(name,data['price'])}, 201\n",
    "        return {'message': \"'{}' was not added\".format(name)}, 400\n",
    "            \n",
    "    def delete(self, name):\n",
    "        connection = sqlite3.connect('data.db')\n",
    "        cursor = connection.cursor()\n",
    "        query = \"DELETE FROM items WHERE name = ?\"\n",
    "        cursor.execute(query, (name,))\n",
    "        connection.commit()\n",
    "        if connection.total_changes > 0:\n",
    "            connection.close()\n",
    "            return {'message': \"'{}' item deleted\".format(name)}\n",
    "        return {'message': \"'{}' item was not deleted\".format(name)}\n",
    "    \n",
    "    def put(self, name):\n",
    "        data = Item.validate_data(['price'],'This field cannot be left blank').parse_args()\n",
    "        \n",
    "        connection = sqlite3.connect('data.db')\n",
    "        cursor = connection.cursor()\n",
    "        query = \"UPDATE items SET price = ? WHERE name = ?\"\n",
    "        cursor.execute(query, (data['price'], name))\n",
    "        connection.commit()\n",
    "        if connection.total_changes > 0:\n",
    "            connection.close()\n",
    "            return {'message': \"'{}' was updated by {}\".format(name,data['price'])}, 201\n",
    "        return {'message': \"'{}' was not updated\".format(name)}, 400\n",
    "    \n",
    "    @classmethod\n",
    "    def find_by_name(cls, name):\n",
    "        connection = sqlite3.connect('data.db')\n",
    "        cursor = connection.cursor() \n",
    "        query = \"SELECT * FROM items WHERE name = ?\"\n",
    "        result = cursor.execute(query, (name,))\n",
    "        row = result.fetchone()\n",
    "        connection.close()\n",
    "        return True if row else False        \n",
    "    \n",
    "    @classmethod\n",
    "    def validate_data(self, fields, message):\n",
    "        parser = reqparse.RequestParser()  \n",
    "        for field in fields:\n",
    "            parser.add_argument(field, \n",
    "                            type=str, \n",
    "                            required=True, \n",
    "                            help=message\n",
    "        )\n",
    "        return parser\n",
    "    \n",
    "class ItemList(Resource):\n",
    "    def get(self):\n",
    "        return {'items': items}\n",
    "\n",
    "api.add_resource(Item, '/item/<string:name>') # http://127.0.0.1/itemt/<item name>\n",
    "api.add_resource(ItemList, '/items')\n",
    "api.add_resource(UserRegister, '/register')\n",
    "app.run(port=5001)"
   ]
  },
  {
   "cell_type": "code",
   "execution_count": 1,
   "metadata": {
    "collapsed": true
   },
   "outputs": [],
   "source": [
    " "
   ]
  },
  {
   "cell_type": "code",
   "execution_count": 3,
   "metadata": {
    "collapsed": true
   },
   "outputs": [],
   "source": [
    "      "
   ]
  },
  {
   "cell_type": "code",
   "execution_count": null,
   "metadata": {
    "collapsed": true
   },
   "outputs": [],
   "source": []
  }
 ],
 "metadata": {
  "kernelspec": {
   "display_name": "Python 3",
   "language": "python",
   "name": "python3"
  },
  "language_info": {
   "codemirror_mode": {
    "name": "ipython",
    "version": 3
   },
   "file_extension": ".py",
   "mimetype": "text/x-python",
   "name": "python",
   "nbconvert_exporter": "python",
   "pygments_lexer": "ipython3",
   "version": "3.6.3"
  }
 },
 "nbformat": 4,
 "nbformat_minor": 2
}
