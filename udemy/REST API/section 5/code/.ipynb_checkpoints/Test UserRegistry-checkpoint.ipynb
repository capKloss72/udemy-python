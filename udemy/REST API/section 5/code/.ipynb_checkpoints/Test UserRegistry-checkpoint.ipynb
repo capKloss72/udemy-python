{
 "cells": [
  {
   "cell_type": "code",
   "execution_count": 3,
   "metadata": {
    "collapsed": true
   },
   "outputs": [],
   "source": [
    "import sqlite3\n",
    "\n",
    "connection = sqlite3.connect('data.db')\n",
    "cursor = connection.cursor()\n",
    "\n",
    "# Use INTEGER for auto increment\n",
    "create_table = 'CREATE TABLE IF NOT EXISTS users (id INTEGER PRIMARY KEY, username text, password text)'\n",
    "cursor.execute(create_table)\n",
    "\n",
    "connection.commit()\n",
    "connection.close()"
   ]
  },
  {
   "cell_type": "code",
   "execution_count": 94,
   "metadata": {
    "collapsed": true
   },
   "outputs": [],
   "source": [
    "from flask import Flask, request, jsonify\n",
    "from flask_restful import Resource, Api, reqparse\n",
    "\n",
    "class UserRegister(Resource):\n",
    "    def post(self):\n",
    "        \n",
    "        connection = sqlite3.connect('data.db')\n",
    "        cursor = connection.cursor()\n",
    "            \n",
    "        data = UserRegister.validate_data(['username','password'],'This field cannot be left blank').parse_args()\n",
    "        \n",
    "        user_exists_query = \"SELECT COUNT(*) FROM users WHERE username = ?\"\n",
    "        user_exists = cursor.execute(user_exists_query, (data['username'],)).fetchall()\n",
    "                \n",
    "        if user_exists[0][0] >= 1:\n",
    "            return {'message': \"A user with name '{}' already exists\".format(data['username'])}, 400\n",
    "        \n",
    "        add_user_query = \"INSERT INTO users VALUES (NULL, ?, ?)\"\n",
    "        cursor.execute(add_user_query, (data['username'], data['password']))\n",
    "        \n",
    "        connection.commit()\n",
    "        connection.close()\n",
    "        \n",
    "        return {'message': \"User '{}' created succesfully.\".format(data['username'])}, 201\n",
    "    \n",
    "    @classmethod\n",
    "    def validate_data(self, fields, message):\n",
    "        parser = reqparse.RequestParser()  \n",
    "        for field in fields:\n",
    "            parser.add_argument(field, \n",
    "                            type=str, \n",
    "                            required=True, \n",
    "                            help=message\n",
    "        )\n",
    "        return parser"
   ]
  },
  {
   "cell_type": "code",
   "execution_count": 6,
   "metadata": {},
   "outputs": [],
   "source": [
    "import sqlite3\n",
    "connection = sqlite3.connect('data.db')\n",
    "cursor = connection.cursor()\n",
    "\n",
    "for i in cursor.execute(\"SELECT * FROM items\"):\n",
    "    print (i)"
   ]
  },
  {
   "cell_type": "code",
   "execution_count": 20,
   "metadata": {},
   "outputs": [
    {
     "name": "stdout",
     "output_type": "stream",
     "text": [
      "(2, 'table', 12.25)\n",
      "(3, 'table', 12.25)\n"
     ]
    }
   ],
   "source": [
    "import sqlite3\n",
    "connection = sqlite3.connect('data.db')\n",
    "cursor = connection.cursor()\n",
    "query = \"DELETE FROM items WHERE name = ?\"\n",
    "\n",
    "x = cursor.execute(query, ('bottle',))\n",
    "connection.commit()\n",
    "connection.total_changes\n",
    "\n",
    "for i in cursor.execute(\"SELECT * FROM items\"):\n",
    "    print (i)"
   ]
  },
  {
   "cell_type": "code",
   "execution_count": 21,
   "metadata": {},
   "outputs": [
    {
     "data": {
      "text/plain": [
       "0"
      ]
     },
     "execution_count": 21,
     "metadata": {},
     "output_type": "execute_result"
    }
   ],
   "source": [
    "connection.total_changes"
   ]
  },
  {
   "cell_type": "code",
   "execution_count": 11,
   "metadata": {},
   "outputs": [
    {
     "ename": "TypeError",
     "evalue": "'NoneType' object is not subscriptable",
     "output_type": "error",
     "traceback": [
      "\u001b[1;31m---------------------------------------------------------------------------\u001b[0m",
      "\u001b[1;31mTypeError\u001b[0m                                 Traceback (most recent call last)",
      "\u001b[1;32m<ipython-input-11-d0a24a012877>\u001b[0m in \u001b[0;36m<module>\u001b[1;34m()\u001b[0m\n\u001b[1;32m----> 1\u001b[1;33m \u001b[0mt\u001b[0m\u001b[1;33m[\u001b[0m\u001b[1;36m0\u001b[0m\u001b[1;33m]\u001b[0m\u001b[1;33m\u001b[0m\u001b[0m\n\u001b[0m",
      "\u001b[1;31mTypeError\u001b[0m: 'NoneType' object is not subscriptable"
     ]
    }
   ],
   "source": []
  },
  {
   "cell_type": "code",
   "execution_count": 93,
   "metadata": {},
   "outputs": [
    {
     "name": "stdout",
     "output_type": "stream",
     "text": [
      "NOT\n"
     ]
    }
   ],
   "source": [
    "query = \"SELECT COUNT(*) FROM users WHERE username = ?\"\n",
    "#query = \"SELECT * FROM users\"\n",
    "\n",
    "x = cursor.execute(query, ('bo2bas',)).fetchall()\n",
    "if x[0][0] >= 1:\n",
    "    print(\"EX\")\n",
    "else:\n",
    "    print(\"NOT\")\n"
   ]
  },
  {
   "cell_type": "code",
   "execution_count": 4,
   "metadata": {},
   "outputs": [
    {
     "name": "stdout",
     "output_type": "stream",
     "text": [
      "(1, 'plate', 10.25)\n"
     ]
    }
   ],
   "source": [
    "import sqlite3\n",
    "connection = sqlite3.connect('data.db')\n",
    "cursor = connection.cursor()\n",
    "cursor.execute(\"INSERT INTO items VALUES(NULL, 'plate', 10.25)\")\n",
    "connection.commit()\n",
    "\n",
    "for i in cursor.execute(\"SELECT * FROM items\"):\n",
    "    print (i)"
   ]
  },
  {
   "cell_type": "code",
   "execution_count": null,
   "metadata": {
    "collapsed": true
   },
   "outputs": [],
   "source": []
  }
 ],
 "metadata": {
  "kernelspec": {
   "display_name": "Python 3",
   "language": "python",
   "name": "python3"
  },
  "language_info": {
   "codemirror_mode": {
    "name": "ipython",
    "version": 3
   },
   "file_extension": ".py",
   "mimetype": "text/x-python",
   "name": "python",
   "nbconvert_exporter": "python",
   "pygments_lexer": "ipython3",
   "version": "3.6.3"
  }
 },
 "nbformat": 4,
 "nbformat_minor": 2
}
