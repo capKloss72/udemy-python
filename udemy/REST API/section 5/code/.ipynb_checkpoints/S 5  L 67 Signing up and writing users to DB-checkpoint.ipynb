{
 "cells": [
  {
   "cell_type": "code",
   "execution_count": null,
   "metadata": {
    "scrolled": false
   },
   "outputs": [
    {
     "name": "stderr",
     "output_type": "stream",
     "text": [
      " * Running on http://127.0.0.1:5001/ (Press CTRL+C to quit)\n",
      "127.0.0.1 - - [09/Jan/2018 15:34:36] \"POST /auth HTTP/1.1\" 200 -\n",
      "127.0.0.1 - - [09/Jan/2018 15:34:59] \"POST /item/chair HTTP/1.1\" 201 -\n",
      "[2018-01-09 15:35:08,260] ERROR in app: Exception on /item/<name> [GET]\n",
      "Traceback (most recent call last):\n",
      "  File \"C:\\code\\Anaconda3\\lib\\site-packages\\flask\\app.py\", line 1612, in full_dispatch_request\n",
      "    rv = self.dispatch_request()\n",
      "  File \"C:\\code\\Anaconda3\\lib\\site-packages\\flask\\app.py\", line 1598, in dispatch_request\n",
      "    return self.view_functions[rule.endpoint](**req.view_args)\n",
      "  File \"C:\\code\\Anaconda3\\lib\\site-packages\\flask_restful\\__init__.py\", line 480, in wrapper\n",
      "    resp = resource(*args, **kwargs)\n",
      "  File \"C:\\code\\Anaconda3\\lib\\site-packages\\flask\\views.py\", line 84, in view\n",
      "    return self.dispatch_request(*args, **kwargs)\n",
      "  File \"C:\\code\\Anaconda3\\lib\\site-packages\\flask_restful\\__init__.py\", line 595, in dispatch_request\n",
      "    resp = meth(*args, **kwargs)\n",
      "  File \"C:\\code\\Anaconda3\\lib\\site-packages\\flask_jwt\\__init__.py\", line 176, in decorator\n",
      "    _jwt_required(realm or current_app.config['JWT_DEFAULT_REALM'])\n",
      "  File \"C:\\code\\Anaconda3\\lib\\site-packages\\flask_jwt\\__init__.py\", line 155, in _jwt_required\n",
      "    headers={'WWW-Authenticate': 'JWT realm=\"%s\"' % realm})\n",
      "flask_jwt.JWTError: Authorization Required. Request does not contain an access token\n",
      "127.0.0.1 - - [09/Jan/2018 15:35:08] \"GET /item/%3Cname%3E HTTP/1.1\" 500 -\n",
      "127.0.0.1 - - [09/Jan/2018 15:35:21] \"GET /item/%3Cname%3E HTTP/1.1\" 404 -\n",
      "127.0.0.1 - - [09/Jan/2018 15:35:28] \"GET /items HTTP/1.1\" 200 -\n",
      "127.0.0.1 - - [09/Jan/2018 15:35:41] \"GET /item/chair HTTP/1.1\" 200 -\n"
     ]
    }
   ],
   "source": [
    "from flask import Flask, request, jsonify\n",
    "from flask_restful import Resource, Api, reqparse\n",
    "from flask_jwt import JWT\n",
    "from flask_jwt import jwt_required\n",
    "from security import authenticate, identity\n",
    "\n",
    "\n",
    "app = Flask(__name__)\n",
    "app.secret_key = 'tym'\n",
    "api = Api(app)\n",
    "\n",
    "jwt = JWT(app, authenticate, identity) # new endpoint /auth\n",
    "\n",
    "items = []\n",
    "\n",
    "class Item(Resource):\n",
    "    @jwt_required()\n",
    "    def get(self, name):\n",
    "        item = next(filter(lambda x: x['name'] == name, items), None) # first item found\n",
    "        return {'item': item}, 200 if item else 404\n",
    "        \n",
    "    def post(self, name):\n",
    "        if next(filter(lambda x: x['name'] == name, items), None) is not None:\n",
    "            return {'message': \"An item with name '{}' already exists\".format(name)}, 400\n",
    "        \n",
    "        data = self.validate_data('price','This field cannot be left blank').parse_args()\n",
    "        \n",
    "        new_item = {\n",
    "                'name': name,\n",
    "                'price': data['price']\n",
    "        }\n",
    "        items.append(new_item)\n",
    "        return new_item, 201\n",
    "    \n",
    "    def delete(self, name):\n",
    "        global items\n",
    "        items = list(filter(lambda x: x['name'] != name, items)) # return list of items\n",
    "        return {'message': \"'{}' item deleted\".format(name)}\n",
    "    \n",
    "    def put(self, name):\n",
    "        data = self.validate_data('price','This field cannot be left blank').parse_args()\n",
    "        \n",
    "        item = next(filter(lambda x: x['name'] == name, items), None)\n",
    "        if item is None:\n",
    "            new_item = {\n",
    "                'name': name,\n",
    "                'price': data['price']\n",
    "            }\n",
    "            items.append(new_item)\n",
    "        else:\n",
    "            item.update(data)\n",
    "        \n",
    "        return item, 201\n",
    "    \n",
    "    \n",
    "    def validate_data(self, field, message):\n",
    "        parser = reqparse.RequestParser()\n",
    "        parser.add_argument(field, \n",
    "                            type=float, \n",
    "                            required=True, \n",
    "                            help=message\n",
    "        )\n",
    "        return parser\n",
    "    \n",
    "class ItemList(Resource):\n",
    "    def get(self):\n",
    "        return {'items': items}\n",
    "\n",
    "api.add_resource(Item, '/item/<string:name>') # http://127.0.0.1/itemt/<item name>\n",
    "api.add_resource(ItemList, '/items')\n",
    "app.run(port=5001)"
   ]
  },
  {
   "cell_type": "code",
   "execution_count": 1,
   "metadata": {
    "collapsed": true
   },
   "outputs": [],
   "source": [
    " "
   ]
  },
  {
   "cell_type": "code",
   "execution_count": 3,
   "metadata": {
    "collapsed": true
   },
   "outputs": [],
   "source": [
    "      "
   ]
  },
  {
   "cell_type": "code",
   "execution_count": null,
   "metadata": {
    "collapsed": true
   },
   "outputs": [],
   "source": []
  }
 ],
 "metadata": {
  "kernelspec": {
   "display_name": "Python 3",
   "language": "python",
   "name": "python3"
  },
  "language_info": {
   "codemirror_mode": {
    "name": "ipython",
    "version": 3
   },
   "file_extension": ".py",
   "mimetype": "text/x-python",
   "name": "python",
   "nbconvert_exporter": "python",
   "pygments_lexer": "ipython3",
   "version": "3.6.3"
  }
 },
 "nbformat": 4,
 "nbformat_minor": 2
}
