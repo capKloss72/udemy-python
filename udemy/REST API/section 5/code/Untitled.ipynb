{
 "cells": [
  {
   "cell_type": "code",
   "execution_count": 35,
   "metadata": {},
   "outputs": [],
   "source": [
    "import sqlite3\n",
    "\n",
    "class User(object):\n",
    "    def __init__(self, id, username, password):\n",
    "        self.id = id\n",
    "        self.username = username\n",
    "        self.password = password\n",
    "        \n",
    "    @classmethod   \n",
    "    def find_by_username(cls, username):\n",
    "        connection = sqlite3.connect('data.db')\n",
    "        cursor = connection.cursor() \n",
    "        query = \"SELECT * FROM users WHERE username = ?\"\n",
    "        result = cursor.execute(query, (username,))\n",
    "        row = result.fetchone()\n",
    "        if row:\n",
    "            user = cls(*row)\n",
    "        else:\n",
    "            user = None\n",
    "        \n",
    "        connection.close()\n",
    "        return user\n",
    "    \n",
    "    @classmethod   \n",
    "    def find_by_id(cls, _id):\n",
    "        connection = sqlite3.connect('data.db')\n",
    "        cursor = connection.cursor() \n",
    "        query = \"SELECT * FROM users WHERE id = ?\"\n",
    "        result = cursor.execute(query, (_id,))\n",
    "        row = result.fetchone()\n",
    "        if row:\n",
    "            user = cls(*row)\n",
    "        else:\n",
    "            user = None\n",
    "        \n",
    "        connection.close()\n",
    "        return user"
   ]
  },
  {
   "cell_type": "code",
   "execution_count": 36,
   "metadata": {},
   "outputs": [],
   "source": [
    "user = User(1, 'tym', 'password')"
   ]
  },
  {
   "cell_type": "code",
   "execution_count": 37,
   "metadata": {},
   "outputs": [
    {
     "name": "stdout",
     "output_type": "stream",
     "text": [
      "sim\n"
     ]
    }
   ],
   "source": [
    "u = user.find_by_id(3)\n",
    "print(u.username)"
   ]
  },
  {
   "cell_type": "code",
   "execution_count": null,
   "metadata": {
    "collapsed": true
   },
   "outputs": [],
   "source": []
  }
 ],
 "metadata": {
  "kernelspec": {
   "display_name": "Python 3",
   "language": "python",
   "name": "python3"
  },
  "language_info": {
   "codemirror_mode": {
    "name": "ipython",
    "version": 3
   },
   "file_extension": ".py",
   "mimetype": "text/x-python",
   "name": "python",
   "nbconvert_exporter": "python",
   "pygments_lexer": "ipython3",
   "version": "3.6.3"
  }
 },
 "nbformat": 4,
 "nbformat_minor": 2
}
