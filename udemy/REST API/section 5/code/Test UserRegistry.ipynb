{
 "cells": [
  {
   "cell_type": "code",
   "execution_count": 3,
   "metadata": {
    "collapsed": true
   },
   "outputs": [],
   "source": [
    "import sqlite3\n",
    "\n",
    "connection = sqlite3.connect('data.db')\n",
    "cursor = connection.cursor()\n",
    "\n",
    "# Use INTEGER for auto increment\n",
    "create_table = 'CREATE TABLE IF NOT EXISTS users (id INTEGER PRIMARY KEY, username text, password text)'\n",
    "cursor.execute(create_table)\n",
    "\n",
    "connection.commit()\n",
    "connection.close()"
   ]
  },
  {
   "cell_type": "code",
   "execution_count": 94,
   "metadata": {
    "collapsed": true
   },
   "outputs": [],
   "source": [
    "from flask import Flask, request, jsonify\n",
    "from flask_restful import Resource, Api, reqparse\n",
    "\n",
    "class UserRegister(Resource):\n",
    "    def post(self):\n",
    "        \n",
    "        connection = sqlite3.connect('data.db')\n",
    "        cursor = connection.cursor()\n",
    "            \n",
    "        data = UserRegister.validate_data(['username','password'],'This field cannot be left blank').parse_args()\n",
    "        \n",
    "        user_exists_query = \"SELECT COUNT(*) FROM users WHERE username = ?\"\n",
    "        user_exists = cursor.execute(user_exists_query, (data['username'],)).fetchall()\n",
    "                \n",
    "        if user_exists[0][0] >= 1:\n",
    "            return {'message': \"A user with name '{}' already exists\".format(data['username'])}, 400\n",
    "        \n",
    "        add_user_query = \"INSERT INTO users VALUES (NULL, ?, ?)\"\n",
    "        cursor.execute(add_user_query, (data['username'], data['password']))\n",
    "        \n",
    "        connection.commit()\n",
    "        connection.close()\n",
    "        \n",
    "        return {'message': \"User '{}' created succesfully.\".format(data['username'])}, 201\n",
    "    \n",
    "    @classmethod\n",
    "    def validate_data(self, fields, message):\n",
    "        parser = reqparse.RequestParser()  \n",
    "        for field in fields:\n",
    "            parser.add_argument(field, \n",
    "                            type=str, \n",
    "                            required=True, \n",
    "                            help=message\n",
    "        )\n",
    "        return parser"
   ]
  },
  {
   "cell_type": "code",
   "execution_count": 47,
   "metadata": {},
   "outputs": [
    {
     "name": "stdout",
     "output_type": "stream",
     "text": [
      "bottle\n",
      "big_chair\n",
      "lamp\n",
      "lamp\n",
      "lamp\n",
      "lamp\n",
      "lamp\n",
      "lamp\n",
      "lamp\n",
      "lamp\n"
     ]
    },
    {
     "data": {
      "text/plain": [
       "[{'name': 'bottle', 'price': 15.25},\n",
       " {'name': 'big_chair', 'price': 100.99},\n",
       " {'name': 'lamp', 'price': 29.87},\n",
       " {'name': 'lamp', 'price': 29.87},\n",
       " {'name': 'lamp', 'price': 29.87},\n",
       " {'name': 'lamp', 'price': 29.87},\n",
       " {'name': 'lamp', 'price': 29.87},\n",
       " {'name': 'lamp', 'price': 29.87},\n",
       " {'name': 'lamp', 'price': 29.87},\n",
       " {'name': 'lamp', 'price': 29.87}]"
      ]
     },
     "execution_count": 47,
     "metadata": {},
     "output_type": "execute_result"
    }
   ],
   "source": [
    "import sqlite3\n",
    "connection = sqlite3.connect('data.db')\n",
    "cursor = connection.cursor()\n",
    "#type(cursor.execute(\"SELECT * FROM items\"))\n",
    "s = []\n",
    "for i in cursor.execute(\"SELECT * FROM items\").fetchall():\n",
    "    print (i[1])\n",
    "    s.append({'name':i[1],\n",
    "             'price':i[2]})\n",
    "s"
   ]
  },
  {
   "cell_type": "code",
   "execution_count": 24,
   "metadata": {},
   "outputs": [],
   "source": [
    "import sqlite3\n",
    "connection = sqlite3.connect('data.db')\n",
    "cursor = connection.cursor()\n",
    "query = \"DELETE FROM items WHERE name = ?\"\n",
    "\n",
    "x = cursor.execute(query, ('table',))\n",
    "connection.commit()\n",
    "connection.total_changes\n",
    "\n",
    "for i in cursor.execute(\"SELECT * FROM items\"):\n",
    "    print (i)"
   ]
  },
  {
   "cell_type": "code",
   "execution_count": 25,
   "metadata": {},
   "outputs": [
    {
     "data": {
      "text/plain": [
       "2"
      ]
     },
     "execution_count": 25,
     "metadata": {},
     "output_type": "execute_result"
    }
   ],
   "source": [
    "connection.total_changes"
   ]
  },
  {
   "cell_type": "code",
   "execution_count": 28,
   "metadata": {},
   "outputs": [
    {
     "data": {
      "text/plain": [
       "1"
      ]
     },
     "execution_count": 28,
     "metadata": {},
     "output_type": "execute_result"
    }
   ],
   "source": [
    "import sqlite3\n",
    "connection = sqlite3.connect('data.db')\n",
    "cursor = connection.cursor()\n",
    "query = \"UPDATE items SET name = ? WHERE name = ?\"\n",
    "x = cursor.execute(query, ('big_chair', 'chair'))\n",
    "connection.commit()\n",
    "connection.total_changes"
   ]
  },
  {
   "cell_type": "code",
   "execution_count": 30,
   "metadata": {},
   "outputs": [
    {
     "name": "stdout",
     "output_type": "stream",
     "text": [
      "First name: Tym, last name Zon \n"
     ]
    }
   ],
   "source": [
    "f = \"Tym\"\n",
    "l = \"Zon\"\n",
    "print(\"First name: {}, last name {} \".format(f,l))"
   ]
  },
  {
   "cell_type": "code",
   "execution_count": 93,
   "metadata": {},
   "outputs": [
    {
     "name": "stdout",
     "output_type": "stream",
     "text": [
      "NOT\n"
     ]
    }
   ],
   "source": [
    "query = \"SELECT COUNT(*) FROM users WHERE username = ?\"\n",
    "#query = \"SELECT * FROM users\"\n",
    "\n",
    "x = cursor.execute(query, ('bo2bas',)).fetchall()\n",
    "if x[0][0] >= 1:\n",
    "    print(\"EX\")\n",
    "else:\n",
    "    print(\"NOT\")\n"
   ]
  },
  {
   "cell_type": "code",
   "execution_count": 4,
   "metadata": {},
   "outputs": [
    {
     "name": "stdout",
     "output_type": "stream",
     "text": [
      "(1, 'plate', 10.25)\n"
     ]
    }
   ],
   "source": [
    "import sqlite3\n",
    "connection = sqlite3.connect('data.db')\n",
    "cursor = connection.cursor()\n",
    "cursor.execute(\"INSERT INTO items VALUES(NULL, 'plate', 10.25)\")\n",
    "connection.commit()\n",
    "\n",
    "for i in cursor.execute(\"SELECT * FROM items\"):\n",
    "    print (i)"
   ]
  },
  {
   "cell_type": "code",
   "execution_count": null,
   "metadata": {
    "collapsed": true
   },
   "outputs": [],
   "source": []
  }
 ],
 "metadata": {
  "kernelspec": {
   "display_name": "Python 3",
   "language": "python",
   "name": "python3"
  },
  "language_info": {
   "codemirror_mode": {
    "name": "ipython",
    "version": 3
   },
   "file_extension": ".py",
   "mimetype": "text/x-python",
   "name": "python",
   "nbconvert_exporter": "python",
   "pygments_lexer": "ipython3",
   "version": "3.6.3"
  }
 },
 "nbformat": 4,
 "nbformat_minor": 2
}
