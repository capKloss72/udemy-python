{
 "cells": [
  {
   "cell_type": "code",
   "execution_count": null,
   "metadata": {
    "scrolled": true
   },
   "outputs": [
    {
     "name": "stderr",
     "output_type": "stream",
     "text": [
      " * Running on http://127.0.0.1:5001/ (Press CTRL+C to quit)\n",
      "127.0.0.1 - - [05/Feb/2018 11:14:56] \"PUT /item/phone HTTP/1.1\" 201 -\n",
      "127.0.0.1 - - [05/Feb/2018 11:15:03] \"GET /items HTTP/1.1\" 200 -\n"
     ]
    }
   ],
   "source": [
    "from flask import Flask\n",
    "from flask_restful import Api\n",
    "from flask_jwt import JWT\n",
    "\n",
    "from security import authenticate, identity\n",
    "from resources.user import UserRegister\n",
    "from resources.item import Item, ItemList\n",
    "\n",
    "app = Flask(__name__)\n",
    "app.secret_key = 'tym'\n",
    "api = Api(app)\n",
    "\n",
    "jwt = JWT(app, authenticate, identity) # new endpoint /auth\n",
    "\n",
    "api.add_resource(Item, '/item/<string:name>') # http://127.0.0.1/itemt/<item name>\n",
    "api.add_resource(ItemList, '/items')\n",
    "api.add_resource(UserRegister, '/register')\n",
    "\n",
    "if __name__ == '__main__':\n",
    "    app.run(port=5001)"
   ]
  },
  {
   "cell_type": "code",
   "execution_count": null,
   "metadata": {},
   "outputs": [],
   "source": []
  },
  {
   "cell_type": "code",
   "execution_count": null,
   "metadata": {
    "collapsed": true
   },
   "outputs": [],
   "source": []
  },
  {
   "cell_type": "code",
   "execution_count": null,
   "metadata": {
    "collapsed": true
   },
   "outputs": [],
   "source": []
  },
  {
   "cell_type": "code",
   "execution_count": null,
   "metadata": {
    "collapsed": true
   },
   "outputs": [],
   "source": []
  },
  {
   "cell_type": "code",
   "execution_count": null,
   "metadata": {
    "collapsed": true
   },
   "outputs": [],
   "source": []
  }
 ],
 "metadata": {
  "kernelspec": {
   "display_name": "Python 3",
   "language": "python",
   "name": "python3"
  },
  "language_info": {
   "codemirror_mode": {
    "name": "ipython",
    "version": 3
   },
   "file_extension": ".py",
   "mimetype": "text/x-python",
   "name": "python",
   "nbconvert_exporter": "python",
   "pygments_lexer": "ipython3",
   "version": "3.6.3"
  }
 },
 "nbformat": 4,
 "nbformat_minor": 2
}
