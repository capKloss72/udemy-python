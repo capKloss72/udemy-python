{
 "cells": [
  {
   "cell_type": "code",
   "execution_count": 10,
   "metadata": {
    "collapsed": true
   },
   "outputs": [],
   "source": [
    "import sqlite3\n",
    "\n",
    "connection = sqlite3.connect('data.db')\n",
    "\n",
    "cursor = connection.cursor()\n",
    "\n",
    "create_table = 'CREATE TABLE users (id int, username text, password text)'\n",
    "\n",
    "cursor.execute(create_table)\n",
    "\n",
    "user = (1, 'tym', 'password')\n",
    "\n",
    "insert_query = \"INSERT INTO users VALUES (?, ?, ?)\"\n",
    "\n",
    "\n",
    "users = [\n",
    "   (1, 'tym', 'password'),\n",
    "   (2, 'bob', 'password'),\n",
    "   (3, 'sim', 'password')     \n",
    "    \n",
    "]\n",
    "\n",
    "cursor.executemany(insert_query, users)\n",
    "\n",
    "connection.commit()\n",
    "connection.close()"
   ]
  },
  {
   "cell_type": "code",
   "execution_count": 11,
   "metadata": {
    "collapsed": true
   },
   "outputs": [],
   "source": [
    "connection = sqlite3.connect('data.db')\n",
    "\n",
    "cursor = connection.cursor()"
   ]
  },
  {
   "cell_type": "code",
   "execution_count": 14,
   "metadata": {},
   "outputs": [
    {
     "name": "stdout",
     "output_type": "stream",
     "text": [
      "(1, 'tym', 'password')\n",
      "(1, 'tym', 'password')\n",
      "(2, 'bob', 'password')\n",
      "(3, 'sim', 'password')\n"
     ]
    }
   ],
   "source": [
    "select_query = \"SELECT * FROM users\"\n",
    "for row in cursor.execute(select_query):\n",
    "    print(row)"
   ]
  },
  {
   "cell_type": "code",
   "execution_count": 15,
   "metadata": {
    "collapsed": true
   },
   "outputs": [],
   "source": [
    "connection.commit()\n",
    "connection.close()"
   ]
  },
  {
   "cell_type": "code",
   "execution_count": null,
   "metadata": {
    "collapsed": true
   },
   "outputs": [],
   "source": []
  }
 ],
 "metadata": {
  "kernelspec": {
   "display_name": "Python 3",
   "language": "python",
   "name": "python3"
  },
  "language_info": {
   "codemirror_mode": {
    "name": "ipython",
    "version": 3
   },
   "file_extension": ".py",
   "mimetype": "text/x-python",
   "name": "python",
   "nbconvert_exporter": "python",
   "pygments_lexer": "ipython3",
   "version": "3.6.3"
  }
 },
 "nbformat": 4,
 "nbformat_minor": 2
}
