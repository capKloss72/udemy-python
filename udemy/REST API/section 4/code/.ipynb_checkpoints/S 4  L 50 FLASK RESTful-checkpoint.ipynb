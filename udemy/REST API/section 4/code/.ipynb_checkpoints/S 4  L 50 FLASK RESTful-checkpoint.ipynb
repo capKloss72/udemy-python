{
 "cells": [
  {
   "cell_type": "code",
   "execution_count": null,
   "metadata": {},
   "outputs": [
    {
     "name": "stderr",
     "output_type": "stream",
     "text": [
      " * Running on http://127.0.0.1:5000/ (Press CTRL+C to quit)\n",
      "127.0.0.1 - - [09/Jan/2018 09:29:22] \"GET /student/tym HTTP/1.1\" 200 -\n",
      "127.0.0.1 - - [09/Jan/2018 09:30:22] \"POST /student/tym HTTP/1.1\" 405 -\n",
      "127.0.0.1 - - [09/Jan/2018 09:30:27] \"GET /student/tym HTTP/1.1\" 200 -\n",
      "127.0.0.1 - - [09/Jan/2018 09:33:00] \"GET /items HTTP/1.1\" 404 -\n",
      "127.0.0.1 - - [09/Jan/2018 09:35:18] \"GET /items/%3Cname%3E HTTP/1.1\" 404 -\n",
      "127.0.0.1 - - [09/Jan/2018 09:38:55] \"DELETE /items/%3Cname%3E HTTP/1.1\" 404 -\n"
     ]
    }
   ],
   "source": [
    "from flask import Flask\n",
    "from flask_restful import Resource, Api\n",
    "\n",
    "app = Flask(__name__)\n",
    "api = Api(app)\n",
    "\n",
    "class Student(Resource):\n",
    "    def get(self, name):\n",
    "       return {'student': name} \n",
    "\n",
    "api.add_resource(Student, '/student/<string:name>') # http://127.0.0.1/student/tym\n",
    "app.run(port=5000)"
   ]
  },
  {
   "cell_type": "code",
   "execution_count": null,
   "metadata": {
    "collapsed": true
   },
   "outputs": [],
   "source": []
  }
 ],
 "metadata": {
  "kernelspec": {
   "display_name": "Python 3",
   "language": "python",
   "name": "python3"
  },
  "language_info": {
   "codemirror_mode": {
    "name": "ipython",
    "version": 3
   },
   "file_extension": ".py",
   "mimetype": "text/x-python",
   "name": "python",
   "nbconvert_exporter": "python",
   "pygments_lexer": "ipython3",
   "version": "3.6.3"
  }
 },
 "nbformat": 4,
 "nbformat_minor": 2
}
