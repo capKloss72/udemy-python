{
 "cells": [
  {
   "cell_type": "code",
   "execution_count": null,
   "metadata": {
    "scrolled": false
   },
   "outputs": [
    {
     "name": "stderr",
     "output_type": "stream",
     "text": [
      " * Running on http://127.0.0.1:5001/ (Press CTRL+C to quit)\n",
      "127.0.0.1 - - [09/Jan/2018 10:54:07] \"POST /item/chair HTTP/1.1\" 201 -\n",
      "127.0.0.1 - - [09/Jan/2018 10:54:16] \"POST /item/chair HTTP/1.1\" 201 -\n",
      "127.0.0.1 - - [09/Jan/2018 10:54:22] \"GET /items HTTP/1.1\" 200 -\n"
     ]
    }
   ],
   "source": [
    "from flask import Flask, request, jsonify\n",
    "from flask_restful import Resource, Api\n",
    "\n",
    "app = Flask(__name__)\n",
    "api = Api(app)\n",
    "\n",
    "items = []\n",
    "\n",
    "class Item(Resource):\n",
    "    def get(self, name):\n",
    "        for item in items:\n",
    "            if item['name'] == name:\n",
    "                return item\n",
    "        return {'item': None}, 404\n",
    "        \n",
    "    def post(self, name):\n",
    "        data = request.get_json()\n",
    "        new_item = {\n",
    "                'name': name,\n",
    "                'price': data['price']\n",
    "            }\n",
    "        items.append(new_item)\n",
    "        return new_item, 201\n",
    "    \n",
    "class ItemList(Resource):\n",
    "    def get(self):\n",
    "        return {'items': items}\n",
    "\n",
    "api.add_resource(Item, '/item/<string:name>') # http://127.0.0.1/itemt/<item name>\n",
    "api.add_resource(ItemList, '/items')\n",
    "app.run(port=5001)"
   ]
  },
  {
   "cell_type": "code",
   "execution_count": null,
   "metadata": {},
   "outputs": [],
   "source": []
  },
  {
   "cell_type": "code",
   "execution_count": null,
   "metadata": {
    "collapsed": true
   },
   "outputs": [],
   "source": []
  }
 ],
 "metadata": {
  "kernelspec": {
   "display_name": "Python 3",
   "language": "python",
   "name": "python3"
  },
  "language_info": {
   "codemirror_mode": {
    "name": "ipython",
    "version": 3
   },
   "file_extension": ".py",
   "mimetype": "text/x-python",
   "name": "python",
   "nbconvert_exporter": "python",
   "pygments_lexer": "ipython3",
   "version": "3.6.3"
  }
 },
 "nbformat": 4,
 "nbformat_minor": 2
}
