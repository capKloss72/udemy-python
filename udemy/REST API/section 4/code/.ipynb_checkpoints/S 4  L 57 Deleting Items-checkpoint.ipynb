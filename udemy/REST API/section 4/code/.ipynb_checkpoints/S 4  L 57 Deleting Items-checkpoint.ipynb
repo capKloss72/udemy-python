{
 "cells": [
  {
   "cell_type": "code",
   "execution_count": null,
   "metadata": {
    "scrolled": false
   },
   "outputs": [
    {
     "name": "stderr",
     "output_type": "stream",
     "text": [
      " * Running on http://127.0.0.1:5001/ (Press CTRL+C to quit)\n",
      "127.0.0.1 - - [09/Jan/2018 12:28:16] \"POST /auth HTTP/1.1\" 200 -\n",
      "127.0.0.1 - - [09/Jan/2018 12:28:34] \"GET /item/piano HTTP/1.1\" 404 -\n",
      "127.0.0.1 - - [09/Jan/2018 12:28:40] \"POST /item/piano HTTP/1.1\" 201 -\n",
      "127.0.0.1 - - [09/Jan/2018 12:28:55] \"POST /item/chair HTTP/1.1\" 201 -\n",
      "127.0.0.1 - - [09/Jan/2018 12:28:58] \"GET /items HTTP/1.1\" 200 -\n",
      "[2018-01-09 12:29:07,345] ERROR in app: Exception on /item/chair [DELETE]\n",
      "Traceback (most recent call last):\n",
      "  File \"C:\\code\\Anaconda3\\lib\\site-packages\\flask\\app.py\", line 1612, in full_dispatch_request\n",
      "    rv = self.dispatch_request()\n",
      "  File \"C:\\code\\Anaconda3\\lib\\site-packages\\flask\\app.py\", line 1598, in dispatch_request\n",
      "    return self.view_functions[rule.endpoint](**req.view_args)\n",
      "  File \"C:\\code\\Anaconda3\\lib\\site-packages\\flask_restful\\__init__.py\", line 480, in wrapper\n",
      "    resp = resource(*args, **kwargs)\n",
      "  File \"C:\\code\\Anaconda3\\lib\\site-packages\\flask\\views.py\", line 84, in view\n",
      "    return self.dispatch_request(*args, **kwargs)\n",
      "  File \"C:\\code\\Anaconda3\\lib\\site-packages\\flask_restful\\__init__.py\", line 595, in dispatch_request\n",
      "    resp = meth(*args, **kwargs)\n",
      "  File \"<ipython-input-2-084cf6dc8a1b>\", line 34, in delete\n",
      "    items = list(filter(lambda x: x['name'] != name, items), None) # return list of items\n",
      "TypeError: list() takes at most 1 argument (2 given)\n",
      "127.0.0.1 - - [09/Jan/2018 12:29:07] \"DELETE /item/chair HTTP/1.1\" 500 -\n"
     ]
    }
   ],
   "source": [
    "from flask import Flask, request, jsonify\n",
    "from flask_restful import Resource, Api\n",
    "from flask_jwt import JWT\n",
    "from flask_jwt import jwt_required\n",
    "\n",
    "app = Flask(__name__)\n",
    "app.secret_key = 'tym'\n",
    "api = Api(app)\n",
    "\n",
    "jwt = JWT(app, authenticate, identity) # new endpoint /auth\n",
    "\n",
    "items = []\n",
    "\n",
    "class Item(Resource):\n",
    "    @jwt_required()\n",
    "    def get(self, name):\n",
    "        item = next(filter(lambda x: x['name'] == name, items), None) # first item found\n",
    "        return {'item': item}, 200 if item else 404\n",
    "        \n",
    "    def post(self, name):\n",
    "        if next(filter(lambda x: x['name'] == name, items), None) is not None:\n",
    "            return {'message': \"An item with name '{}' already exists\".format(name)}, 400\n",
    "        \n",
    "        data = request.get_json()\n",
    "        new_item = {\n",
    "                'name': name,\n",
    "                'price': data['price']\n",
    "            }\n",
    "        items.append(new_item)\n",
    "        return new_item, 201\n",
    "    \n",
    "    def delete(self, name):\n",
    "        global items\n",
    "        items = list(filter(lambda x: x['name'] != name, items)) # return list of items\n",
    "        return {'message': \"'{}' item deleted\".format(name)}\n",
    "    \n",
    "class ItemList(Resource):\n",
    "    def get(self):\n",
    "        return {'items': items}\n",
    "\n",
    "api.add_resource(Item, '/item/<string:name>') # http://127.0.0.1/itemt/<item name>\n",
    "api.add_resource(ItemList, '/items')\n",
    "app.run(port=5001)"
   ]
  },
  {
   "cell_type": "code",
   "execution_count": 1,
   "metadata": {
    "collapsed": true
   },
   "outputs": [],
   "source": [
    "from werkzeug.security import safe_str_cmp\n",
    "# user.py\n",
    "\n",
    "class User(object):\n",
    "    def __init__(self, id, username, password):\n",
    "        self.id = id\n",
    "        self.username = username\n",
    "        self.password = password  \n",
    "\n",
    "users = [\n",
    "    User(1, 'bob', 'password')\n",
    "]\n",
    "\n",
    "username_mapping = {u.username: u for u in users}\n",
    "userid_mapping = {u.id: u for u in users}\n",
    "\n",
    "def authenticate(username, password):\n",
    "    user = username_mapping.get(username, None)\n",
    "    if user and safe_str_cmp(user.password, password):\n",
    "        return user\n",
    "\n",
    "def identity(payload):\n",
    "    user_id = payload['identity']\n",
    "    return userid_mapping.get(user_id, None)\n",
    "\n"
   ]
  },
  {
   "cell_type": "code",
   "execution_count": 3,
   "metadata": {
    "collapsed": true
   },
   "outputs": [],
   "source": [
    "      "
   ]
  },
  {
   "cell_type": "code",
   "execution_count": null,
   "metadata": {
    "collapsed": true
   },
   "outputs": [],
   "source": []
  }
 ],
 "metadata": {
  "kernelspec": {
   "display_name": "Python 3",
   "language": "python",
   "name": "python3"
  },
  "language_info": {
   "codemirror_mode": {
    "name": "ipython",
    "version": 3
   },
   "file_extension": ".py",
   "mimetype": "text/x-python",
   "name": "python",
   "nbconvert_exporter": "python",
   "pygments_lexer": "ipython3",
   "version": "3.6.3"
  }
 },
 "nbformat": 4,
 "nbformat_minor": 2
}
