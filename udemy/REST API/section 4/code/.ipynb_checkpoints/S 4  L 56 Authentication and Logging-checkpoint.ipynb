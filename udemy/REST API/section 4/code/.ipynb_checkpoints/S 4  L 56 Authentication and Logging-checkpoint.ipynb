{
 "cells": [
  {
   "cell_type": "code",
   "execution_count": null,
   "metadata": {
    "scrolled": false
   },
   "outputs": [
    {
     "name": "stderr",
     "output_type": "stream",
     "text": [
      " * Running on http://127.0.0.1:5001/ (Press CTRL+C to quit)\n",
      "[2018-01-09 12:05:21,510] ERROR in app: Exception on /auth [POST]\n",
      "Traceback (most recent call last):\n",
      "  File \"C:\\code\\Anaconda3\\lib\\site-packages\\flask\\app.py\", line 1982, in wsgi_app\n",
      "    response = self.full_dispatch_request()\n",
      "  File \"C:\\code\\Anaconda3\\lib\\site-packages\\flask\\app.py\", line 1614, in full_dispatch_request\n",
      "    rv = self.handle_user_exception(e)\n",
      "  File \"C:\\code\\Anaconda3\\lib\\site-packages\\flask_restful\\__init__.py\", line 273, in error_router\n",
      "    return original_handler(e)\n",
      "  File \"C:\\code\\Anaconda3\\lib\\site-packages\\flask\\app.py\", line 1517, in handle_user_exception\n",
      "    reraise(exc_type, exc_value, tb)\n",
      "  File \"C:\\code\\Anaconda3\\lib\\site-packages\\flask\\_compat.py\", line 33, in reraise\n",
      "    raise value\n",
      "  File \"C:\\code\\Anaconda3\\lib\\site-packages\\flask\\app.py\", line 1612, in full_dispatch_request\n",
      "    rv = self.dispatch_request()\n",
      "  File \"C:\\code\\Anaconda3\\lib\\site-packages\\flask\\app.py\", line 1598, in dispatch_request\n",
      "    return self.view_functions[rule.endpoint](**req.view_args)\n",
      "  File \"C:\\code\\Anaconda3\\lib\\site-packages\\flask_jwt\\__init__.py\", line 125, in _default_auth_request_handler\n",
      "    access_token = _jwt.jwt_encode_callback(identity)\n",
      "  File \"C:\\code\\Anaconda3\\lib\\site-packages\\flask_jwt\\__init__.py\", line 62, in _default_jwt_encode_handler\n",
      "    payload = _jwt.jwt_payload_callback(identity)\n",
      "  File \"C:\\code\\Anaconda3\\lib\\site-packages\\flask_jwt\\__init__.py\", line 53, in _default_jwt_payload_handler\n",
      "    identity = getattr(identity, 'id') or identity['id']\n",
      "AttributeError: 'User' object has no attribute 'id'\n",
      "127.0.0.1 - - [09/Jan/2018 12:05:21] \"POST /auth HTTP/1.1\" 500 -\n"
     ]
    }
   ],
   "source": [
    "from flask import Flask, request, jsonify\n",
    "from flask_restful import Resource, Api\n",
    "from flask_jwt import JWT\n",
    "from flask_jwt import jwt_required\n",
    "\n",
    "app = Flask(__name__)\n",
    "app.secret_key = 'tym'\n",
    "api = Api(app)\n",
    "\n",
    "jwt = JWT(app, authenticate, identity) # new endpoint /auth\n",
    "\n",
    "items = []\n",
    "\n",
    "class Item(Resource):\n",
    "    @jwt_required()\n",
    "    def get(self, name):\n",
    "        item = next(filter(lambda x: x['name'] == name, items), None) # first item found\n",
    "        return {'item': item}, 200 if item else 404\n",
    "        \n",
    "    def post(self, name):\n",
    "        if next(filter(lambda x: x['name'] == name, items), None) is not None:\n",
    "            return {'message': \"An item with name '{}' already exists\".format(name)}, 400\n",
    "        \n",
    "        data = request.get_json()\n",
    "        new_item = {\n",
    "                'name': name,\n",
    "                'price': data['price']\n",
    "            }\n",
    "        items.append(new_item)\n",
    "        return new_item, 201\n",
    "    \n",
    "class ItemList(Resource):\n",
    "    def get(self):\n",
    "        return {'items': items}\n",
    "\n",
    "api.add_resource(Item, '/item/<string:name>') # http://127.0.0.1/itemt/<item name>\n",
    "api.add_resource(ItemList, '/items')\n",
    "app.run(port=5001)"
   ]
  },
  {
   "cell_type": "code",
   "execution_count": 1,
   "metadata": {},
   "outputs": [],
   "source": [
    "from werkzeug.security import safe_str_cmp\n",
    "# user.py\n",
    "\n",
    "class User(object):\n",
    "    def __init__(self, id, username, password):\n",
    "        self.id = id\n",
    "        self.username = username\n",
    "        self.password = password  \n",
    "\n",
    "users = [\n",
    "    User(1, 'bob', 'password')\n",
    "]\n",
    "\n",
    "username_mapping = {u.username: u for u in users}\n",
    "userid_mapping = {u.id: u for u in users}\n",
    "\n",
    "def authenticate(username, password):\n",
    "    user = username_mapping.get(username, None)\n",
    "    if user and safe_str_cmp(user.password, password):\n",
    "        return user\n",
    "\n",
    "def identity(payload):\n",
    "    user_id = payload['identity']\n",
    "    return userid_mapping.get(user_id, None)\n",
    "\n"
   ]
  },
  {
   "cell_type": "code",
   "execution_count": 3,
   "metadata": {},
   "outputs": [],
   "source": [
    "      "
   ]
  },
  {
   "cell_type": "code",
   "execution_count": null,
   "metadata": {
    "collapsed": true
   },
   "outputs": [],
   "source": []
  }
 ],
 "metadata": {
  "kernelspec": {
   "display_name": "Python 3",
   "language": "python",
   "name": "python3"
  },
  "language_info": {
   "codemirror_mode": {
    "name": "ipython",
    "version": 3
   },
   "file_extension": ".py",
   "mimetype": "text/x-python",
   "name": "python",
   "nbconvert_exporter": "python",
   "pygments_lexer": "ipython3",
   "version": "3.6.3"
  }
 },
 "nbformat": 4,
 "nbformat_minor": 2
}
