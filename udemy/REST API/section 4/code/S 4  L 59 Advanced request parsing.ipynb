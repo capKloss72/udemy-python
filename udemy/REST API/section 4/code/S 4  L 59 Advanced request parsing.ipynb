{
 "cells": [
  {
   "cell_type": "code",
   "execution_count": null,
   "metadata": {
    "scrolled": false
   },
   "outputs": [
    {
     "name": "stderr",
     "output_type": "stream",
     "text": [
      " * Running on http://127.0.0.1:5001/ (Press CTRL+C to quit)\n"
     ]
    }
   ],
   "source": [
    "from flask import Flask, request, jsonify\n",
    "from flask_restful import Resource, Api, reqparse\n",
    "from flask_jwt import JWT\n",
    "from flask_jwt import jwt_required\n",
    "\n",
    "app = Flask(__name__)\n",
    "app.secret_key = 'tym'\n",
    "api = Api(app)\n",
    "\n",
    "jwt = JWT(app, authenticate, identity) # new endpoint /auth\n",
    "\n",
    "items = []\n",
    "\n",
    "class Item(Resource):\n",
    "    @jwt_required()\n",
    "    def get(self, name):\n",
    "        item = next(filter(lambda x: x['name'] == name, items), None) # first item found\n",
    "        return {'item': item}, 200 if item else 404\n",
    "        \n",
    "    def post(self, name):\n",
    "        if next(filter(lambda x: x['name'] == name, items), None) is not None:\n",
    "            return {'message': \"An item with name '{}' already exists\".format(name)}, 400\n",
    "        \n",
    "        parser = reqparse.RequestParser()\n",
    "        parser.add_argument('price', \n",
    "                            type=float, \n",
    "                            required=True, \n",
    "                            help='This field cannot be left blank'\n",
    "        )\n",
    "        data = parser.parse_args()\n",
    "        new_item = {\n",
    "                'name': name,\n",
    "                'price': data['price']\n",
    "            }\n",
    "        items.append(new_item)\n",
    "        return new_item, 201\n",
    "    \n",
    "    def delete(self, name):\n",
    "        global items\n",
    "        items = list(filter(lambda x: x['name'] != name, items)) # return list of items\n",
    "        return {'message': \"'{}' item deleted\".format(name)}\n",
    "    \n",
    "    def put(self, name):\n",
    "        parser = reqparse.RequestParser()\n",
    "        parser.add_argument('price', \n",
    "                            type=float, \n",
    "                            required=True, \n",
    "                            help='This field cannot be left blank'\n",
    "        )\n",
    "        data = parser.parse_args()\n",
    "        \n",
    "        item = next(filter(lambda x: x['name'] == name, items), None)\n",
    "        if item is None:\n",
    "            new_item = {\n",
    "                'name': name,\n",
    "                'price': data['price']\n",
    "            }\n",
    "            items.append(new_item)\n",
    "        else:\n",
    "            item.update(data)\n",
    "        \n",
    "        return item, 201\n",
    "    \n",
    "class ItemList(Resource):\n",
    "    def get(self):\n",
    "        return {'items': items}\n",
    "\n",
    "api.add_resource(Item, '/item/<string:name>') # http://127.0.0.1/itemt/<item name>\n",
    "api.add_resource(ItemList, '/items')\n",
    "app.run(port=5001)"
   ]
  },
  {
   "cell_type": "code",
   "execution_count": null,
   "metadata": {
    "collapsed": true
   },
   "outputs": [],
   "source": [
    "from werkzeug.security import safe_str_cmp\n",
    "# user.py\n",
    "\n",
    "class User(object):\n",
    "    def __init__(self, id, username, password):\n",
    "        self.id = id\n",
    "        self.username = username\n",
    "        self.password = password  \n",
    "\n",
    "users = [\n",
    "    User(1, 'bob', 'password')\n",
    "]\n",
    "\n",
    "username_mapping = {u.username: u for u in users}\n",
    "userid_mapping = {u.id: u for u in users}\n",
    "\n",
    "def authenticate(username, password):\n",
    "    user = username_mapping.get(username, None)\n",
    "    if user and safe_str_cmp(user.password, password):\n",
    "        return user\n",
    "\n",
    "def identity(payload):\n",
    "    user_id = payload['identity']\n",
    "    return userid_mapping.get(user_id, None)\n",
    "\n"
   ]
  },
  {
   "cell_type": "code",
   "execution_count": 3,
   "metadata": {
    "collapsed": true
   },
   "outputs": [],
   "source": [
    "      "
   ]
  },
  {
   "cell_type": "code",
   "execution_count": null,
   "metadata": {
    "collapsed": true
   },
   "outputs": [],
   "source": []
  }
 ],
 "metadata": {
  "kernelspec": {
   "display_name": "Python 3",
   "language": "python",
   "name": "python3"
  },
  "language_info": {
   "codemirror_mode": {
    "name": "ipython",
    "version": 3
   },
   "file_extension": ".py",
   "mimetype": "text/x-python",
   "name": "python",
   "nbconvert_exporter": "python",
   "pygments_lexer": "ipython3",
   "version": "3.6.3"
  }
 },
 "nbformat": 4,
 "nbformat_minor": 2
}
