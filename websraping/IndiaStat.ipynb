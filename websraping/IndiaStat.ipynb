{
 "cells": [
  {
   "cell_type": "code",
   "execution_count": 45,
   "metadata": {
    "collapsed": true
   },
   "outputs": [],
   "source": [
    "import requests\n",
    "from bs4 import BeautifulSoup\n",
    "from collections import OrderedDict\n",
    "import re\n",
    "\n",
    "class RealEstateComScraper(object):\n",
    "\n",
    "    def __init__(self, search_url, output_cvs=\"listings.csv\", domain_url=\"https://www.realestate.com.au\"):\n",
    "        self.search_url = search_url\n",
    "        self.output_cvs = output_cvs\n",
    "        self.domain_url = domain_url\n",
    "\n",
    "    def get_page_listings(self, page_url):\n",
    "        \"\"\"\n",
    "        Returns a Result set containing all listings on the page\n",
    "        :rtype: bs4.element.ResultSet\n",
    "        \"\"\"\n",
    "        r = requests.get(page_url)\n",
    "        c = r.content\n",
    "        soup = BeautifulSoup(c, \"html.parser\")\n",
    "        return soup.find_all(\"div\", {\"class\": \"listingInfo rui-clearfix\"})\n",
    "\n",
    "    def get_page_listings_details_urls(self, page_listings) -> list:\n",
    "        page_listings_details_urls = []\n",
    "        for listing in page_listings:\n",
    "            details_url = self.domain_url + listing.find(\"h2\", {\"class\": \"rui-truncate\"}).find('a')['href']\n",
    "            page_listings_details_urls.append(details_url)\n",
    "        return page_listings_details_urls\n",
    "\n",
    "    def get_property_details(self, page_listings_details_urls) -> list:\n",
    "        feature_dict = OrderedDict()\n",
    "        feature_list = []\n",
    "        for property in page_listings_details_urls:\n",
    "            house_request = requests.get(property)\n",
    "            house_content = house_request.content\n",
    "            house_soup = BeautifulSoup(house_content, \"html.parser\")\n",
    "            house_base_content = house_soup.find(\"span\", {\"class\": \"street-address\"}).text\n",
    "            house_info = house_soup.find_all(\"div\", {\"id\": \"primaryContent\"})\n",
    "            #print(house_base_content)\n",
    "            feature_dict['Street']=house_soup.find(\"span\", {\"class\": \"street-address\"}).text\n",
    "            feature_dict['Locality']=house_soup.find(\"span\", {\"itemprop\": \"addressLocality\"}).text\n",
    "            feature_dict['Region']=house_soup.find(\"span\", {\"itemprop\": \"addressRegion\"}).text\n",
    "            feature_dict['Post Code']=house_soup.find(\"span\", {\"itemprop\": \"postalCode\"}).text\n",
    "            for features in house_info:\n",
    "                for feature in features.find_all(\"div\", {\"class\": \"featureList\"}):\n",
    "                    for line in feature.find_all(\"li\"):\n",
    "                        try:\n",
    "                            heading = line.text\n",
    "                            lst = re.findall('[^:]+', heading)\n",
    "                            if len(lst) > 1:\n",
    "                                feature_dict[lst[0]] = lst[1]\n",
    "                        except AttributeError:\n",
    "                            pass\n",
    "            feature_list.append(feature_dict)\n",
    "        return feature_list    "
   ]
  },
  {
   "cell_type": "code",
   "execution_count": 2,
   "metadata": {},
   "outputs": [
    {
     "name": "stdout",
     "output_type": "stream",
     "text": [
      "Results <div class=\"body_left\">\n",
      "<br/><br/><h1 style=\"text-align:center;\"> Sorry, an error occurred while processing your request.</h1>\n",
      "<h1 style=\"text-align:center;\">Try later!</h1>\n",
      "<br/><br/><br/><br/><br/><br/><br/><br/><br/>\n",
      "</div>\n"
     ]
    }
   ],
   "source": [
    "import requests\n",
    "from bs4 import BeautifulSoup\n",
    "from collections import OrderedDict\n",
    "import re\n",
    "\n",
    "base_url = \"https://indiastat.com/Power/26/specimen.aspx\"\n",
    "\n",
    "headers = {'User-Agent': '\"User-Agent\": \"Mozilla/5.0 (Windows NT 10.0; Win64; x64) AppleWebKit/537.36 (KHTML, like Gecko) Chrome/63.0.3239.84 Safari/537.36\"'}\n",
    "r = requests.get(base_url, headers=headers)\n",
    "c = r.content\n",
    "\n",
    "soup = BeautifulSoup(c, \"html.parser\")\n",
    "\n",
    "all = soup.find(\"div\", {\"class\":\"body_left\"})\n",
    "\n",
    "\n",
    "print(\"Results \" + str(all))"
   ]
  },
  {
   "cell_type": "code",
   "execution_count": 7,
   "metadata": {},
   "outputs": [
    {
     "name": "stdout",
     "output_type": "stream",
     "text": [
      "[<div class=\"featureList\"><ul><li class=\"header\">General Features</li> <li>Property Type:<span>House</span></li> <li>Bedrooms:<span>5</span></li> <li>Bathrooms:<span>2</span></li> <li>Building Size:<span>291.00 m² (31 squares) approx</span></li> <li>Land Size:<span>1008 m² (approx)</span></li></ul> <ul><li class=\"header\">Indoor Features</li> <li>Floorboards</li> <li>Air Conditioning</li></ul></div>, <div class=\"featureList\"><ul><li class=\"header\">Outdoor Features</li> <li>Secure Parking</li> <li>Garage Spaces:<span>1</span></li></ul> <ul><li class=\"header\">Other Features</li> <li>Close to Schools, Close to Shops, Close to Transport, Garden, Formal Lounge</li></ul></div>]\n"
     ]
    }
   ],
   "source": [
    "import requests\n",
    "from bs4 import BeautifulSoup\n",
    "from collections import OrderedDict\n",
    "import re\n",
    "\n",
    "base_url = \"https://indiastat.com/Power/26/specimen.aspx\"\n",
    "domain_base_url = \"https://www.realestate.com.au\"\n",
    "\n",
    "r = requests.get(base_url)\n",
    "c = r.content\n",
    "\n",
    "soup = BeautifulSoup(c, \"html.parser\")\n",
    "\n",
    "#all = soup.find_all(\"div\", {\"class\":\"listingInfo rui-clearfix\"})\n",
    "all = soup.find_all(\"tbody\")\n",
    "\n",
    "agent = all[1].find(\"figcaption\").text\n",
    "\n",
    "\n",
    "#for item in all:\n",
    "    #print(item.find(\"h2\", {\"class\":\"rui-truncate\"}).find('a')['href'])s\n",
    "\n",
    "\n",
    "listing_details_url = all[1].find(\"h2\", {\"class\":\"rui-truncate\"})\n",
    "tag = listing_details_url.find('a')['href']\n",
    "\n",
    "house_request = requests.get(domain_base_url+tag)\n",
    "house_content = house_request.content\n",
    "house_soup = BeautifulSoup(house_content, \"html.parser\")\n",
    "house_info = house_soup.find_all(\"div\", {\"id\":\"primaryContent\"})\n",
    "\n",
    "features = house_info[0].find_all(\"div\", {\"id\":\"features\"})\n",
    "feature_lists = house_info[0].find_all(\"div\", {\"class\":\"featureList\"})\n",
    "\n",
    "for fl in house_info:\n",
    "    print(fl.find_all(\"div\", {\"class\":\"featureList\"}))\n"
   ]
  },
  {
   "cell_type": "code",
   "execution_count": 2,
   "metadata": {},
   "outputs": [
    {
     "data": {
      "text/plain": [
       "bs4.element.ResultSet"
      ]
     },
     "execution_count": 2,
     "metadata": {},
     "output_type": "execute_result"
    }
   ],
   "source": [
    "listing_details_urls"
   ]
  },
  {
   "cell_type": "code",
   "execution_count": 2,
   "metadata": {},
   "outputs": [
    {
     "name": "stdout",
     "output_type": "stream",
     "text": [
      "OrderedDict([('Property Type', 'House'), ('Bedrooms', '5'), ('Bathrooms', '2'), ('Building Size', '291.00 m² (31 squares) approx'), ('Land Size', '1008 m² (approx)'), ('Garage Spaces', '1')])\n"
     ]
    }
   ],
   "source": [
    "d = OrderedDict()\n",
    "for feature in feature_lists:\n",
    "    for line in feature.find_all(\"li\"):\n",
    "        feature_type = line.find(\"span\")\n",
    "        try:\n",
    "            heading = line.text\n",
    "            lst = re.findall('[^:]+',heading)\n",
    "            if len(lst) > 1:\n",
    "                d[lst[0]]=lst[1]                \n",
    "        except AttributeError:\n",
    "            pass\n",
    "print(d)"
   ]
  },
  {
   "cell_type": "code",
   "execution_count": 3,
   "metadata": {},
   "outputs": [
    {
     "data": {
      "text/plain": [
       "'5'"
      ]
     },
     "execution_count": 3,
     "metadata": {},
     "output_type": "execute_result"
    }
   ],
   "source": []
  },
  {
   "cell_type": "code",
   "execution_count": 85,
   "metadata": {
    "collapsed": true
   },
   "outputs": [],
   "source": [
    "s = 'Property Type:Hou'"
   ]
  },
  {
   "cell_type": "code",
   "execution_count": 86,
   "metadata": {},
   "outputs": [
    {
     "data": {
      "text/plain": [
       "'Property Type'"
      ]
     },
     "execution_count": 86,
     "metadata": {},
     "output_type": "execute_result"
    }
   ],
   "source": [
    "s[:-4]"
   ]
  },
  {
   "cell_type": "code",
   "execution_count": 28,
   "metadata": {},
   "outputs": [
    {
     "data": {
      "text/plain": [
       "'/property-house-wa-attadale-127184642'"
      ]
     },
     "execution_count": 28,
     "metadata": {},
     "output_type": "execute_result"
    }
   ],
   "source": [
    "tag = listing_details_url.find('a')['href']"
   ]
  },
  {
   "cell_type": "code",
   "execution_count": null,
   "metadata": {
    "collapsed": true
   },
   "outputs": [],
   "source": []
  }
 ],
 "metadata": {
  "kernelspec": {
   "display_name": "Python 3",
   "language": "python",
   "name": "python3"
  },
  "language_info": {
   "codemirror_mode": {
    "name": "ipython",
    "version": 3
   },
   "file_extension": ".py",
   "mimetype": "text/x-python",
   "name": "python",
   "nbconvert_exporter": "python",
   "pygments_lexer": "ipython3",
   "version": "3.6.3"
  }
 },
 "nbformat": 4,
 "nbformat_minor": 2
}
