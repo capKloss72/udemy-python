{
 "cells": [
  {
   "cell_type": "code",
   "execution_count": 1,
   "metadata": {
    "collapsed": true
   },
   "outputs": [],
   "source": [
    "import requests\n",
    "from bs4 import BeautifulSoup\n",
    "from collections import OrderedDict\n",
    "import re\n",
    "\n",
    "base_url = \"https://www.realestate.com.au/buy/in-attadale,+wa+6156/list-1\"\n",
    "domain_base_url = \"https://www.realestate.com.au\"\n",
    "\n",
    "r = requests.get(base_url)\n",
    "c = r.content\n",
    "\n",
    "soup = BeautifulSoup(c, \"html.parser\")\n",
    "\n",
    "all = soup.find_all(\"div\", {\"class\":\"listingInfo rui-clearfix\"})\n",
    "\n",
    "agent = all[1].find(\"figcaption\").text\n",
    "listing_details_url = all[1].find(\"h2\", {\"class\":\"rui-truncate\"})\n",
    "tag = listing_details_url.find('a')['href']\n",
    "\n",
    "house_request = requests.get(domain_base_url+tag)\n",
    "house_content = house_request.content\n",
    "house_soup = BeautifulSoup(house_content, \"html.parser\")\n",
    "house_info = house_soup.find_all(\"div\", {\"id\":\"primaryContent\"})\n",
    "\n",
    "features = house_info[0].find_all(\"div\", {\"id\":\"features\"})\n",
    "feature_lists = house_info[0].find_all(\"div\", {\"class\":\"featureList\"})\n",
    "\n",
    "\n",
    "#price = all[0].find(\"h4\", {\"class\":\"propPrice\"}).text.replace('\\n','').replace(' ','')\n",
    "\n",
    "#page_numbers = soup.find_all(\"span\", {\"class\":\"PageNumbers\"})"
   ]
  },
  {
   "cell_type": "code",
   "execution_count": 2,
   "metadata": {},
   "outputs": [
    {
     "name": "stdout",
     "output_type": "stream",
     "text": [
      "OrderedDict([('Property Type', 'House'), ('Bedrooms', '5'), ('Bathrooms', '2'), ('Building Size', '291.00 m² (31 squares) approx'), ('Land Size', '1008 m² (approx)'), ('Garage Spaces', '1')])\n"
     ]
    }
   ],
   "source": [
    "d = OrderedDict()\n",
    "for feature in feature_lists:\n",
    "    for line in feature.find_all(\"li\"):\n",
    "        feature_type = line.find(\"span\")\n",
    "        try:\n",
    "            heading = line.text\n",
    "            lst = re.findall('[^:]+',heading)\n",
    "            if len(lst) > 1:\n",
    "                d[lst[0]]=lst[1]                \n",
    "        except AttributeError:\n",
    "            pass\n",
    "print(d)"
   ]
  },
  {
   "cell_type": "code",
   "execution_count": 3,
   "metadata": {},
   "outputs": [
    {
     "data": {
      "text/plain": [
       "'5'"
      ]
     },
     "execution_count": 3,
     "metadata": {},
     "output_type": "execute_result"
    }
   ],
   "source": [
    "d['Bedrooms']"
   ]
  },
  {
   "cell_type": "code",
   "execution_count": 85,
   "metadata": {
    "collapsed": true
   },
   "outputs": [],
   "source": [
    "s = 'Property Type:Hou'"
   ]
  },
  {
   "cell_type": "code",
   "execution_count": 86,
   "metadata": {},
   "outputs": [
    {
     "data": {
      "text/plain": [
       "'Property Type'"
      ]
     },
     "execution_count": 86,
     "metadata": {},
     "output_type": "execute_result"
    }
   ],
   "source": [
    "s[:-4]"
   ]
  },
  {
   "cell_type": "code",
   "execution_count": 28,
   "metadata": {},
   "outputs": [
    {
     "data": {
      "text/plain": [
       "'/property-house-wa-attadale-127184642'"
      ]
     },
     "execution_count": 28,
     "metadata": {},
     "output_type": "execute_result"
    }
   ],
   "source": [
    "tag = listing_details_url.find('a')['href']"
   ]
  },
  {
   "cell_type": "code",
   "execution_count": null,
   "metadata": {
    "collapsed": true
   },
   "outputs": [],
   "source": []
  }
 ],
 "metadata": {
  "kernelspec": {
   "display_name": "Python 3",
   "language": "python",
   "name": "python3"
  },
  "language_info": {
   "codemirror_mode": {
    "name": "ipython",
    "version": 3
   },
   "file_extension": ".py",
   "mimetype": "text/x-python",
   "name": "python",
   "nbconvert_exporter": "python",
   "pygments_lexer": "ipython3",
   "version": "3.6.3"
  }
 },
 "nbformat": 4,
 "nbformat_minor": 2
}
