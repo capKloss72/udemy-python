{
 "cells": [
  {
   "cell_type": "code",
   "execution_count": 141,
   "metadata": {
    "collapsed": true
   },
   "outputs": [],
   "source": [
    "import requests\n",
    "from bs4 import BeautifulSoup\n",
    "from collections import OrderedDict\n",
    "\n",
    "r = requests.get(\"http://www.pythonhow.com/real-estate/rock-springs-wy/LCWYROCKSPRINGS/\")\n",
    "c = r.content\n",
    "\n",
    "soup = BeautifulSoup(c, \"html.parser\")\n",
    "\n",
    "all = soup.find_all(\"div\", {\"class\":\"propertyRow\"})\n",
    "\n",
    "price = all[0].find(\"h4\", {\"class\":\"propPrice\"}).text.replace('\\n','').replace(' ','')\n",
    "\n",
    "page_numbers = soup.find_all(\"span\", {\"class\":\"PageNumbers\"})"
   ]
  },
  {
   "cell_type": "code",
   "execution_count": 169,
   "metadata": {},
   "outputs": [],
   "source": [
    "def get_search_pages():\n",
    "    page_numbers = soup.find_all(\"span\", {\"class\":\"PageNumbers\"})\n",
    "    base_url = \"http://www.pythonhow.com/real-estate/rock-springs-wy/LCWYROCKSPRINGS/\"\n",
    "    urls = []\n",
    "    for line in page_numbers:   \n",
    "        for i in line.find_all('a', href=True):\n",
    "            if \"html\" in i['href']:\n",
    "                href = base_url+i['href']\n",
    "                urls.append(href)\n",
    "            else:\n",
    "                urls.append(base_url)\n",
    "\n",
    "    return urls"
   ]
  },
  {
   "cell_type": "code",
   "execution_count": 179,
   "metadata": {},
   "outputs": [],
   "source": [
    "import requests\n",
    "from bs4 import BeautifulSoup\n",
    "from collections import OrderedDict\n",
    "import pandas\n",
    "\n",
    "listings = []\n",
    "urls = get_search_pages()\n",
    "\n",
    "for page in urls:\n",
    "    r = requests.get(page)\n",
    "    c = r.content\n",
    "    soup = BeautifulSoup(c, \"html.parser\")\n",
    "    all = soup.find_all(\"div\", {\"class\":\"propertyRow\"})\n",
    "    listings = listings + (generate_listings(all))\n",
    "    \n",
    "df=pandas.DataFrame(listings)\n",
    "df.to_csv(\"complete_new.csv\")\n",
    "df.to_excel(\"complete_excel.xlsx\")\n",
    "df.to_json(\"complete_json.json\")"
   ]
  },
  {
   "cell_type": "code",
   "execution_count": 134,
   "metadata": {},
   "outputs": [],
   "source": [
    "def generate_listings(propertyRows):\n",
    "    info_list = []\n",
    "    for item in propertyRows:\n",
    "        d=OrderedDict()\n",
    "        d[\"Address\"]=item.find_all(\"span\", {\"class\":\"propAddressCollapse\"})[0].text\n",
    "        d[\"Locality\"]=item.find_all(\"span\", {\"class\":\"propAddressCollapse\"})[1].text\n",
    "        d[\"Price\"]=item.find(\"h4\", {\"class\":\"propPrice\"}).text.replace('\\n','').replace(' ','')\n",
    "        try:\n",
    "            d[\"Bedrooms\"]=item.find(\"span\", {\"class\":\"infoBed\"}).find(\"b\").text\n",
    "        except AttributeError:\n",
    "            d[\"Bedrooms\"]=None\n",
    "\n",
    "        try:\n",
    "            d[\"Full Bathrooms\"]=item.find(\"span\", {\"class\":\"infoValueFullBath\"}).find(\"b\").text\n",
    "        except AttributeError:\n",
    "            d[\"Full Bathrooms\"]=None\n",
    "\n",
    "        try:\n",
    "            d[\"Half Bathrooms\"]=item.find(\"span\", {\"class\":\"infoValueHalfBath\"}).find(\"b\").text\n",
    "        except AttributeError:\n",
    "            d[\"Half Bathrooms\"]=None\n",
    "\n",
    "        try:\n",
    "            d[\"Sq Feet\"]=item.find(\"span\", {\"class\":\"infoSqFt\"}).find(\"b\").text\n",
    "        except AttributeError:\n",
    "            d[\"Sq Feet\"]=None\n",
    "\n",
    "        for column_group in item.find_all(\"div\", {\"class\":\"columnGroup\"}):\n",
    "            feature_groups = column_group.find_all(\"span\", {\"class\":\"featureGroup\"})\n",
    "            feature_names = column_group.find_all(\"span\", {\"class\":\"featureName\"})\n",
    "            for feature_group, feature_name in zip(feature_groups, feature_names):\n",
    "                if \"Lot Size\" in feature_group.text:\n",
    "                    d[\"Lot Size\"]=feature_name.text \n",
    "\n",
    "        info_list.append(d)\n",
    "    return info_list"
   ]
  },
  {
   "cell_type": "code",
   "execution_count": 128,
   "metadata": {},
   "outputs": [],
   "source": []
  },
  {
   "cell_type": "code",
   "execution_count": null,
   "metadata": {},
   "outputs": [],
   "source": []
  },
  {
   "cell_type": "code",
   "execution_count": 133,
   "metadata": {},
   "outputs": [
    {
     "name": "stdout",
     "output_type": "stream",
     "text": [
      "http://www.pythonhow.com/real-estate/rock-springs-wy/LCWYROCKSPRINGS/t=0&s=0.html\n",
      "http://www.pythonhow.com/real-estate/rock-springs-wy/LCWYROCKSPRINGS/t=0&s=10.html\n",
      "http://www.pythonhow.com/real-estate/rock-springs-wy/LCWYROCKSPRINGS/t=0&s=20.html\n"
     ]
    }
   ],
   "source": [
    "  "
   ]
  },
  {
   "cell_type": "code",
   "execution_count": null,
   "metadata": {
    "collapsed": true
   },
   "outputs": [],
   "source": []
  }
 ],
 "metadata": {
  "kernelspec": {
   "display_name": "Python 3",
   "language": "python",
   "name": "python3"
  },
  "language_info": {
   "codemirror_mode": {
    "name": "ipython",
    "version": 3
   },
   "file_extension": ".py",
   "mimetype": "text/x-python",
   "name": "python",
   "nbconvert_exporter": "python",
   "pygments_lexer": "ipython3",
   "version": "3.6.3"
  }
 },
 "nbformat": 4,
 "nbformat_minor": 2
}
